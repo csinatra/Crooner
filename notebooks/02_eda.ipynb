{
 "cells": [
  {
   "cell_type": "markdown",
   "metadata": {},
   "source": [
    "# Notebook 02: EDA"
   ]
  },
  {
   "cell_type": "markdown",
   "metadata": {},
   "source": [
    "## Contents:"
   ]
  },
  {
   "cell_type": "markdown",
   "metadata": {},
   "source": [
    "## Summary:\n",
    "This notebook contains cleaning and exploration of the dataset with the goal of identifying any underlying trends and preparing the data for modeling. Text will be normalized and song structure will be reviewed."
   ]
  },
  {
   "cell_type": "markdown",
   "metadata": {},
   "source": [
    "Importing necessary libraries."
   ]
  },
  {
   "cell_type": "code",
   "execution_count": 246,
   "metadata": {},
   "outputs": [],
   "source": [
    "import json, time, re, requests, pickle\n",
    "import pandas as pd\n",
    "import psycopg2 as pg2\n",
    "import numpy as np\n",
    "import matplotlib.pyplot as plt\n",
    "import plotly as py\n",
    "import plotly.graph_objs as go\n",
    "\n",
    "from psycopg2.extras import RealDictCursor, Json\n",
    "from psycopg2.extensions import AsIs\n",
    "\n",
    "%matplotlib inline\n",
    "plt.style.use('fivethirtyeight')\n",
    "\n",
    "%run ../assets/sql_cred.py\n",
    "%run ../assets/plotly_cred.py"
   ]
  },
  {
   "cell_type": "markdown",
   "metadata": {},
   "source": [
    "Submitting credentials for access to the Plotly API."
   ]
  },
  {
   "cell_type": "code",
   "execution_count": 208,
   "metadata": {},
   "outputs": [],
   "source": [
    "py.tools.set_credentials_file(username=USERNAME, api_key=API_KEY)"
   ]
  },
  {
   "cell_type": "markdown",
   "metadata": {},
   "source": [
    "Defining a helper function for saving out files with timestamping and file logging."
   ]
  },
  {
   "cell_type": "code",
   "execution_count": 2,
   "metadata": {},
   "outputs": [],
   "source": [
    "def filename_format_log(file_path, \n",
    "                        logfile = '../assets/file_log.txt', \n",
    "                        now = round(time.time()), \n",
    "                        file_description = None): \n",
    "   \n",
    "    try:\n",
    "        ext = re.search('(?<!^)(?<!\\.)\\.(?!\\.)', file_path).start() \n",
    "    except:\n",
    "        raise NameError('Please enter a relative path with a file extension.') \n",
    "    \n",
    "    stamp = re.search('(?<!^)(?<!\\.)[A-z]+_[0-z]+(?=\\.)', file_path).start()\n",
    "    formatted_name = f'{file_path[:stamp]}{now}_{file_path[stamp:]}'  \n",
    "    if not file_description:\n",
    "        file_description = f'Saved at: {time.asctime(time.gmtime(now))}'\n",
    "    with open(logfile, 'a+') as f:\n",
    "        f.write(f'{formatted_name}: {file_description}\\n')\n",
    "    return formatted_name, now, file_description"
   ]
  },
  {
   "cell_type": "markdown",
   "metadata": {},
   "source": [
    "Reusing the SQL helper functions for database querying the track_list db"
   ]
  },
  {
   "cell_type": "code",
   "execution_count": 4,
   "metadata": {},
   "outputs": [],
   "source": [
    "def con_cur_to_db(dbname=DBNAME, dict_cur=None):\n",
    "    con = pg2.connect(host=IP_ADDRESS,\n",
    "                  dbname=dbname,\n",
    "                  user=USER,\n",
    "                  password=PASSWORD)\n",
    "    if dict_cur:\n",
    "        cur = con.cursor(cursor_factory=RealDictCursor)\n",
    "    else:\n",
    "        cur = con.cursor()\n",
    "    return con, cur\n",
    "    \n",
    "def execute_query(query, dbname=DBNAME, dict_cur=None, command=False):\n",
    "    con, cur = con_cur_to_db(dbname, dict_cur)\n",
    "    cur.execute(f'{query}')\n",
    "    if not command:\n",
    "        data = cur.fetchall()\n",
    "        con.close()\n",
    "        return data\n",
    "    con.commit() #sends to server\n",
    "    con.close() #closes server connection"
   ]
  },
  {
   "cell_type": "code",
   "execution_count": 119,
   "metadata": {},
   "outputs": [
    {
     "data": {
      "text/html": [
       "<div>\n",
       "<style scoped>\n",
       "    .dataframe tbody tr th:only-of-type {\n",
       "        vertical-align: middle;\n",
       "    }\n",
       "\n",
       "    .dataframe tbody tr th {\n",
       "        vertical-align: top;\n",
       "    }\n",
       "\n",
       "    .dataframe thead th {\n",
       "        text-align: right;\n",
       "    }\n",
       "</style>\n",
       "<table border=\"1\" class=\"dataframe\">\n",
       "  <thead>\n",
       "    <tr style=\"text-align: right;\">\n",
       "      <th></th>\n",
       "      <th>album_name</th>\n",
       "      <th>artist_name</th>\n",
       "      <th>lyrics</th>\n",
       "      <th>playlist_id</th>\n",
       "      <th>playlist_name</th>\n",
       "      <th>playlist_owner</th>\n",
       "      <th>track_name</th>\n",
       "    </tr>\n",
       "    <tr>\n",
       "      <th>track_id</th>\n",
       "      <th></th>\n",
       "      <th></th>\n",
       "      <th></th>\n",
       "      <th></th>\n",
       "      <th></th>\n",
       "      <th></th>\n",
       "      <th></th>\n",
       "    </tr>\n",
       "  </thead>\n",
       "  <tbody>\n",
       "    <tr>\n",
       "      <th>0h7TlF8gKb61aSm874s3cV</th>\n",
       "      <td>I Can't Tell You How Much It Hurts</td>\n",
       "      <td>moow</td>\n",
       "      <td>\\n\\nIf your needle is near\\nNeedle is near\\nYo...</td>\n",
       "      <td>37i9dQZF1DXarebqD2nAVg</td>\n",
       "      <td>Tender</td>\n",
       "      <td>spotify</td>\n",
       "      <td>You'r in My Head</td>\n",
       "    </tr>\n",
       "    <tr>\n",
       "      <th>6koowTu9pFHPEcZnACLKbK</th>\n",
       "      <td>Coming Home</td>\n",
       "      <td>Leon Bridges</td>\n",
       "      <td>\\n\\n[Verse 1]\\nBrown skin girl on the other si...</td>\n",
       "      <td>37i9dQZF1DX4adj7PFEBwf</td>\n",
       "      <td>Wedding Bells</td>\n",
       "      <td>spotify</td>\n",
       "      <td>Brown Skin Girl</td>\n",
       "    </tr>\n",
       "    <tr>\n",
       "      <th>1JkhKUXAoNivi87ipmV3rp</th>\n",
       "      <td>Back To Love (Deluxe Version)</td>\n",
       "      <td>Anthony Hamilton</td>\n",
       "      <td>\\n\\n[Verse 1]\\nIt's simple, I love it\\nHaving ...</td>\n",
       "      <td>37i9dQZF1DX4adj7PFEBwf</td>\n",
       "      <td>Wedding Bells</td>\n",
       "      <td>spotify</td>\n",
       "      <td>Best of Me</td>\n",
       "    </tr>\n",
       "    <tr>\n",
       "      <th>51lPx6ZCSalL2kvSrDUyJc</th>\n",
       "      <td>The Search for Everything</td>\n",
       "      <td>John Mayer</td>\n",
       "      <td>\\n\\n[Intro: Whistling]\\n\\n[Verse 1]\\nA great b...</td>\n",
       "      <td>37i9dQZF1DX4adj7PFEBwf</td>\n",
       "      <td>Wedding Bells</td>\n",
       "      <td>spotify</td>\n",
       "      <td>You're Gonna Live Forever in Me</td>\n",
       "    </tr>\n",
       "    <tr>\n",
       "      <th>3vqlZUIT3rEmLaYKDBfb4Q</th>\n",
       "      <td>Songs In The Key Of Life</td>\n",
       "      <td>Stevie Wonder</td>\n",
       "      <td>\\n\\n[Verse 1]\\nIsn't she lovely\\nIsn't she won...</td>\n",
       "      <td>37i9dQZF1DX4adj7PFEBwf</td>\n",
       "      <td>Wedding Bells</td>\n",
       "      <td>spotify</td>\n",
       "      <td>Isn't She Lovely</td>\n",
       "    </tr>\n",
       "  </tbody>\n",
       "</table>\n",
       "</div>"
      ],
      "text/plain": [
       "                                                album_name       artist_name  \\\n",
       "track_id                                                                       \n",
       "0h7TlF8gKb61aSm874s3cV  I Can't Tell You How Much It Hurts              moow   \n",
       "6koowTu9pFHPEcZnACLKbK                         Coming Home      Leon Bridges   \n",
       "1JkhKUXAoNivi87ipmV3rp       Back To Love (Deluxe Version)  Anthony Hamilton   \n",
       "51lPx6ZCSalL2kvSrDUyJc           The Search for Everything        John Mayer   \n",
       "3vqlZUIT3rEmLaYKDBfb4Q            Songs In The Key Of Life     Stevie Wonder   \n",
       "\n",
       "                                                                   lyrics  \\\n",
       "track_id                                                                    \n",
       "0h7TlF8gKb61aSm874s3cV  \\n\\nIf your needle is near\\nNeedle is near\\nYo...   \n",
       "6koowTu9pFHPEcZnACLKbK  \\n\\n[Verse 1]\\nBrown skin girl on the other si...   \n",
       "1JkhKUXAoNivi87ipmV3rp  \\n\\n[Verse 1]\\nIt's simple, I love it\\nHaving ...   \n",
       "51lPx6ZCSalL2kvSrDUyJc  \\n\\n[Intro: Whistling]\\n\\n[Verse 1]\\nA great b...   \n",
       "3vqlZUIT3rEmLaYKDBfb4Q  \\n\\n[Verse 1]\\nIsn't she lovely\\nIsn't she won...   \n",
       "\n",
       "                                   playlist_id  playlist_name playlist_owner  \\\n",
       "track_id                                                                       \n",
       "0h7TlF8gKb61aSm874s3cV  37i9dQZF1DXarebqD2nAVg         Tender        spotify   \n",
       "6koowTu9pFHPEcZnACLKbK  37i9dQZF1DX4adj7PFEBwf  Wedding Bells        spotify   \n",
       "1JkhKUXAoNivi87ipmV3rp  37i9dQZF1DX4adj7PFEBwf  Wedding Bells        spotify   \n",
       "51lPx6ZCSalL2kvSrDUyJc  37i9dQZF1DX4adj7PFEBwf  Wedding Bells        spotify   \n",
       "3vqlZUIT3rEmLaYKDBfb4Q  37i9dQZF1DX4adj7PFEBwf  Wedding Bells        spotify   \n",
       "\n",
       "                                             track_name  \n",
       "track_id                                                 \n",
       "0h7TlF8gKb61aSm874s3cV                 You'r in My Head  \n",
       "6koowTu9pFHPEcZnACLKbK                  Brown Skin Girl  \n",
       "1JkhKUXAoNivi87ipmV3rp                       Best of Me  \n",
       "51lPx6ZCSalL2kvSrDUyJc  You're Gonna Live Forever in Me  \n",
       "3vqlZUIT3rEmLaYKDBfb4Q                 Isn't She Lovely  "
      ]
     },
     "execution_count": 119,
     "metadata": {},
     "output_type": "execute_result"
    }
   ],
   "source": [
    "query = '''SELECT * FROM track_list;'''\n",
    "response = execute_query(query, dict_cur=True)\n",
    "track_df = pd.DataFrame(response)\n",
    "track_df.set_index('track_id', inplace=True)\n",
    "track_df.head()"
   ]
  },
  {
   "cell_type": "markdown",
   "metadata": {},
   "source": [
    "Saving out the lyrics column in a separate dataframe for cleaning and analysis"
   ]
  },
  {
   "cell_type": "code",
   "execution_count": 120,
   "metadata": {},
   "outputs": [],
   "source": [
    "lyric_df = track_df[['lyrics']]"
   ]
  },
  {
   "cell_type": "markdown",
   "metadata": {},
   "source": [
    "Checking shape before cleaning."
   ]
  },
  {
   "cell_type": "code",
   "execution_count": 122,
   "metadata": {},
   "outputs": [
    {
     "data": {
      "text/plain": [
       "(2276, 1)"
      ]
     },
     "execution_count": 122,
     "metadata": {},
     "output_type": "execute_result"
    }
   ],
   "source": [
    "lyric_df.shape"
   ]
  },
  {
   "cell_type": "markdown",
   "metadata": {},
   "source": [
    "## Dropping or Ammending Lyrics"
   ]
  },
  {
   "cell_type": "markdown",
   "metadata": {},
   "source": [
    "Dropping or appending tracks that have been identified below as having errors such as non-song text, non-english text, missing tags, long whitespace gaps, etc prior to cleaning."
   ]
  },
  {
   "cell_type": "markdown",
   "metadata": {},
   "source": [
    "Dropping any null values."
   ]
  },
  {
   "cell_type": "code",
   "execution_count": 121,
   "metadata": {},
   "outputs": [],
   "source": [
    "lyric_df = lyric_df.dropna(axis=0)"
   ]
  },
  {
   "cell_type": "markdown",
   "metadata": {},
   "source": [
    "Not english"
   ]
  },
  {
   "cell_type": "code",
   "execution_count": 123,
   "metadata": {},
   "outputs": [],
   "source": [
    "lyric_df = lyric_df.drop(index='1mjWhM7GQTTxJxg2F0iCRS', axis=0)"
   ]
  },
  {
   "cell_type": "code",
   "execution_count": 124,
   "metadata": {},
   "outputs": [],
   "source": [
    "lyric_df = lyric_df.drop(index='4tjLYTXFqZhkUDga4bQ0yl', axis=0)"
   ]
  },
  {
   "cell_type": "code",
   "execution_count": 140,
   "metadata": {},
   "outputs": [],
   "source": [
    "lyric_df = lyric_df.drop(index='2za6PlkAQAMMu0VFsfBoHC', axis=0)"
   ]
  },
  {
   "cell_type": "code",
   "execution_count": 186,
   "metadata": {},
   "outputs": [],
   "source": [
    "lyric_df =l yric_df.drop(index='0CNKS52qyUU9124pyENtbl', axis=0)"
   ]
  },
  {
   "cell_type": "markdown",
   "metadata": {},
   "source": [
    "Missing ']' creating a tagging error."
   ]
  },
  {
   "cell_type": "code",
   "execution_count": 125,
   "metadata": {},
   "outputs": [],
   "source": [
    "lyric_df.loc['1Ob94QesoxHSBrypyBbdfd', 'lyrics'] = \"\\n\\n[Verse 1]\\nWe've been here before, surrounded in the cold\\nYou take me to places I've never known\\nAnd you push me to places I'll never go\\nI would die for you\\nTell me the truth\\nAm I all that you would need?\\nIf we're keeping it a hundred, you're all that I need for me\\nFrom the jump until forever from now, I would ride for you\\n\\n[Chorus]\\nBut you got me shot down by love\\nYou got my heart now\\nWhy won't you stop now?\\nOh I've been knocked down by you\\nYou got my heart now\\nWhy won't you stop now?\\n\\n[Verse 2]\\nI've been through it whole\\nI've been through the worst\\nBut I never knew how much our love could hurt\\nOver my family I put you first\\nWriting out my feelings is the only thing that work\\nI don't hear from the friends I thought were mine too\\nBut I hold on to the poems I would write you\\nHappy seventeen, I saw us two and you saw three\\nI guess our lines are structured like a haiku\\n\\n[Chorus 2]\\nYou got me shot down by love\\nAnd you got my heart now\\nWhy won't you stop now?\\nOh I've been knocked down by you\\nAnd you got my heart now\\nWhy won't you stop now?\\n\\n[Bridge]\\nKnocked down, knocked down\\nKnocked down, knocked down\\nKnocked down\\nKnocked down\\n\\n[Chorus]\\nI've been shot down by love\\nYou got my heart now\\nWhy won't you stop now?\\nI've been knocked down by you\\nAnd you got my heart now\\nWhy won't you stop now?\\n\\n\""
   ]
  },
  {
   "cell_type": "markdown",
   "metadata": {},
   "source": [
    "Tracks identified by having too few total lines per track."
   ]
  },
  {
   "cell_type": "code",
   "execution_count": 127,
   "metadata": {},
   "outputs": [
    {
     "data": {
      "text/plain": [
       "'\\n\\nMorni Banke (Badhaai Ho) Guru Randhawa Neha Kakkar 320kbps Mp3 Songs Download, Morni Banke (Badhaai Ho) Guru Randhawa Neha Kakkar 320kbps iTunes Rip Mp3 Songs Download, Morni Banke (Badhaai Ho) Guru Randhawa Neha Kakkar 320kbps 128 Kbps Mp3 Songs Free Download, Morni Banke (Badhaai Ho) Guru Randhawa Neha Kakkar 320kbps 320 Kbps Mp3 Songs Free Download, Morni Banke (Badhaai Ho) Guru Randhawa Neha Kakkar 320kbps Mp3 Songs Download In High Quality, Morni Banke (Badhaai Ho) Guru Randhawa Neha Kakkar 320kbps Mp3 Songs Download 320kbps Quality, Morni Banke (Badhaai Ho) Guru Randhawa Neha Kakkar 320kbps Mp3 Songs Download, Morni Banke (Badhaai Ho) Guru Randhawa Neha Kakkar 320kbps All Mp3 Songs Download, Morni Banke (Badhaai Ho) Guru Randhawa Neha Kakkar 320kbps Full Songs Download\\n\\n'"
      ]
     },
     "execution_count": 127,
     "metadata": {},
     "output_type": "execute_result"
    }
   ],
   "source": [
    "lyric_df.loc['2Wu9PNpLUCBl3W1GaPqkhl'].lyrics"
   ]
  },
  {
   "cell_type": "code",
   "execution_count": 128,
   "metadata": {},
   "outputs": [],
   "source": [
    "lyric_df = lyric_df.drop(index='2Wu9PNpLUCBl3W1GaPqkhl', axis=0)"
   ]
  },
  {
   "cell_type": "markdown",
   "metadata": {},
   "source": [
    "Mislabed lyrics with '\\n\\n' for linebreaks"
   ]
  },
  {
   "cell_type": "code",
   "execution_count": 129,
   "metadata": {},
   "outputs": [
    {
     "data": {
      "text/plain": [
       "\"\\n\\nBaby let's cruise away from here\\n\\nDon't be confused baby, the way is clear\\n\\nAnd if you want it you got it forever\\n\\nOh, this is not a one night stand baby\\n\\nLet the music take your mind\\n\\nAnd just release and you will find, baby\\n\\nWe're going to fly away\\n\\nGlad you're going my way\\n\\nI love it when we're cruisin' together\\n\\nMusic was made for love\\n\\nCruisin' is made for love\\n\\nI love it when we're cruisin' together\\n\\nBaby, tonight belongs to us\\n\\nEverything's right, do what you must, baby\\n\\nAnd inch by inch we get closer and closer\\n\\nEvery little part of each other ooh, baby, baby\\n\\nLet the music take your mind\\n\\nJust release and you will find, baby\\n\\nWe're going to fly away\\n\\nGlad you're going my way\\n\\nI love it when we're cruisin' together\\n\\nMusic was made for love\\n\\nCruisin' is made for love\\n\\nI love you when we're cruisin' together\\n\\nWe're going to fly away\\n\\nGlad you're going my way\\n\\nI love it when we're cruisin' together\\n\\nMusic was made for love\\n\\nCruisin' is made for love\\n\\nI love you when we're cruisin' together\\n\\nCruise with me baby, baby\\n\\nOh baby\\n\\nOh baby let's cruise, let's flow\\n\\nLet's glide, let's open up and go inside\\n\\nAnd if you want it you got it forever\\n\\nI can just stay there inside you and love you, baby\\n\\nLet the music take your mind\\n\\nAnd just release and you will find\\n\\nWe're going to fly away\\n\\nGlad you're going my way\\n\\nI love it when we're cruisin' together\\n\\nMusic was made for love\\n\\nCruisin' is made for love\\n\\nI love you when we're cruisin' together\\n\\nWe're going to fly away\\n\\nGlad you're going my way\\n\\nI love it when we're cruisin' together\\n\\nMusic was made for love\\n\\nCruisin' is made for love\\n\\nI love you when we're cruisin' together\\n\\nWe're going to fly away\\n\\nGlad you're going my way\\n\\nI love it when we're cruisin' together\\n\\nMusic was made for love\\n\\nCruisin' is made for love\\n\\nI love you when we're cruisin' together\\n\\nWe're going to fly away\\n\\nGlad you're going my way\\n\\nI love it when we're cruisin' together\\n\\nMusic was made for love\\n\\nCruisin' is made for love\\n\\nI love you when we're cruisin' together\\n\\n\""
      ]
     },
     "execution_count": 129,
     "metadata": {},
     "output_type": "execute_result"
    }
   ],
   "source": [
    "lyric_df.loc['6xYd4zCVeSp80Un2Rl9wDs'].lyrics"
   ]
  },
  {
   "cell_type": "code",
   "execution_count": 130,
   "metadata": {},
   "outputs": [],
   "source": [
    "lyric_df.loc['6xYd4zCVeSp80Un2Rl9wDs', 'lyrics'] = lyric_df.loc['6xYd4zCVeSp80Un2Rl9wDs'].lyrics.replace('\\n\\n','\\n')"
   ]
  },
  {
   "cell_type": "code",
   "execution_count": 131,
   "metadata": {},
   "outputs": [
    {
     "data": {
      "text/plain": [
       "'\\n\\nI ran into a woman on the sidewalk\\n\\n‘cause I was thinking too much about us\\n\\nDreaming of you and all we’ve lost\\n\\n‘Cause now you’re always so angry\\n\\nYou’re always so sad\\n\\nYou’re mad about everything and everyone and I\\n\\nI don’t have the heart for that\\n\\nHow we used to love\\n\\nI’m afraid for our future\\n\\nI’m afraid it won’t last\\n\\n‘Cause you’ve got too many scars to hide\\n\\nAnd I haven’t got enough to understand why\\n\\nWhy are you always so sad\\n\\nWhy are you always so\\n\\nWhy are you always so sad?\\n\\nHow we used to love\\n\\nHow we used to love\\n\\nHow we used to love\\n\\nHow we used to love\\n\\n'"
      ]
     },
     "execution_count": 131,
     "metadata": {},
     "output_type": "execute_result"
    }
   ],
   "source": [
    "lyric_df.loc['6XkChVvxj0Cakfae17NaK3'].lyrics"
   ]
  },
  {
   "cell_type": "code",
   "execution_count": 132,
   "metadata": {},
   "outputs": [],
   "source": [
    "lyric_df.loc['6XkChVvxj0Cakfae17NaK3', 'lyrics']= lyric_df.loc['6XkChVvxj0Cakfae17NaK3'].lyrics.replace('\\n\\n','\\n')"
   ]
  },
  {
   "cell_type": "code",
   "execution_count": 133,
   "metadata": {},
   "outputs": [
    {
     "data": {
      "text/plain": [
       "\"\\n\\nShe was too good to me\\nShe was too good to me\\n\\nHow can I get along now\\n\\nSo close she stood to me\\n\\nEverything seems so wrong now\\n\\nShe would have brought me the sun\\n\\nMaking me smile\\n\\nThat was her fun\\n\\nWhen I was mean to her\\n\\nShe never said go away now\\n\\nI was a king to her\\n\\nWho's gonna make me gay now?\\n\\nIt's only natural\\n\\nI'm so blue\\n\\nShe was too good to be true\\n\\n\""
      ]
     },
     "execution_count": 133,
     "metadata": {},
     "output_type": "execute_result"
    }
   ],
   "source": [
    "lyric_df.loc['5ONPeQRp1m4KJ0M57qBj1D'].lyrics"
   ]
  },
  {
   "cell_type": "code",
   "execution_count": 134,
   "metadata": {},
   "outputs": [],
   "source": [
    "lyric_df.loc['5ONPeQRp1m4KJ0M57qBj1D', 'lyrics'] = lyric_df.loc['5ONPeQRp1m4KJ0M57qBj1D'].lyrics.replace('\\n\\n','\\n')"
   ]
  },
  {
   "cell_type": "markdown",
   "metadata": {},
   "source": [
    "Not a song"
   ]
  },
  {
   "cell_type": "code",
   "execution_count": 135,
   "metadata": {},
   "outputs": [
    {
     "data": {
      "text/plain": [
       "'\\n\\nTo Noel Willmett\\n\\n18 May 1944\\n10a Mortimer Crescent NW 6\\n\\nDear Mr Willmett,\\n\\nMany thanks for your letter. You ask whether totalitarianism, leader-worship etc. are really on the up-grade and instance the fact that they are not apparently growing in this country and the USA.\\n\\nI must say I believe, or fear, that taking the world as a whole these things are on the increase. Hitler, no doubt, will soon disappear, but only at the expense of strengthening (a) Stalin, (b) the Anglo-American millionaires and (c) all sorts of petty fuhrers° of the type of de Gaulle. All the national movements everywhere, even those that originate in resistance to German domination, seem to take non-democratic forms, to group themselves round some superhuman fuhrer (Hitler, Stalin, Salazar, Franco, Gandhi, De Valera are all varying examples) and to adopt the theory that the end justifies the means. Everywhere the world movement seems to be in the direction of centralised economies which can be made to ‘work’ in an economic sense but which are not democratically organised and which tend to establish a caste system. With this go the horrors of emotional nationalism and a tendency to disbelieve in the existence of objective truth because all the facts have to fit in with the words and prophecies of some infallible fuhrer. Already history has in a sense ceased to exist, ie. there is no such thing as a history of our own times which could be universally accepted, and the exact sciences are endangered as soon as military necessity ceases to keep people up to the mark. Hitler can say that the Jews started the war, and if he survives that will become official history. He can’t say that two and two are five, because for the purposes of, say, ballistics they have to make four. But if the sort of world that I am afraid of arrives, a world of two or three great superstates which are unable to conquer one another, two and two could become five if the fuhrer wished it.1 That, so far as I can see, is the direction in which we are actually moving, though, of course, the process is reversible.\\n\\nAs to the comparative immunity of Britain and the USA. Whatever the pacifists etc. may say, we have not gone totalitarian yet and this is a very hopeful symptom. I believe very deeply, as I explained in my book The Lion and the Unicorn, in the English people and in their capacity to centralise their economy without destroying freedom in doing so. But one must remember that Britain and the USA haven’t been really tried, they haven’t known defeat or severe suffering, and there are some bad symptoms to balance the good ones. To begin with there is the general indifference to the decay of democracy. Do you realise, for instance, that no one in England under 26 now has a vote and that so far as one can see the great mass of people of that age don’t give a damn for this? Secondly there is the fact that the intellectuals are more totalitarian in outlook than the common people. On the whole the English intelligentsia have opposed Hitler, but only at the price of accepting Stalin. Most of them are perfectly ready for dictatorial methods, secret police, systematic falsification of history2 etc. so long as they feel that it is on ‘our’ side. Indeed the statement that we haven’t a Fascist movement in England largely means that the young, at this moment, look for their fuhrer elsewhere. One can’t be sure that that won’t change, nor can one be sure that the common people won’t think ten years hence as the intellectuals do now. I hope\\u20093 they won’t, I even trust they won’t, but if so it will be at the cost of a struggle. If one simply proclaims that all is for the best and doesn’t point to the sinister symptoms, one is merely helping to bring totalitarianism nearer.\\n\\nYou also ask, if I think the world tendency is towards Fascism, why do I support the war. It is a choice of evils—I fancy nearly every war is that. I know enough of British imperialism not to like it, but I would support it against Nazism or Japanese imperialism, as the lesser evil. Similarly I would support the USSR against Germany because I think the USSR cannot altogether escape its past and retains enough of the original ideas of the Revolution to make it a more hopeful phenomenon than Nazi Germany. I think, and have thought ever since the war began, in 1936 or thereabouts, that our cause is the better, but we have to keep on making it the better, which involves constant criticism.\\n\\nYours sincerely,\\nGeo. Orwell\\n\\n[XVI, 2471, pp. 190—2; typewritten]\\n\\n1. and 2. Foreshadowings of Nineteen Eighty-Four.\\n\\n3. Compare Nineteen Eighty-Four, p. 72, ‘If there is hope, wrote Winston, it lies in the proles.’\\n\\n'"
      ]
     },
     "execution_count": 135,
     "metadata": {},
     "output_type": "execute_result"
    }
   ],
   "source": [
    "lyric_df.loc['44z4AP1yhEjcbihu5qdXsZ'].lyrics"
   ]
  },
  {
   "cell_type": "code",
   "execution_count": 136,
   "metadata": {},
   "outputs": [],
   "source": [
    "lyric_df = lyric_df.drop(index='44z4AP1yhEjcbihu5qdXsZ', axis=0)"
   ]
  },
  {
   "cell_type": "code",
   "execution_count": 137,
   "metadata": {},
   "outputs": [
    {
     "data": {
      "text/plain": [
       "'\\n\\nToday I entered a bill to end the states involvement in the sanctioning of marriage. Right now, as it sits with the decision from our U.S. Supreme Court looming, our elected officials could be forced to perform same sex marriages; if this happens then the liberal left will use this Supreme Court decision as a hammer to advance their liberal agenda. If the Supreme Court surprises everyone and decides to uphold the institution of marriage then I will simply will have the option to then withdraw the bill. The winds of secular progressivism gives me the sense that our Supreme Court is handing us their next step in the end of traditional morality for America. This bill simply put will end our elected official’s involvement in performing marriage ceremonies.\\n\\nIt is incredibly important that if the Supreme Court rules against traditional marriage that our elected officials are not forced to violate their conscience and be forced to perform gay marriages. Further note on another piece of legislation being drafted - I have asked for drafting of a bill to protect pastors from being forced to perform gay marriages as well.\\n\\nAmerica stands at a crossroads on marriage. Our U.S. Supreme Court will any day render it’s decision and may then throw out thousands of years of established understanding and in so doing grant the right to homosexual marriages. It would be an unconscionable decision made without Constitutional justification and over the will of the people.  Five Justices can take it upon themselves to take the holy God inspired and the defined institution of marriage of being between one man and one woman and turn it into a government sanctioned institution that is now defined by the power of government.  The ruling if it goes against the traditional understanding of marriage brings with it many long range unforeseen implications for society in America and for the rest of the world.\\n\\nIn anticipation of this decision, I have entered a bill to end Michigan\\'s public official’s role in performing marriage ceremonies.  When the door was opened to government involvement in marriage, like any other area where government \"gets its nose under the tent,” you then submit to government distortions of marriage through regulations.  If this legislation becomes law it will protect our public officials from having to perform same sex marriages and put the marriage licensing business back in the position of being in the realm of the churches and religious leaders. This only affects the licensing components related to performing the ceremonies themselves. As the government got into the licensing of marriages, it left behind what God intended and became an institution to be changed and adjusted as the secular powers saw fit.\\n\\nI, like so many of you, stand wholeheartedly and unequivocally for traditional marriage and feel it should never have been opened by legislation to be within the Federal realm of authority. The proper role of regulation in the area of marriage, if at all, should have remained with the states. The Supreme Court, in this decision on marriage will be redefining marriage to being a contract between individuals and their government, and that will simply be a changing definition based on the needs and whims of government. Regardless of which way the Supreme Court decides, from here forward marriage will be whatever our Supreme Court decides. The contract that had been in place was between the man and wife on one side and God and His Holy word on the other side of the contract. I stand absolutely and completely behind the idea that marriage is between one man and one woman.  This U. S. Supreme Court decision will potentially throw out thousands of years of Judeo Christian history and will be used as a massive hammer from the progressive movement over many areas of religious liberty and freedom of expression, within churches, within commerce and throughout society in general. It is one more step in the tearing down of the Judeo Christian foundation of our country.\\n\\nA little history of how we have gotten here is probably appropriate.  Historically our Federal Government has not had a role in marriage.  There is no place in our Federal Constitution that gives it a right to intervene in marriage.  Marriage laws really didn\\'t start to appear in any significance until right after the civil war and were in regards to inter-racial marriage and also as a way to curtail the Mormon polygamy issues. Then they appeared in full force at the beginning of the last century. The Federal government is a government of limited power.  Its role is supposed to be limited to those powers enumerated in the Federal Constitution.  The states however are governments of general power and could properly regulate marriage and have done so in many instances over many years. If there is a role of government to play in marriage, it is at the State level not at the Federal level. However, in either case of state or Federal involvement in marriage, it was inevitable that the power of government would be used to destroy traditional marriage.\\n\\nConstitutionally the Federal Government has no proper role in marriage.  If there is a proper role for government in marriage, it lies properly within the purview of the States’ authority not the Federal government. This bill would prevent that from happening and would take our public officials out of the equation. The bill would still require a signed affidavit with two witnesses of the ceremony officiated by a religious leader, but it would no longer have the state sponsoring the unions and it would close the door to forcing our public officials to partake in the memorializing of the ceremonies. I believe to have a strong society we need to encourage traditional family values of one man and one woman in a committed relationship for life and that children are best raised in such an environment where a committed mother and father pour into the children love and support from both a mother and a father; there is no question as to the value of this model in the lives of children or the husband and wife.\\n\\nWhen we as a nation started to take steps to \"protect marriage\" by various measures, including but not limited to the Defense of Marriage Act, we also opened the door for Federal and State involvement in marriage and allowed a secular government to have authority over the definition of marriage. If we really wanted to protect the institution of marriage at the Federal level, it should not have been with a Federal Statute but rather a Constitutional Amendment; this was not done. These various entries into the marriage business by the government inserted the secular power of the state into a spot where it was never intended to be by our Founding Fathers. It also gave a massive hammer to those in power to redefine the institution of marriage and more broadly the concepts of religious freedom and liberty.  This is where we stand today.\\n\\nIn closing, my heart is broken for the spiritual health of our nation. My earnest hope and prayer in bringing this effort, and in all of my efforts, is to see the revival in all of our lives, our marriages, our families, our communities and of course for our nation, to be reawakened to the beauty, majesty and awesomeness of a loving God who in writing His love story to us has sent His one and only son to die for us and yet given us the freedom to accept or reject Him and His plan for our lives. In all this I will again ask you to recommit to praying for our nation and for the Leaders who are given by God to lead us forward in these precarious times.\\n\\nGod bless you and God bless The United States of America!\\n\\n'"
      ]
     },
     "execution_count": 137,
     "metadata": {},
     "output_type": "execute_result"
    }
   ],
   "source": [
    "lyric_df.loc['0cqSEpg2nYbneh7RGNrDcp'].lyrics"
   ]
  },
  {
   "cell_type": "code",
   "execution_count": 138,
   "metadata": {},
   "outputs": [],
   "source": [
    "lyric_df = lyric_df.drop(index='0cqSEpg2nYbneh7RGNrDcp', axis=0)"
   ]
  },
  {
   "cell_type": "code",
   "execution_count": 139,
   "metadata": {},
   "outputs": [
    {
     "data": {
      "text/plain": [
       "'\\n\\nCHAPTER 1: A RUNAWAY REEF\\n\\nThe year 1866 was marked by a bizarre development, an unexplained and downright inexplicable phenomenon that surely no one has forgotten. Without getting into those rumors that upset civilians in the seaports and deranged the public mind even far inland, it must be said that professional seamen were especially alarmed. Traders, shipowners, captains of vessels, skippers, and master mariners from Europe and America, naval officers from every country, and at their heels the various national governments on these two continents, were all extremely disturbed by the business.\\n\\nIn essence, over a period of time several ships had encountered \"an enormous thing\" at sea, a long spindle–shaped object, sometimes giving off a phosphorescent glow, infinitely bigger and faster than any whale.\\n\\nThe relevant data on this apparition, as recorded in various logbooks, agreed pretty closely as to the structure of the object or creature in question, its unprecedented speed of movement, its startling locomotive power, and the unique vitality with which it seemed to be gifted. If it was a cetacean, it exceeded in bulk any whale previously classified by science. No naturalist, neither Cuvier nor Lacépède, neither Professor Dumeril nor Professor de Quatrefages, would have accepted the existence of such a monster sight unseen—specifically, unseen by their own scientific eyes.\\n\\nStriking an average of observations taken at different times—rejecting those timid estimates that gave the object a length of 200 feet, and ignoring those exaggerated views that saw it as a mile wide and three long—you could still assert that this phenomenal creature greatly exceeded the dimensions of anything then known to ichthyologists, if it existed at all.\\n\\nNow then, it did exist, this was an undeniable fact; and since the human mind dotes on objects of wonder, you can understand the worldwide excitement caused by this unearthly apparition. As for relegating it to the realm of fiction, that charge had to be dropped.\\n\\nIn essence, on July 20, 1866, the steamer Governor Higginson, from the Calcutta & Burnach Steam Navigation Co., encountered this moving mass five miles off the eastern shores of Australia.\\n\\nCaptain Baker at first thought he was in the presence of an unknown reef; he was even about to fix its exact position when two waterspouts shot out of this inexplicable object and sprang hissing into the air some 150 feet. So, unless this reef was subject to the intermittent eruptions of a geyser, the Governor Higginson had fair and honest dealings with some aquatic mammal, until then unknown, that could spurt from its blowholes waterspouts mixed with air and steam.\\n\\nSimilar events were likewise observed in Pacific seas, on July 23 of the same year, by the Christopher Columbus from the West India & Pacific Steam Navigation Co. Consequently, this extraordinary cetacean could transfer itself from one locality to another with startling swiftness, since within an interval of just three days, the Governor Higginson and the Christopher Columbus had observed it at two positions on the charts separated by a distance of more than 700 nautical leagues.\\n\\nFifteen days later and 2,000 leagues farther, the Helvetia from the Compagnie Nationale and the Shannon from the Royal Mail line, running on opposite tacks in that part of the Atlantic lying between the United States and Europe, respectively signaled each other that the monster had been sighted in latitude 42° 15\\' north and longitude 60° 35\\' west of the meridian of Greenwich. From their simultaneous observations, they were able to estimate the mammal\\'s minimum length at more than 350 English feet; this was because both the Shannon and the Helvetia were of smaller dimensions, although each measured 100 meters stem to stern. Now then, the biggest whales, those rorqual whales that frequent the waterways of the Aleutian Islands, have never exceeded a length of 56 meters—if they reach even that.\\n\\nOne after another, reports arrived that would profoundly affect public opinion: new observations taken by the transatlantic liner Pereire, the Inman line\\'s Etna running afoul of the monster, an official report drawn up by officers on the French frigate Normandy, dead–earnest reckonings obtained by the general staff of Commodore Fitz–James aboard the Lord Clyde. In lighthearted countries, people joked about this phenomenon, but such serious, practical countries as England, America, and Germany were deeply concerned.\\n\\nIn every big city the monster was the latest rage; they sang about it in the coffee houses, they ridiculed it in the newspapers, they dramatized it in the theaters. The tabloids found it a fine opportunity for hatching all sorts of hoaxes. In those newspapers short of copy, you saw the reappearance of every gigantic imaginary creature, from \"Moby Dick,\" that dreadful white whale from the High Arctic regions, to the stupendous kraken whose tentacles could entwine a 500–ton craft and drag it into the ocean depths. They even reprinted reports from ancient times: the views of Aristotle and Pliny accepting the existence of such monsters, then the Norwegian stories of Bishop Pontoppidan, the narratives of Paul Egede, and finally the reports of Captain Harrington—whose good faith is above suspicion—in which he claims he saw, while aboard the Castilian in 1857, one of those enormous serpents that, until then, had frequented only the seas of France\\'s old extremist newspaper, The Constitutionalist.\\n\\nAn interminable debate then broke out between believers and skeptics in the scholarly societies and scientific journals. The \"monster question\" inflamed all minds. During this memorable campaign, journalists making a profession of science battled with those making a profession of wit, spilling waves of ink and some of them even two or three drops of blood, since they went from sea serpents to the most offensive personal remarks.\\n\\nFor six months the war seesawed. With inexhaustible zest, the popular press took potshots at feature articles from the Geographic Institute of Brazil, the Royal Academy of Science in Berlin, the British Association, the Smithsonian Institution in Washington, D.C., at discussions in The Indian Archipelago, in Cosmos published by Father Moigno, in Petermann\\'s Mittheilungen, and at scientific chronicles in the great French and foreign newspapers. When the monster\\'s detractors cited a saying by the botanist Linnaeus that \"nature doesn\\'t make leaps,\" witty writers in the popular periodicals parodied it, maintaining in essence that \"nature doesn\\'t make lunatics,\" and ordering their contemporaries never to give the lie to nature by believing in krakens, sea serpents, \"Moby Dicks,\" and other all–out efforts from drunken seamen. Finally, in a much–feared satirical journal, an article by its most popular columnist finished off the monster for good, spurning it in the style of Hippolytus repulsing the amorous advances of his stepmother Phædra, and giving the creature its quietus amid a universal burst of laughter. Wit had defeated science.\\n\\nDuring the first months of the year 1867, the question seemed to be buried, and it didn\\'t seem due for resurrection, when new facts were brought to the public\\'s attention. But now it was no longer an issue of a scientific problem to be solved, but a quite real and serious danger to be avoided. The question took an entirely new turn. The monster again became an islet, rock, or reef, but a runaway reef, unfixed and elusive.\\n\\nOn March 5, 1867, the Moravian from the Montreal Ocean Co., lying during the night in latitude 27° 30\\' and longitude 72° 15\\', ran its starboard quarter afoul of a rock marked on no charts of these waterways. Under the combined efforts of wind and 400–horsepower steam, it was traveling at a speed of thirteen knots. Without the high quality of its hull, the Moravian would surely have split open from this collision and gone down together with those 237 passengers it was bringing back from Canada.\\n\\nThis accident happened around five o\\'clock in the morning, just as day was beginning to break. The officers on watch rushed to the craft\\'s stern. They examined the ocean with the most scrupulous care. They saw nothing except a strong eddy breaking three cable lengths out, as if those sheets of water had been violently churned. The site\\'s exact bearings were taken, and the Moravian continued on course apparently undamaged. Had it run afoul of an underwater rock or the wreckage of some enormous derelict ship? They were unable to say. But when they examined its undersides in the service yard, they discovered that part of its keel had been smashed.\\n\\nThis occurrence, extremely serious in itself, might perhaps have been forgotten like so many others, if three weeks later it hadn\\'t been reenacted under identical conditions. Only, thanks to the nationality of the ship victimized by this new ramming, and thanks to the reputation of the company to which this ship belonged, the event caused an immense uproar.\\n\\nNo one is unaware of the name of that famous English shipowner, Cunard. In 1840 this shrewd industrialist founded a postal service between Liverpool and Halifax, featuring three wooden ships with 400–horsepower paddle wheels and a burden of 1,162 metric tons. Eight years later, the company\\'s assets were increased by four 650–horsepower ships at 1,820 metric tons, and in two more years, by two other vessels of still greater power and tonnage. In 1853 the Cunard Co., whose mail–carrying charter had just been renewed, successively added to its assets the Arabia, the Persia, the China, the Scotia, the Java, and the Russia, all ships of top speed and, after the Great Eastern, the biggest ever to plow the seas. So in 1867 this company owned twelve ships, eight with paddle wheels and four with propellers.\\n\\nIf I give these highly condensed details, it is so everyone can fully understand the importance of this maritime transportation company, known the world over for its shrewd management. No transoceanic navigational undertaking has been conducted with more ability, no business dealings have been crowned with greater success. In twenty–six years Cunard ships have made 2,000 Atlantic crossings without so much as a voyage canceled, a delay recorded, a man, a craft, or even a letter lost. Accordingly, despite strong competition from France, passengers still choose the Cunard line in preference to all others, as can be seen in a recent survey of official documents. Given this, no one will be astonished at the uproar provoked by this accident involving one of its finest steamers.\\n\\nOn April 13, 1867, with a smooth sea and a moderate breeze, the Scotia lay in longitude 15° 12\\' and latitude 45° 37\\'. It was traveling at a speed of 13.43 knots under the thrust of its 1,000–horsepower engines. Its paddle wheels were churning the sea with perfect steadiness. It was then drawing 6.7 meters of water and displacing 6,624 cubic meters.\\n\\nAt 4:17 in the afternoon, during a high tea for passengers gathered in the main lounge, a collision occurred, scarcely noticeable on the whole, affecting the Scotia\\'s hull in that quarter a little astern of its port paddle wheel.\\n\\nThe Scotia hadn\\'t run afoul of something, it had been fouled, and by a cutting or perforating instrument rather than a blunt one. This encounter seemed so minor that nobody on board would have been disturbed by it, had it not been for the shouts of crewmen in the hold, who climbed on deck yelling:\\n\\n\"We\\'re sinking! We\\'re sinking!\"\\n\\nAt first the passengers were quite frightened, but Captain Anderson hastened to reassure them. In fact, there could be no immediate danger. Divided into seven compartments by watertight bulkheads, the Scotia could brave any leak with impunity.\\n\\nCaptain Anderson immediately made his way into the hold. He discovered that the fifth compartment had been invaded by the sea, and the speed of this invasion proved that the leak was considerable. Fortunately this compartment didn\\'t contain the boilers, because their furnaces would have been abruptly extinguished.\\n\\nCaptain Anderson called an immediate halt, and one of his sailors dived down to assess the damage. Within moments they had located a hole two meters in width on the steamer\\'s underside. Such a leak could not be patched, and with its paddle wheels half swamped, the Scotia had no choice but to continue its voyage. By then it lay 300 miles from Cape Clear, and after three days of delay that filled Liverpool with acute anxiety, it entered the company docks.\\n\\nThe engineers then proceeded to inspect the Scotia, which had been put in dry dock. They couldn\\'t believe their eyes. Two and a half meters below its waterline, there gaped a symmetrical gash in the shape of an isosceles triangle. This breach in the sheet iron was so perfectly formed, no punch could have done a cleaner job of it. Consequently, it must have been produced by a perforating tool of uncommon toughness—plus, after being launched with prodigious power and then piercing four centimeters of sheet iron, this tool had needed to withdraw itself by a backward motion truly inexplicable.\\n\\nThis was the last straw, and it resulted in arousing public passions all over again. Indeed, from this moment on, any maritime casualty without an established cause was charged to the monster\\'s account. This outrageous animal had to shoulder responsibility for all derelict vessels, whose numbers are unfortunately considerable, since out of those 3,000 ships whose losses are recorded annually at the marine insurance bureau, the figure for steam or sailing ships supposedly lost with all hands, in the absence of any news, amounts to at least 200!\\n\\nNow then, justly or unjustly, it was the \"monster\" who stood accused of their disappearance; and since, thanks to it, travel between the various continents had become more and more dangerous, the public spoke up and demanded straight out that, at all cost, the seas be purged of this fearsome cetacean.\\n\\n'"
      ]
     },
     "execution_count": 139,
     "metadata": {},
     "output_type": "execute_result"
    }
   ],
   "source": [
    "lyric_df.loc['2za6PlkAQAMMu0VFsfBoHC'].lyrics"
   ]
  },
  {
   "cell_type": "code",
   "execution_count": 141,
   "metadata": {},
   "outputs": [
    {
     "data": {
      "text/html": [
       "<div>\n",
       "<style scoped>\n",
       "    .dataframe tbody tr th:only-of-type {\n",
       "        vertical-align: middle;\n",
       "    }\n",
       "\n",
       "    .dataframe tbody tr th {\n",
       "        vertical-align: top;\n",
       "    }\n",
       "\n",
       "    .dataframe thead th {\n",
       "        text-align: right;\n",
       "    }\n",
       "</style>\n",
       "<table border=\"1\" class=\"dataframe\">\n",
       "  <thead>\n",
       "    <tr style=\"text-align: right;\">\n",
       "      <th></th>\n",
       "      <th>lyrics</th>\n",
       "    </tr>\n",
       "    <tr>\n",
       "      <th>track_id</th>\n",
       "      <th></th>\n",
       "    </tr>\n",
       "  </thead>\n",
       "  <tbody>\n",
       "    <tr>\n",
       "      <th>0h7TlF8gKb61aSm874s3cV</th>\n",
       "      <td>\\n\\nIf your needle is near\\nNeedle is near\\nYo...</td>\n",
       "    </tr>\n",
       "    <tr>\n",
       "      <th>6koowTu9pFHPEcZnACLKbK</th>\n",
       "      <td>\\n\\n[Verse 1]\\nBrown skin girl on the other si...</td>\n",
       "    </tr>\n",
       "    <tr>\n",
       "      <th>1JkhKUXAoNivi87ipmV3rp</th>\n",
       "      <td>\\n\\n[Verse 1]\\nIt's simple, I love it\\nHaving ...</td>\n",
       "    </tr>\n",
       "    <tr>\n",
       "      <th>51lPx6ZCSalL2kvSrDUyJc</th>\n",
       "      <td>\\n\\n[Intro: Whistling]\\n\\n[Verse 1]\\nA great b...</td>\n",
       "    </tr>\n",
       "    <tr>\n",
       "      <th>3vqlZUIT3rEmLaYKDBfb4Q</th>\n",
       "      <td>\\n\\n[Verse 1]\\nIsn't she lovely\\nIsn't she won...</td>\n",
       "    </tr>\n",
       "  </tbody>\n",
       "</table>\n",
       "</div>"
      ],
      "text/plain": [
       "                                                                   lyrics\n",
       "track_id                                                                 \n",
       "0h7TlF8gKb61aSm874s3cV  \\n\\nIf your needle is near\\nNeedle is near\\nYo...\n",
       "6koowTu9pFHPEcZnACLKbK  \\n\\n[Verse 1]\\nBrown skin girl on the other si...\n",
       "1JkhKUXAoNivi87ipmV3rp  \\n\\n[Verse 1]\\nIt's simple, I love it\\nHaving ...\n",
       "51lPx6ZCSalL2kvSrDUyJc  \\n\\n[Intro: Whistling]\\n\\n[Verse 1]\\nA great b...\n",
       "3vqlZUIT3rEmLaYKDBfb4Q  \\n\\n[Verse 1]\\nIsn't she lovely\\nIsn't she won..."
      ]
     },
     "execution_count": 141,
     "metadata": {},
     "output_type": "execute_result"
    }
   ],
   "source": [
    "lyric_df.head()"
   ]
  },
  {
   "cell_type": "markdown",
   "metadata": {},
   "source": [
    "## Cleaning lyrics"
   ]
  },
  {
   "cell_type": "markdown",
   "metadata": {},
   "source": [
    "Defining a helper function to clean and split the lyrics to prepare for modeling. '\\n' characters will be preserved to allow the model to train on song structure however all tags and special characters (non-alphanumaric) will be removed."
   ]
  },
  {
   "cell_type": "code",
   "execution_count": 142,
   "metadata": {},
   "outputs": [],
   "source": [
    "def clean_lyrics(lyrics, keep_tags=False, keep_nl=False):\n",
    "\n",
    "    text = lyrics.lower()\n",
    "\n",
    "    if not keep_tags:\n",
    "        text = re.sub('(\\[.+\\])', '', text)\n",
    "\n",
    "    text = re.sub('[^a-z\\s]', '', text)\n",
    "\n",
    "    text = text.strip()\n",
    "    text = re.sub('\\n\\n', ' ', text) \n",
    "\n",
    "    text = text.strip()\n",
    "\n",
    "    if keep_nl:\n",
    "        text = re.sub('\\n', ' \\n ', text)\n",
    "    else:\n",
    "        text = re.sub('\\n', ' ', text)\n",
    "\n",
    "\n",
    "    return text"
   ]
  },
  {
   "cell_type": "markdown",
   "metadata": {},
   "source": [
    "Applying the cleaning function with a 'clean_lyrics' feature created as the output."
   ]
  },
  {
   "cell_type": "code",
   "execution_count": 143,
   "metadata": {},
   "outputs": [],
   "source": [
    "lyric_df['clean_lyrics'] = lyric_df.lyrics.map(lambda x: clean_lyrics(x, keep_tags=False, keep_nl=True))"
   ]
  },
  {
   "cell_type": "code",
   "execution_count": 144,
   "metadata": {},
   "outputs": [
    {
     "data": {
      "text/html": [
       "<div>\n",
       "<style scoped>\n",
       "    .dataframe tbody tr th:only-of-type {\n",
       "        vertical-align: middle;\n",
       "    }\n",
       "\n",
       "    .dataframe tbody tr th {\n",
       "        vertical-align: top;\n",
       "    }\n",
       "\n",
       "    .dataframe thead th {\n",
       "        text-align: right;\n",
       "    }\n",
       "</style>\n",
       "<table border=\"1\" class=\"dataframe\">\n",
       "  <thead>\n",
       "    <tr style=\"text-align: right;\">\n",
       "      <th></th>\n",
       "      <th>lyrics</th>\n",
       "      <th>clean_lyrics</th>\n",
       "    </tr>\n",
       "    <tr>\n",
       "      <th>track_id</th>\n",
       "      <th></th>\n",
       "      <th></th>\n",
       "    </tr>\n",
       "  </thead>\n",
       "  <tbody>\n",
       "    <tr>\n",
       "      <th>0h7TlF8gKb61aSm874s3cV</th>\n",
       "      <td>\\n\\nIf your needle is near\\nNeedle is near\\nYo...</td>\n",
       "      <td>if your needle is near \\n needle is near \\n yo...</td>\n",
       "    </tr>\n",
       "    <tr>\n",
       "      <th>6koowTu9pFHPEcZnACLKbK</th>\n",
       "      <td>\\n\\n[Verse 1]\\nBrown skin girl on the other si...</td>\n",
       "      <td>brown skin girl on the other side of the room ...</td>\n",
       "    </tr>\n",
       "    <tr>\n",
       "      <th>1JkhKUXAoNivi87ipmV3rp</th>\n",
       "      <td>\\n\\n[Verse 1]\\nIt's simple, I love it\\nHaving ...</td>\n",
       "      <td>its simple i love it \\n having you near me hav...</td>\n",
       "    </tr>\n",
       "    <tr>\n",
       "      <th>51lPx6ZCSalL2kvSrDUyJc</th>\n",
       "      <td>\\n\\n[Intro: Whistling]\\n\\n[Verse 1]\\nA great b...</td>\n",
       "      <td>a great big bang and dinosaurs \\n fiery rainin...</td>\n",
       "    </tr>\n",
       "    <tr>\n",
       "      <th>3vqlZUIT3rEmLaYKDBfb4Q</th>\n",
       "      <td>\\n\\n[Verse 1]\\nIsn't she lovely\\nIsn't she won...</td>\n",
       "      <td>isnt she lovely \\n isnt she wonderful \\n isnt ...</td>\n",
       "    </tr>\n",
       "  </tbody>\n",
       "</table>\n",
       "</div>"
      ],
      "text/plain": [
       "                                                                   lyrics  \\\n",
       "track_id                                                                    \n",
       "0h7TlF8gKb61aSm874s3cV  \\n\\nIf your needle is near\\nNeedle is near\\nYo...   \n",
       "6koowTu9pFHPEcZnACLKbK  \\n\\n[Verse 1]\\nBrown skin girl on the other si...   \n",
       "1JkhKUXAoNivi87ipmV3rp  \\n\\n[Verse 1]\\nIt's simple, I love it\\nHaving ...   \n",
       "51lPx6ZCSalL2kvSrDUyJc  \\n\\n[Intro: Whistling]\\n\\n[Verse 1]\\nA great b...   \n",
       "3vqlZUIT3rEmLaYKDBfb4Q  \\n\\n[Verse 1]\\nIsn't she lovely\\nIsn't she won...   \n",
       "\n",
       "                                                             clean_lyrics  \n",
       "track_id                                                                   \n",
       "0h7TlF8gKb61aSm874s3cV  if your needle is near \\n needle is near \\n yo...  \n",
       "6koowTu9pFHPEcZnACLKbK  brown skin girl on the other side of the room ...  \n",
       "1JkhKUXAoNivi87ipmV3rp  its simple i love it \\n having you near me hav...  \n",
       "51lPx6ZCSalL2kvSrDUyJc  a great big bang and dinosaurs \\n fiery rainin...  \n",
       "3vqlZUIT3rEmLaYKDBfb4Q  isnt she lovely \\n isnt she wonderful \\n isnt ...  "
      ]
     },
     "execution_count": 144,
     "metadata": {},
     "output_type": "execute_result"
    }
   ],
   "source": [
    "lyric_df.head()"
   ]
  },
  {
   "cell_type": "markdown",
   "metadata": {},
   "source": [
    "Searching for any tracks that are spanish or french. Since this will not represent the bulk of the dataset and generally will not be mixed with english they will be removed."
   ]
  },
  {
   "cell_type": "code",
   "execution_count": 145,
   "metadata": {},
   "outputs": [
    {
     "name": "stderr",
     "output_type": "stream",
     "text": [
      "/opt/conda/lib/python3.6/site-packages/ipykernel_launcher.py:1: UserWarning: This pattern has match groups. To actually get the groups, use str.extract.\n",
      "  \"\"\"Entry point for launching an IPython kernel.\n"
     ]
    }
   ],
   "source": [
    "not_eng = lyric_df[lyric_df['clean_lyrics'].str.contains('(\\sdel\\s)|(\\sque\\s)|(\\svous\\s)|(\\setre\\s)')].index.tolist()"
   ]
  },
  {
   "cell_type": "code",
   "execution_count": 146,
   "metadata": {},
   "outputs": [],
   "source": [
    "lyric_df = lyric_df.drop(index=not_eng, axis=0)"
   ]
  },
  {
   "cell_type": "markdown",
   "metadata": {},
   "source": [
    "Removing any tracks that have a Genius status stating that 'lyrics for the track have not yet been added'."
   ]
  },
  {
   "cell_type": "code",
   "execution_count": 147,
   "metadata": {},
   "outputs": [],
   "source": [
    "not_lyrics = lyric_df[lyric_df['clean_lyrics'].str.contains('lyrics for this song have yet')].index.tolist()"
   ]
  },
  {
   "cell_type": "code",
   "execution_count": 148,
   "metadata": {},
   "outputs": [],
   "source": [
    "lyric_df = lyric_df.drop(index=not_lyrics, axis=0)"
   ]
  },
  {
   "cell_type": "markdown",
   "metadata": {},
   "source": [
    "Removing any tracks with long stretches of whitespace characters."
   ]
  },
  {
   "cell_type": "code",
   "execution_count": 149,
   "metadata": {},
   "outputs": [
    {
     "name": "stderr",
     "output_type": "stream",
     "text": [
      "/opt/conda/lib/python3.6/site-packages/ipykernel_launcher.py:1: UserWarning: This pattern has match groups. To actually get the groups, use str.extract.\n",
      "  \"\"\"Entry point for launching an IPython kernel.\n"
     ]
    }
   ],
   "source": [
    "long_gap = lyric_df[lyric_df['clean_lyrics'].str.contains(r'(\\s{6,})')].index.tolist()"
   ]
  },
  {
   "cell_type": "code",
   "execution_count": 150,
   "metadata": {},
   "outputs": [],
   "source": [
    "lyric_df = lyric_df.drop(index=long_gap, axis=0)"
   ]
  },
  {
   "cell_type": "markdown",
   "metadata": {},
   "source": [
    "Removing any duplicate tracks."
   ]
  },
  {
   "cell_type": "code",
   "execution_count": 151,
   "metadata": {},
   "outputs": [],
   "source": [
    "lyric_df = lyric_df.drop_duplicates(subset=['clean_lyrics'])"
   ]
  },
  {
   "cell_type": "code",
   "execution_count": 152,
   "metadata": {},
   "outputs": [
    {
     "data": {
      "text/html": [
       "<div>\n",
       "<style scoped>\n",
       "    .dataframe tbody tr th:only-of-type {\n",
       "        vertical-align: middle;\n",
       "    }\n",
       "\n",
       "    .dataframe tbody tr th {\n",
       "        vertical-align: top;\n",
       "    }\n",
       "\n",
       "    .dataframe thead th {\n",
       "        text-align: right;\n",
       "    }\n",
       "</style>\n",
       "<table border=\"1\" class=\"dataframe\">\n",
       "  <thead>\n",
       "    <tr style=\"text-align: right;\">\n",
       "      <th></th>\n",
       "      <th>lyrics</th>\n",
       "      <th>clean_lyrics</th>\n",
       "    </tr>\n",
       "  </thead>\n",
       "  <tbody>\n",
       "    <tr>\n",
       "      <th>count</th>\n",
       "      <td>1782</td>\n",
       "      <td>1782</td>\n",
       "    </tr>\n",
       "    <tr>\n",
       "      <th>unique</th>\n",
       "      <td>1782</td>\n",
       "      <td>1782</td>\n",
       "    </tr>\n",
       "    <tr>\n",
       "      <th>top</th>\n",
       "      <td>\\n\\n[Verse 1]\\nGive me love like her\\n'Cause l...</td>\n",
       "      <td>one two three four all i need is a tv show tha...</td>\n",
       "    </tr>\n",
       "    <tr>\n",
       "      <th>freq</th>\n",
       "      <td>1</td>\n",
       "      <td>1</td>\n",
       "    </tr>\n",
       "  </tbody>\n",
       "</table>\n",
       "</div>"
      ],
      "text/plain": [
       "                                                   lyrics  \\\n",
       "count                                                1782   \n",
       "unique                                               1782   \n",
       "top     \\n\\n[Verse 1]\\nGive me love like her\\n'Cause l...   \n",
       "freq                                                    1   \n",
       "\n",
       "                                             clean_lyrics  \n",
       "count                                                1782  \n",
       "unique                                               1782  \n",
       "top     one two three four all i need is a tv show tha...  \n",
       "freq                                                    1  "
      ]
     },
     "execution_count": 152,
     "metadata": {},
     "output_type": "execute_result"
    }
   ],
   "source": [
    "lyric_df.describe()"
   ]
  },
  {
   "cell_type": "markdown",
   "metadata": {},
   "source": [
    "From the data description it appears that all our tracks are unique and there is parity between the lyrics and clean_lyrics features."
   ]
  },
  {
   "cell_type": "markdown",
   "metadata": {},
   "source": [
    "## Song Structure Analysis"
   ]
  },
  {
   "cell_type": "code",
   "execution_count": 153,
   "metadata": {},
   "outputs": [],
   "source": [
    "corpus = []\n",
    "words_track = []    \n",
    "lines_track = []\n",
    "\n",
    "for _, track in lyric_df[['clean_lyrics']].iterrows():\n",
    "    #words in full set\n",
    "    lyrics = track[0]\n",
    "    lyrics_spaced = re.sub(r'( +)', ' ', lyrics)\n",
    "    lyrics_split = lyrics_spaced.split(' ')\n",
    "    corpus.extend(lyrics_split)\n",
    "    \n",
    "    #lines in track\n",
    "    lines_split = lyrics_spaced.split('\\n')\n",
    "    lines_track.append(lines_split)\n",
    "    \n",
    "    #words in track w/o \\n \n",
    "    lyrics_spaced = re.sub(r'\\n ', '', lyrics_spaced)\n",
    "    lyrics_split = lyrics_spaced.split(' ')\n",
    "    words_track.append(lyrics_split)"
   ]
  },
  {
   "cell_type": "code",
   "execution_count": 154,
   "metadata": {},
   "outputs": [],
   "source": [
    "vocab = set(list(corpus))"
   ]
  },
  {
   "cell_type": "code",
   "execution_count": 155,
   "metadata": {},
   "outputs": [
    {
     "data": {
      "text/plain": [
       "12334"
      ]
     },
     "execution_count": 155,
     "metadata": {},
     "output_type": "execute_result"
    }
   ],
   "source": [
    "len(vocab)"
   ]
  },
  {
   "cell_type": "code",
   "execution_count": 156,
   "metadata": {},
   "outputs": [],
   "source": [
    "count_words_track = []\n",
    "for i in words_track:\n",
    "    count_words_track.append(len(i))"
   ]
  },
  {
   "cell_type": "code",
   "execution_count": 157,
   "metadata": {},
   "outputs": [],
   "source": [
    "lyric_df['total_words_track'] = count_words_track"
   ]
  },
  {
   "cell_type": "code",
   "execution_count": 158,
   "metadata": {},
   "outputs": [],
   "source": [
    "unique_words_track = []\n",
    "for track in words_track:\n",
    "    unique_words_track.append(set(track))"
   ]
  },
  {
   "cell_type": "code",
   "execution_count": 159,
   "metadata": {},
   "outputs": [],
   "source": [
    "count_unique_words_track = []\n",
    "for track in unique_words_track:\n",
    "    count_unique_words_track.append(len(track))"
   ]
  },
  {
   "cell_type": "code",
   "execution_count": 160,
   "metadata": {},
   "outputs": [],
   "source": [
    "lyric_df['unique_words_track'] = count_unique_words_track"
   ]
  },
  {
   "cell_type": "code",
   "execution_count": 161,
   "metadata": {},
   "outputs": [
    {
     "data": {
      "text/plain": [
       "282.48148148148147"
      ]
     },
     "execution_count": 161,
     "metadata": {},
     "output_type": "execute_result"
    }
   ],
   "source": [
    "np.mean(count_words_track)"
   ]
  },
  {
   "cell_type": "code",
   "execution_count": 162,
   "metadata": {},
   "outputs": [],
   "source": [
    "len_words_track = []\n",
    "for i in words_track:\n",
    "    len_words = []\n",
    "    for word in i:\n",
    "        len_words.append(len(word))\n",
    "    len_words_track.append(np.around(np.mean(len_words),1))"
   ]
  },
  {
   "cell_type": "code",
   "execution_count": null,
   "metadata": {},
   "outputs": [],
   "source": [
    "# lyric_df['mean_len_words_track'] = len_words_track"
   ]
  },
  {
   "cell_type": "code",
   "execution_count": 164,
   "metadata": {},
   "outputs": [],
   "source": [
    "count_lines_track = []\n",
    "for i in lines_track:\n",
    "    count_lines_track.append(len(i))"
   ]
  },
  {
   "cell_type": "code",
   "execution_count": 165,
   "metadata": {},
   "outputs": [],
   "source": [
    "lyric_df['total_lines_track'] = count_lines_track"
   ]
  },
  {
   "cell_type": "code",
   "execution_count": 166,
   "metadata": {},
   "outputs": [],
   "source": [
    "unique_lines_track = []\n",
    "for track in lines_track:\n",
    "    unique_lines_track.append(set(track))"
   ]
  },
  {
   "cell_type": "code",
   "execution_count": 167,
   "metadata": {},
   "outputs": [],
   "source": [
    "count_unique_lines_track = []\n",
    "for track in unique_lines_track:\n",
    "    count_unique_lines_track.append(len(track))"
   ]
  },
  {
   "cell_type": "code",
   "execution_count": 168,
   "metadata": {},
   "outputs": [],
   "source": [
    "lyric_df['unique_lines_track'] = count_unique_lines_track"
   ]
  },
  {
   "cell_type": "code",
   "execution_count": 169,
   "metadata": {},
   "outputs": [
    {
     "data": {
      "text/html": [
       "<div>\n",
       "<style scoped>\n",
       "    .dataframe tbody tr th:only-of-type {\n",
       "        vertical-align: middle;\n",
       "    }\n",
       "\n",
       "    .dataframe tbody tr th {\n",
       "        vertical-align: top;\n",
       "    }\n",
       "\n",
       "    .dataframe thead th {\n",
       "        text-align: right;\n",
       "    }\n",
       "</style>\n",
       "<table border=\"1\" class=\"dataframe\">\n",
       "  <thead>\n",
       "    <tr style=\"text-align: right;\">\n",
       "      <th></th>\n",
       "      <th>lyrics</th>\n",
       "      <th>clean_lyrics</th>\n",
       "      <th>total_words_track</th>\n",
       "      <th>unique_words_track</th>\n",
       "      <th>total_lines_track</th>\n",
       "      <th>unique_lines_track</th>\n",
       "    </tr>\n",
       "    <tr>\n",
       "      <th>track_id</th>\n",
       "      <th></th>\n",
       "      <th></th>\n",
       "      <th></th>\n",
       "      <th></th>\n",
       "      <th></th>\n",
       "      <th></th>\n",
       "    </tr>\n",
       "  </thead>\n",
       "  <tbody>\n",
       "    <tr>\n",
       "      <th>0h7TlF8gKb61aSm874s3cV</th>\n",
       "      <td>\\n\\nIf your needle is near\\nNeedle is near\\nYo...</td>\n",
       "      <td>if your needle is near \\n needle is near \\n yo...</td>\n",
       "      <td>57</td>\n",
       "      <td>20</td>\n",
       "      <td>14</td>\n",
       "      <td>8</td>\n",
       "    </tr>\n",
       "    <tr>\n",
       "      <th>6koowTu9pFHPEcZnACLKbK</th>\n",
       "      <td>\\n\\n[Verse 1]\\nBrown skin girl on the other si...</td>\n",
       "      <td>brown skin girl on the other side of the room ...</td>\n",
       "      <td>132</td>\n",
       "      <td>52</td>\n",
       "      <td>24</td>\n",
       "      <td>13</td>\n",
       "    </tr>\n",
       "    <tr>\n",
       "      <th>1JkhKUXAoNivi87ipmV3rp</th>\n",
       "      <td>\\n\\n[Verse 1]\\nIt's simple, I love it\\nHaving ...</td>\n",
       "      <td>its simple i love it \\n having you near me hav...</td>\n",
       "      <td>151</td>\n",
       "      <td>63</td>\n",
       "      <td>29</td>\n",
       "      <td>21</td>\n",
       "    </tr>\n",
       "    <tr>\n",
       "      <th>51lPx6ZCSalL2kvSrDUyJc</th>\n",
       "      <td>\\n\\n[Intro: Whistling]\\n\\n[Verse 1]\\nA great b...</td>\n",
       "      <td>a great big bang and dinosaurs \\n fiery rainin...</td>\n",
       "      <td>126</td>\n",
       "      <td>76</td>\n",
       "      <td>20</td>\n",
       "      <td>18</td>\n",
       "    </tr>\n",
       "    <tr>\n",
       "      <th>3vqlZUIT3rEmLaYKDBfb4Q</th>\n",
       "      <td>\\n\\n[Verse 1]\\nIsn't she lovely\\nIsn't she won...</td>\n",
       "      <td>isnt she lovely \\n isnt she wonderful \\n isnt ...</td>\n",
       "      <td>108</td>\n",
       "      <td>66</td>\n",
       "      <td>21</td>\n",
       "      <td>20</td>\n",
       "    </tr>\n",
       "  </tbody>\n",
       "</table>\n",
       "</div>"
      ],
      "text/plain": [
       "                                                                   lyrics  \\\n",
       "track_id                                                                    \n",
       "0h7TlF8gKb61aSm874s3cV  \\n\\nIf your needle is near\\nNeedle is near\\nYo...   \n",
       "6koowTu9pFHPEcZnACLKbK  \\n\\n[Verse 1]\\nBrown skin girl on the other si...   \n",
       "1JkhKUXAoNivi87ipmV3rp  \\n\\n[Verse 1]\\nIt's simple, I love it\\nHaving ...   \n",
       "51lPx6ZCSalL2kvSrDUyJc  \\n\\n[Intro: Whistling]\\n\\n[Verse 1]\\nA great b...   \n",
       "3vqlZUIT3rEmLaYKDBfb4Q  \\n\\n[Verse 1]\\nIsn't she lovely\\nIsn't she won...   \n",
       "\n",
       "                                                             clean_lyrics  \\\n",
       "track_id                                                                    \n",
       "0h7TlF8gKb61aSm874s3cV  if your needle is near \\n needle is near \\n yo...   \n",
       "6koowTu9pFHPEcZnACLKbK  brown skin girl on the other side of the room ...   \n",
       "1JkhKUXAoNivi87ipmV3rp  its simple i love it \\n having you near me hav...   \n",
       "51lPx6ZCSalL2kvSrDUyJc  a great big bang and dinosaurs \\n fiery rainin...   \n",
       "3vqlZUIT3rEmLaYKDBfb4Q  isnt she lovely \\n isnt she wonderful \\n isnt ...   \n",
       "\n",
       "                        total_words_track  unique_words_track  \\\n",
       "track_id                                                        \n",
       "0h7TlF8gKb61aSm874s3cV                 57                  20   \n",
       "6koowTu9pFHPEcZnACLKbK                132                  52   \n",
       "1JkhKUXAoNivi87ipmV3rp                151                  63   \n",
       "51lPx6ZCSalL2kvSrDUyJc                126                  76   \n",
       "3vqlZUIT3rEmLaYKDBfb4Q                108                  66   \n",
       "\n",
       "                        total_lines_track  unique_lines_track  \n",
       "track_id                                                       \n",
       "0h7TlF8gKb61aSm874s3cV                 14                   8  \n",
       "6koowTu9pFHPEcZnACLKbK                 24                  13  \n",
       "1JkhKUXAoNivi87ipmV3rp                 29                  21  \n",
       "51lPx6ZCSalL2kvSrDUyJc                 20                  18  \n",
       "3vqlZUIT3rEmLaYKDBfb4Q                 21                  20  "
      ]
     },
     "execution_count": 169,
     "metadata": {},
     "output_type": "execute_result"
    }
   ],
   "source": [
    "lyric_df.head()"
   ]
  },
  {
   "cell_type": "code",
   "execution_count": 170,
   "metadata": {},
   "outputs": [
    {
     "data": {
      "text/plain": [
       "40.778338945005615"
      ]
     },
     "execution_count": 170,
     "metadata": {},
     "output_type": "execute_result"
    }
   ],
   "source": [
    "np.mean(count_lines_track)"
   ]
  },
  {
   "cell_type": "code",
   "execution_count": 171,
   "metadata": {},
   "outputs": [],
   "source": [
    "len_word = 0\n",
    "for word in vocab:\n",
    "    len_word += len(word)"
   ]
  },
  {
   "cell_type": "code",
   "execution_count": 172,
   "metadata": {},
   "outputs": [
    {
     "data": {
      "text/plain": [
       "6.373439273552781"
      ]
     },
     "execution_count": 172,
     "metadata": {},
     "output_type": "execute_result"
    }
   ],
   "source": [
    "mean_len_word = len_word / len(vocab)\n",
    "mean_len_word"
   ]
  },
  {
   "cell_type": "code",
   "execution_count": 173,
   "metadata": {},
   "outputs": [],
   "source": [
    "mean_words_line = []\n",
    "for track in lines_track:\n",
    "    words_line = []\n",
    "    for line in track:\n",
    "        words_line.append(len(line.split(' ')))\n",
    "    mean_words_line.append(np.around(np.mean(words_line),1))"
   ]
  },
  {
   "cell_type": "code",
   "execution_count": 174,
   "metadata": {},
   "outputs": [],
   "source": [
    "lyric_df['mean_words_line'] = mean_words_line"
   ]
  },
  {
   "cell_type": "code",
   "execution_count": 175,
   "metadata": {},
   "outputs": [],
   "source": [
    "mean_unique_words_line = []\n",
    "for track in lines_track:\n",
    "    unique_words_line = []\n",
    "    for line in track:\n",
    "        unique_words_line.append(len(set(line.split(' '))))\n",
    "    mean_unique_words_line.append(np.around(np.mean(unique_words_line),1))"
   ]
  },
  {
   "cell_type": "code",
   "execution_count": 176,
   "metadata": {},
   "outputs": [],
   "source": [
    "lyric_df['mean_unique_words_line'] = mean_unique_words_line"
   ]
  },
  {
   "cell_type": "code",
   "execution_count": 177,
   "metadata": {},
   "outputs": [
    {
     "data": {
      "image/png": "[encoded data removed]",
      "text/plain": [
       "<Figure size 576x360 with 1 Axes>"
      ]
     },
     "metadata": {
      "needs_background": "light"
     },
     "output_type": "display_data"
    }
   ],
   "source": [
    "plt.figure(figsize=(8,5));\n",
    "plt.title('Total Lines In Track', fontsize=25);\n",
    "plt.xlabel('Number of Lines', fontsize=20);\n",
    "plt.ylabel('Count Tracks', fontsize=20);\n",
    "plt.hist(lyric_df['total_lines_track'], range=(0,150));"
   ]
  },
  {
   "cell_type": "code",
   "execution_count": 178,
   "metadata": {},
   "outputs": [
    {
     "data": {
      "image/png": "[encoded data removed]",
      "text/plain": [
       "<Figure size 576x360 with 1 Axes>"
      ]
     },
     "metadata": {
      "needs_background": "light"
     },
     "output_type": "display_data"
    }
   ],
   "source": [
    "plt.figure(figsize=(8,5));\n",
    "plt.title('Unique Lines In Track', fontsize=25);\n",
    "plt.xlabel('Number of Unique Lines', fontsize=20);\n",
    "plt.ylabel('Count Tracks', fontsize=20);\n",
    "plt.hist(lyric_df['unique_lines_track'], range=(0,150));"
   ]
  },
  {
   "cell_type": "code",
   "execution_count": 179,
   "metadata": {},
   "outputs": [
    {
     "data": {
      "image/png": "[encoded data removed]",
      "text/plain": [
       "<Figure size 576x360 with 1 Axes>"
      ]
     },
     "metadata": {
      "needs_background": "light"
     },
     "output_type": "display_data"
    }
   ],
   "source": [
    "plt.figure(figsize=(8,5));\n",
    "plt.title('Total Words In Track', fontsize=25);\n",
    "plt.xlabel('Number of Words', fontsize=20);\n",
    "plt.ylabel('Count Tracks', fontsize=20);\n",
    "plt.hist(lyric_df['total_words_track'], range=(0, 1000));"
   ]
  },
  {
   "cell_type": "code",
   "execution_count": 180,
   "metadata": {},
   "outputs": [
    {
     "data": {
      "image/png": "[encoded data removed]",
      "text/plain": [
       "<Figure size 576x360 with 1 Axes>"
      ]
     },
     "metadata": {
      "needs_background": "light"
     },
     "output_type": "display_data"
    }
   ],
   "source": [
    "plt.figure(figsize=(8,5));\n",
    "plt.title('Unique Words In Track', fontsize=25);\n",
    "plt.xlabel('Number of Unique Words', fontsize=20);\n",
    "plt.ylabel('Count Tracks', fontsize=20);\n",
    "plt.hist(lyric_df['unique_words_track'], range=(0,150));"
   ]
  },
  {
   "cell_type": "code",
   "execution_count": 181,
   "metadata": {},
   "outputs": [
    {
     "data": {
      "image/png": "[encoded data removed]",
      "text/plain": [
       "<Figure size 576x360 with 1 Axes>"
      ]
     },
     "metadata": {
      "needs_background": "light"
     },
     "output_type": "display_data"
    }
   ],
   "source": [
    "plt.figure(figsize=(8,5));\n",
    "plt.title('Mean Words In Line', fontsize=25);\n",
    "plt.xlabel('Mean Number of Words', fontsize=20);\n",
    "plt.ylabel('Count Tracks', fontsize=20);\n",
    "plt.hist(lyric_df['mean_words_line'], range=(0,20));"
   ]
  },
  {
   "cell_type": "code",
   "execution_count": 182,
   "metadata": {},
   "outputs": [
    {
     "data": {
      "image/png": "[encoded data removed]",
      "text/plain": [
       "<Figure size 576x360 with 1 Axes>"
      ]
     },
     "metadata": {
      "needs_background": "light"
     },
     "output_type": "display_data"
    }
   ],
   "source": [
    "plt.figure(figsize=(8,5));\n",
    "plt.title('Mean Unique Words In Line', fontsize=25);\n",
    "plt.xlabel('Number of Unique Words', fontsize=20);\n",
    "plt.ylabel('Count Tracks', fontsize=20);\n",
    "plt.hist(lyric_df['mean_unique_words_line'], range=(0,20));"
   ]
  },
  {
   "cell_type": "code",
   "execution_count": 183,
   "metadata": {},
   "outputs": [
    {
     "data": {
      "image/png": "[encoded data removed]",
      "text/plain": [
       "<Figure size 576x360 with 1 Axes>"
      ]
     },
     "metadata": {
      "needs_background": "light"
     },
     "output_type": "display_data"
    }
   ],
   "source": [
    "plt.figure(figsize=(8,5));\n",
    "plt.title('Mean Word Length In Track', fontsize=25);\n",
    "plt.xlabel('Mean Word Length', fontsize=20);\n",
    "plt.ylabel('Count Tracks', fontsize=20);\n",
    "plt.hist(len_words_track);"
   ]
  },
  {
   "cell_type": "code",
   "execution_count": 229,
   "metadata": {},
   "outputs": [
    {
     "data": {
      "text/plain": [
       "'https://plot.ly/~csinatra/2'"
      ]
     },
     "execution_count": 229,
     "metadata": {},
     "output_type": "execute_result"
    }
   ],
   "source": [
    "trace1 = go.Histogram(\n",
    "    x=lyric_df['total_words_track'],\n",
    "    opacity=0.75,\n",
    "    hoverinfo=['x'],\n",
    "    name='Total Words',\n",
    ")\n",
    "trace2 = go.Histogram(\n",
    "    x=lyric_df['unique_words_track'],\n",
    "    opacity=0.75,\n",
    "    hoverinfo=['x'],\n",
    "    name='Unique Words',\n",
    ")\n",
    "\n",
    "data = [trace1, trace2]\n",
    "layout = go.Layout(barmode='overlay',\n",
    "                   title='Total vs Unique Words in Track',\n",
    "                   xaxis=dict(\n",
    "                            title='Words in Track'\n",
    "                            ),\n",
    "                   yaxis=dict(\n",
    "                            title='Count Tracks')\n",
    "                  )\n",
    "\n",
    "fig = go.Figure(data=data, layout=layout)\n",
    "\n",
    "py.plot(fig, filename='words_overlay', auto_open=True)"
   ]
  },
  {
   "cell_type": "code",
   "execution_count": 228,
   "metadata": {},
   "outputs": [
    {
     "name": "stdout",
     "output_type": "stream",
     "text": [
      "High five! You successfully sent some data to your account on plotly. View your plot in your browser at https://plot.ly/~csinatra/0 or inside your plot.ly account where it is named 'lines_overlay'\n"
     ]
    },
    {
     "data": {
      "text/plain": [
       "'https://plot.ly/~csinatra/0'"
      ]
     },
     "execution_count": 228,
     "metadata": {},
     "output_type": "execute_result"
    }
   ],
   "source": [
    "trace1 = go.Histogram(\n",
    "    x=lyric_df['total_lines_track'],\n",
    "    opacity=0.75,\n",
    "    hoverinfo=['x'],\n",
    "    name='Total Lines',\n",
    ")\n",
    "trace2 = go.Histogram(\n",
    "    x=lyric_df['unique_lines_track'],\n",
    "    opacity=0.75,\n",
    "    hoverinfo=['x'],\n",
    "    name='Unique Lines',\n",
    ")\n",
    "\n",
    "data = [trace1, trace2]\n",
    "layout = go.Layout(barmode='overlay',\n",
    "                   title='Total vs Unique Lines in Track',\n",
    "                   xaxis=dict(\n",
    "                            title='Lines in Track'\n",
    "                            ),\n",
    "                  yaxis=dict(\n",
    "                            title='Count Tracks')\n",
    "                  )\n",
    "\n",
    "fig = go.Figure(data=data, layout=layout)\n",
    "\n",
    "py.plot(fig, filename='lines_overlay', auto_open=True)"
   ]
  },
  {
   "cell_type": "code",
   "execution_count": 233,
   "metadata": {},
   "outputs": [
    {
     "data": {
      "text/plain": [
       "'https://plot.ly/~csinatra/4'"
      ]
     },
     "execution_count": 233,
     "metadata": {},
     "output_type": "execute_result"
    }
   ],
   "source": [
    "trace1 = go.Histogram(\n",
    "    x=lyric_df['mean_words_line'],\n",
    "    opacity=0.75,\n",
    "    hoverinfo=['x'],\n",
    "    name='Total Words',\n",
    ")\n",
    "trace2 = go.Histogram(\n",
    "    x=lyric_df['mean_unique_words_line'],\n",
    "    opacity=0.75,\n",
    "    hoverinfo=['x'],\n",
    "    name='Unique Words',\n",
    ")\n",
    "\n",
    "data = [trace1, trace2]\n",
    "layout = go.Layout(barmode='overlay',\n",
    "                   title='Total vs Unique Words in Line',\n",
    "                   xaxis=dict(\n",
    "                            title='Mean Words in Line'\n",
    "                            ),\n",
    "                   yaxis=dict(\n",
    "                            title='Count Tracks')\n",
    "                   \n",
    "                  )\n",
    "\n",
    "fig = go.Figure(data=data, layout=layout)\n",
    "\n",
    "py.plot(fig, filename='mean_words_overlay', auto_open=True)"
   ]
  },
  {
   "cell_type": "code",
   "execution_count": 184,
   "metadata": {},
   "outputs": [
    {
     "data": {
      "text/html": [
       "<div>\n",
       "<style scoped>\n",
       "    .dataframe tbody tr th:only-of-type {\n",
       "        vertical-align: middle;\n",
       "    }\n",
       "\n",
       "    .dataframe tbody tr th {\n",
       "        vertical-align: top;\n",
       "    }\n",
       "\n",
       "    .dataframe thead th {\n",
       "        text-align: right;\n",
       "    }\n",
       "</style>\n",
       "<table border=\"1\" class=\"dataframe\">\n",
       "  <thead>\n",
       "    <tr style=\"text-align: right;\">\n",
       "      <th></th>\n",
       "      <th>total_words_track</th>\n",
       "      <th>unique_words_track</th>\n",
       "      <th>total_lines_track</th>\n",
       "      <th>unique_lines_track</th>\n",
       "      <th>mean_words_line</th>\n",
       "      <th>mean_unique_words_line</th>\n",
       "    </tr>\n",
       "  </thead>\n",
       "  <tbody>\n",
       "    <tr>\n",
       "      <th>count</th>\n",
       "      <td>1782.000000</td>\n",
       "      <td>1782.000000</td>\n",
       "      <td>1782.000000</td>\n",
       "      <td>1782.000000</td>\n",
       "      <td>1782.000000</td>\n",
       "      <td>1782.000000</td>\n",
       "    </tr>\n",
       "    <tr>\n",
       "      <th>mean</th>\n",
       "      <td>282.481481</td>\n",
       "      <td>96.005612</td>\n",
       "      <td>40.778339</td>\n",
       "      <td>27.631874</td>\n",
       "      <td>9.064646</td>\n",
       "      <td>7.581650</td>\n",
       "    </tr>\n",
       "    <tr>\n",
       "      <th>std</th>\n",
       "      <td>125.522564</td>\n",
       "      <td>37.827128</td>\n",
       "      <td>17.909176</td>\n",
       "      <td>12.125132</td>\n",
       "      <td>2.039929</td>\n",
       "      <td>1.684362</td>\n",
       "    </tr>\n",
       "    <tr>\n",
       "      <th>min</th>\n",
       "      <td>1.000000</td>\n",
       "      <td>1.000000</td>\n",
       "      <td>1.000000</td>\n",
       "      <td>1.000000</td>\n",
       "      <td>1.000000</td>\n",
       "      <td>1.000000</td>\n",
       "    </tr>\n",
       "    <tr>\n",
       "      <th>25%</th>\n",
       "      <td>194.250000</td>\n",
       "      <td>74.000000</td>\n",
       "      <td>28.000000</td>\n",
       "      <td>20.000000</td>\n",
       "      <td>7.900000</td>\n",
       "      <td>6.600000</td>\n",
       "    </tr>\n",
       "    <tr>\n",
       "      <th>50%</th>\n",
       "      <td>267.000000</td>\n",
       "      <td>91.500000</td>\n",
       "      <td>38.000000</td>\n",
       "      <td>25.000000</td>\n",
       "      <td>8.800000</td>\n",
       "      <td>7.400000</td>\n",
       "    </tr>\n",
       "    <tr>\n",
       "      <th>75%</th>\n",
       "      <td>345.750000</td>\n",
       "      <td>112.000000</td>\n",
       "      <td>51.000000</td>\n",
       "      <td>33.000000</td>\n",
       "      <td>9.900000</td>\n",
       "      <td>8.300000</td>\n",
       "    </tr>\n",
       "    <tr>\n",
       "      <th>max</th>\n",
       "      <td>1339.000000</td>\n",
       "      <td>433.000000</td>\n",
       "      <td>224.000000</td>\n",
       "      <td>189.000000</td>\n",
       "      <td>55.400000</td>\n",
       "      <td>39.800000</td>\n",
       "    </tr>\n",
       "  </tbody>\n",
       "</table>\n",
       "</div>"
      ],
      "text/plain": [
       "       total_words_track  unique_words_track  total_lines_track  \\\n",
       "count        1782.000000         1782.000000        1782.000000   \n",
       "mean          282.481481           96.005612          40.778339   \n",
       "std           125.522564           37.827128          17.909176   \n",
       "min             1.000000            1.000000           1.000000   \n",
       "25%           194.250000           74.000000          28.000000   \n",
       "50%           267.000000           91.500000          38.000000   \n",
       "75%           345.750000          112.000000          51.000000   \n",
       "max          1339.000000          433.000000         224.000000   \n",
       "\n",
       "       unique_lines_track  mean_words_line  mean_unique_words_line  \n",
       "count         1782.000000      1782.000000             1782.000000  \n",
       "mean            27.631874         9.064646                7.581650  \n",
       "std             12.125132         2.039929                1.684362  \n",
       "min              1.000000         1.000000                1.000000  \n",
       "25%             20.000000         7.900000                6.600000  \n",
       "50%             25.000000         8.800000                7.400000  \n",
       "75%             33.000000         9.900000                8.300000  \n",
       "max            189.000000        55.400000               39.800000  "
      ]
     },
     "execution_count": 184,
     "metadata": {},
     "output_type": "execute_result"
    }
   ],
   "source": [
    "lyric_df.describe()"
   ]
  },
  {
   "cell_type": "code",
   "execution_count": 235,
   "metadata": {},
   "outputs": [
    {
     "data": {
      "text/html": [
       "<div>\n",
       "<style scoped>\n",
       "    .dataframe tbody tr th:only-of-type {\n",
       "        vertical-align: middle;\n",
       "    }\n",
       "\n",
       "    .dataframe tbody tr th {\n",
       "        vertical-align: top;\n",
       "    }\n",
       "\n",
       "    .dataframe thead th {\n",
       "        text-align: right;\n",
       "    }\n",
       "</style>\n",
       "<table border=\"1\" class=\"dataframe\">\n",
       "  <thead>\n",
       "    <tr style=\"text-align: right;\">\n",
       "      <th></th>\n",
       "      <th>lyrics</th>\n",
       "      <th>clean_lyrics</th>\n",
       "      <th>total_words_track</th>\n",
       "      <th>unique_words_track</th>\n",
       "      <th>total_lines_track</th>\n",
       "      <th>unique_lines_track</th>\n",
       "      <th>mean_words_line</th>\n",
       "      <th>mean_unique_words_line</th>\n",
       "    </tr>\n",
       "    <tr>\n",
       "      <th>track_id</th>\n",
       "      <th></th>\n",
       "      <th></th>\n",
       "      <th></th>\n",
       "      <th></th>\n",
       "      <th></th>\n",
       "      <th></th>\n",
       "      <th></th>\n",
       "      <th></th>\n",
       "    </tr>\n",
       "  </thead>\n",
       "  <tbody>\n",
       "    <tr>\n",
       "      <th>4usvynbYaFqgm4olpzEp9u</th>\n",
       "      <td>\\n\\nYou have to take a little, give a little, ...</td>\n",
       "      <td>you have to take a little give a little and le...</td>\n",
       "      <td>26</td>\n",
       "      <td>19</td>\n",
       "      <td>1</td>\n",
       "      <td>1</td>\n",
       "      <td>26.0</td>\n",
       "      <td>19.0</td>\n",
       "    </tr>\n",
       "  </tbody>\n",
       "</table>\n",
       "</div>"
      ],
      "text/plain": [
       "                                                                   lyrics  \\\n",
       "track_id                                                                    \n",
       "4usvynbYaFqgm4olpzEp9u  \\n\\nYou have to take a little, give a little, ...   \n",
       "\n",
       "                                                             clean_lyrics  \\\n",
       "track_id                                                                    \n",
       "4usvynbYaFqgm4olpzEp9u  you have to take a little give a little and le...   \n",
       "\n",
       "                        total_words_track  unique_words_track  \\\n",
       "track_id                                                        \n",
       "4usvynbYaFqgm4olpzEp9u                 26                  19   \n",
       "\n",
       "                        total_lines_track  unique_lines_track  \\\n",
       "track_id                                                        \n",
       "4usvynbYaFqgm4olpzEp9u                  1                   1   \n",
       "\n",
       "                        mean_words_line  mean_unique_words_line  \n",
       "track_id                                                         \n",
       "4usvynbYaFqgm4olpzEp9u             26.0                    19.0  "
      ]
     },
     "execution_count": 235,
     "metadata": {},
     "output_type": "execute_result"
    }
   ],
   "source": [
    "lyric_df[lyric_df.loc[:,'total_lines_track'] < 5]"
   ]
  },
  {
   "cell_type": "code",
   "execution_count": 190,
   "metadata": {},
   "outputs": [
    {
     "data": {
      "text/plain": [
       "'\\n\\nYou have to take a little, give a little, and let your cold heart break a little. thats the story of thats the glory of love\\n\\n'"
      ]
     },
     "execution_count": 190,
     "metadata": {},
     "output_type": "execute_result"
    }
   ],
   "source": [
    "lyric_df.loc['4usvynbYaFqgm4olpzEp9u'].lyrics"
   ]
  },
  {
   "cell_type": "code",
   "execution_count": null,
   "metadata": {},
   "outputs": [],
   "source": [
    "ods graphics / width=500 height=500; /* for 9.4M5 you might need NXYBINSMAX=1000000 */\n",
    "proc iml;\n",
    "/* define a function that creates and visualizes the repetition matrix */\n",
    "def lyrics_grid(DSName, Title);\n",
    "   use (DSName); read all var _CHAR_ into Word;  close;\n",
    "   N = nrow(Word);\n",
    "   M = j(N,N,0);                       /* allocate N x N matrix */\n",
    "   do i = 1 to N;\n",
    "      M[,i] = element(Word, Word[i]);  /* construct i_th row */\n",
    "   end;\n",
    "   run heatmapdisc(M) title=Title\n",
    "       colorramp={white black} displayoutlines=0 showlegend=0;\n",
    " \n",
    "   /* compute the proportion of 1s in the upper triangular portion of the matrix */\n",
    "   upperIdx = loc(col(M)>row(M));\n",
    "   return ( M[upperIdx][:] );  /* proportion of words that are repeated */\n",
    "finish;\n",
    " \n",
    "score = VizLyrics(\"Lyrics\", \"Here We Go Round the Mulberry Bush\");\n",
    "print score;"
   ]
  },
  {
   "cell_type": "code",
   "execution_count": null,
   "metadata": {},
   "outputs": [],
   "source": [
    "# formatted_name, now, file_description= filename_format_log(file_path = '../assets/lyric_df.csv')\n",
    "\n",
    "# lyric_df.to_csv(formatted_name, index=False)"
   ]
  },
  {
   "cell_type": "code",
   "execution_count": null,
   "metadata": {},
   "outputs": [],
   "source": [
    "eda_df = pd.DataFrame(columns=['id', 'line', 'line_num', 'tag'])\n",
    "\n",
    "for idx, track in lyric_df[['lyrics']].iterrows():\n",
    "    track = re.sub('(\\[[^\\]]+\\]\\\\n\\\\n)', '', track[0]) #removes tags without lyrics\n",
    "    track = re.sub('\\[[^\\[]+(:[^\\]]+)\\]', '', track) #removes all text after :\n",
    "    track = re.sub('\\[[^\\[]+(–[^\\]]+)|\\[[^\\[]+(-\\s[^\\]]+)\\]', '', track) #removes all after –\n",
    "    track = re.sub('\\[[^\\[]+(\\(([^\\]]+))\\]', '', track) #removes all after ()\n",
    "    track = re.sub('(^|)(\\[Ad-Libs\\])|(\\[Keisha\\])|(\\[Shane Powers\\])', '', track) #removes artist and non-standard tags\n",
    "    track = re.sub('(^|)(\\[Break\\])|(\\[Vocals / Lyrics By\\])|(\\[Skit\\])', '', track) #removes artist and non-standard tags\n",
    "    \n",
    "    tags = re.findall('(\\[[^\\]]+\\])', track) #finds all tags\n",
    "    track = re.sub('(\\[[^\\]]+\\])', '', track) #removes all tags\n",
    "              \n",
    "    track = track.strip().split('\\n\\n') \n",
    "    track_split = [verse.strip().split('\\n') for verse in track] \n",
    "    \n",
    "    v_count = len(track_split)\n",
    "\n",
    "    for i in range(v_count):\n",
    "        if len(tags) == v_count:\n",
    "            tag = tags[i]\n",
    "        else:\n",
    "            tag = f'[verse {(i+1)}]'\n",
    "        \n",
    "        for j, line in enumerate(track_split[i]):\n",
    "            index = 1\n",
    "            \n",
    "            row = {\n",
    "            'id': idx,\n",
    "            'line':line,\n",
    "            'line_num':(j+1),\n",
    "            'tag': tag.lower()\n",
    "            }\n",
    "            \n",
    "            eda_df = eda_df.append(row, ignore_index=True)"
   ]
  },
  {
   "cell_type": "code",
   "execution_count": null,
   "metadata": {},
   "outputs": [],
   "source": [
    "eda_df"
   ]
  },
  {
   "cell_type": "code",
   "execution_count": null,
   "metadata": {},
   "outputs": [],
   "source": [
    "# formatted_name, now, file_description = filename_format_log(file_path ='../assets/eda_df.csv')\n",
    "# eda_df.to_csv(formatted_name, index=False)"
   ]
  },
  {
   "cell_type": "code",
   "execution_count": null,
   "metadata": {},
   "outputs": [],
   "source": [
    "# eda_df = pd.read_csv('../assets/1548892595_eda_df.csv')"
   ]
  },
  {
   "cell_type": "code",
   "execution_count": null,
   "metadata": {},
   "outputs": [],
   "source": [
    "eda_df.tag.value_counts()[eda_df.tag.value_counts() < 10]"
   ]
  },
  {
   "cell_type": "code",
   "execution_count": null,
   "metadata": {},
   "outputs": [],
   "source": [
    "drop = eda_df[eda_df['id'] == '4TYZXfu6VeblQMK2TwbDte'].index.tolist()"
   ]
  },
  {
   "cell_type": "code",
   "execution_count": null,
   "metadata": {},
   "outputs": [],
   "source": [
    "eda_df = eda_df.drop(drop, axis=0)"
   ]
  },
  {
   "cell_type": "code",
   "execution_count": null,
   "metadata": {},
   "outputs": [],
   "source": [
    "eda_df[eda_df.loc[:,'tag'] == '[verse 55]']"
   ]
  },
  {
   "cell_type": "code",
   "execution_count": null,
   "metadata": {},
   "outputs": [],
   "source": [
    "lyric_df.loc['6xYd4zCVeSp80Un2Rl9wDs',:]['lyrics']"
   ]
  },
  {
   "cell_type": "code",
   "execution_count": null,
   "metadata": {},
   "outputs": [],
   "source": [
    "off_verse = eda_df[eda_df.id =='6xYd4zCVeSp80Un2Rl9wDs'].index.tolist()"
   ]
  },
  {
   "cell_type": "code",
   "execution_count": null,
   "metadata": {},
   "outputs": [],
   "source": [
    "eda_df.tag.loc[off_verse] = eda_df.tag.loc[off_verse].map(lambda x: '[verse 1]')"
   ]
  },
  {
   "cell_type": "code",
   "execution_count": null,
   "metadata": {},
   "outputs": [],
   "source": [
    "eda_df.loc[off_verse,'line_num'] = list(range(1,63))"
   ]
  },
  {
   "cell_type": "code",
   "execution_count": null,
   "metadata": {},
   "outputs": [],
   "source": [
    "eda_df.tag.value_counts()"
   ]
  },
  {
   "cell_type": "code",
   "execution_count": null,
   "metadata": {},
   "outputs": [],
   "source": [
    "eda_df[eda_df.tag.str.contains('\\n')]"
   ]
  },
  {
   "cell_type": "code",
   "execution_count": null,
   "metadata": {},
   "outputs": [],
   "source": [
    "eda_df[eda_df.loc[:,'tag'] == '[verse 28]']"
   ]
  },
  {
   "cell_type": "code",
   "execution_count": null,
   "metadata": {},
   "outputs": [],
   "source": [
    "leagues = eda_df[eda_df.id =='2za6PlkAQAMMu0VFsfBoHC'].index.tolist()"
   ]
  },
  {
   "cell_type": "code",
   "execution_count": null,
   "metadata": {},
   "outputs": [],
   "source": [
    "eda_df = eda_df.drop(index=leagues, axis=0)"
   ]
  },
  {
   "cell_type": "code",
   "execution_count": null,
   "metadata": {},
   "outputs": [],
   "source": [
    "eda_df.describe()"
   ]
  },
  {
   "cell_type": "code",
   "execution_count": null,
   "metadata": {},
   "outputs": [],
   "source": [
    "eda_df[eda_df.id == '1ZzbD3g1K6LY2S1w5cdowm']"
   ]
  },
  {
   "cell_type": "code",
   "execution_count": null,
   "metadata": {},
   "outputs": [],
   "source": [
    "eda_df[eda_df.id == '3yPMLvxeEor7rbDLDseJFt']"
   ]
  },
  {
   "cell_type": "code",
   "execution_count": null,
   "metadata": {},
   "outputs": [],
   "source": [
    "tracks = eda_df[eda_df.id == '3yPMLvxeEor7rbDLDseJFt'].index.tolist()"
   ]
  },
  {
   "cell_type": "code",
   "execution_count": null,
   "metadata": {},
   "outputs": [],
   "source": [
    "eda_df = eda_df.drop(index=tracks, axis=0)"
   ]
  },
  {
   "cell_type": "code",
   "execution_count": null,
   "metadata": {},
   "outputs": [],
   "source": [
    "eda_df.describe()"
   ]
  },
  {
   "cell_type": "code",
   "execution_count": null,
   "metadata": {},
   "outputs": [],
   "source": [
    "eda_df.tag.value_counts()"
   ]
  },
  {
   "cell_type": "code",
   "execution_count": null,
   "metadata": {},
   "outputs": [],
   "source": [
    "bad_tag = eda_df.tag[eda_df.tag.str.contains('\\n')].index.tolist()"
   ]
  },
  {
   "cell_type": "code",
   "execution_count": null,
   "metadata": {},
   "outputs": [],
   "source": [
    "eda_df = eda_df.drop(index=bad_tag,axis=0)"
   ]
  },
  {
   "cell_type": "code",
   "execution_count": null,
   "metadata": {},
   "outputs": [],
   "source": [
    "eda_df.tag.value_counts()"
   ]
  }
 ],
 "metadata": {
  "kernelspec": {
   "display_name": "Python 3",
   "language": "python",
   "name": "python3"
  },
  "language_info": {
   "codemirror_mode": {
    "name": "ipython",
    "version": 3
   },
   "file_extension": ".py",
   "mimetype": "text/x-python",
   "name": "python",
   "nbconvert_exporter": "python",
   "pygments_lexer": "ipython3",
   "version": "3.6.8"
  }
 },
 "nbformat": 4,
 "nbformat_minor": 2
}
