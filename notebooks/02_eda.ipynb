{
 "cells": [
  {
   "cell_type": "markdown",
   "metadata": {},
   "source": [
    "# Notebook 02: EDA"
   ]
  },
  {
   "cell_type": "markdown",
   "metadata": {},
   "source": [
    "## Contents:\n",
    "1. [Summary](#section1)\n",
    "2. [Dropping or Amending Lyrics](#section2)\n",
    "3. [Cleaning Lyrics](#section3)\n",
    "4. [Song Structure Analysis](#section4)\n",
    "5. [Plotting](#section5)\n",
    "6. [Lyric Structure Analysis](#section6)"
   ]
  },
  {
   "cell_type": "markdown",
   "metadata": {},
   "source": [
    "## Summary  <a name=\"section1\"></a>\n",
    "This notebook contains cleaning and exploration of the dataset with the goal of identifying any underlying trends and preparing the data for modeling. Text will be normalized and song structure will be reviewed."
   ]
  },
  {
   "cell_type": "markdown",
   "metadata": {},
   "source": [
    "Importing necessary libraries."
   ]
  },
  {
   "cell_type": "code",
   "execution_count": 4,
   "metadata": {},
   "outputs": [],
   "source": [
    "import json, time, re, requests, pickle\n",
    "import pandas as pd\n",
    "import psycopg2 as pg2\n",
    "import numpy as np\n",
    "import matplotlib.pyplot as plt\n",
    "import seaborn as sns\n",
    "\n",
    "import plotly\n",
    "import plotly.plotly as py\n",
    "import plotly.graph_objs as go\n",
    "\n",
    "from psycopg2.extras import RealDictCursor, Json\n",
    "from psycopg2.extensions import AsIs\n",
    "\n",
    "%matplotlib inline\n",
    "plt.style.use('fivethirtyeight')\n",
    "\n",
    "%run ../assets/sql_cred.py\n",
    "%run ../assets/plotly_cred.py"
   ]
  },
  {
   "cell_type": "markdown",
   "metadata": {},
   "source": [
    "Submitting credentials for access to the Plotly API."
   ]
  },
  {
   "cell_type": "code",
   "execution_count": 5,
   "metadata": {},
   "outputs": [],
   "source": [
    "plotly.tools.set_credentials_file(username=USERNAME, api_key=API_KEY)"
   ]
  },
  {
   "cell_type": "markdown",
   "metadata": {},
   "source": [
    "Defining a helper function for saving out files with timestamping and file logging."
   ]
  },
  {
   "cell_type": "code",
   "execution_count": 6,
   "metadata": {},
   "outputs": [],
   "source": [
    "def filename_format_log(file_path, \n",
    "                        logfile = '../assets/file_log.txt', \n",
    "                        now = round(time.time()), \n",
    "                        file_description = None): \n",
    "   \n",
    "    try:\n",
    "        ext = re.search('(?<!^)(?<!\\.)\\.(?!\\.)', file_path).start() \n",
    "    except:\n",
    "        raise NameError('Please enter a relative path with a file extension.') \n",
    "    \n",
    "    stamp = re.search('(?<!^)(?<!\\.)[A-z]+_[0-z]+(?=\\.)', file_path).start()\n",
    "    formatted_name = f'{file_path[:stamp]}{now}_{file_path[stamp:]}'  \n",
    "    if not file_description:\n",
    "        file_description = f'Saved at: {time.asctime(time.gmtime(now))}'\n",
    "    with open(logfile, 'a+') as f:\n",
    "        f.write(f'{formatted_name}: {file_description}\\n')\n",
    "    return formatted_name, now, file_description"
   ]
  },
  {
   "cell_type": "markdown",
   "metadata": {},
   "source": [
    "Reusing the SQL helper functions for database querying the track_list db"
   ]
  },
  {
   "cell_type": "code",
   "execution_count": 7,
   "metadata": {},
   "outputs": [],
   "source": [
    "def con_cur_to_db(dbname=DBNAME, dict_cur=None):\n",
    "    con = pg2.connect(host=IP_ADDRESS,\n",
    "                  dbname=dbname,\n",
    "                  user=USER,\n",
    "                  password=PASSWORD)\n",
    "    if dict_cur:\n",
    "        cur = con.cursor(cursor_factory=RealDictCursor)\n",
    "    else:\n",
    "        cur = con.cursor()\n",
    "    return con, cur\n",
    "    \n",
    "def execute_query(query, dbname=DBNAME, dict_cur=None, command=False):\n",
    "    con, cur = con_cur_to_db(dbname, dict_cur)\n",
    "    cur.execute(f'{query}')\n",
    "    if not command:\n",
    "        data = cur.fetchall()\n",
    "        con.close()\n",
    "        return data\n",
    "    con.commit() #sends to server\n",
    "    con.close() #closes server connection"
   ]
  },
  {
   "cell_type": "code",
   "execution_count": 8,
   "metadata": {},
   "outputs": [
    {
     "data": {
      "text/html": [
       "<div>\n",
       "<style scoped>\n",
       "    .dataframe tbody tr th:only-of-type {\n",
       "        vertical-align: middle;\n",
       "    }\n",
       "\n",
       "    .dataframe tbody tr th {\n",
       "        vertical-align: top;\n",
       "    }\n",
       "\n",
       "    .dataframe thead th {\n",
       "        text-align: right;\n",
       "    }\n",
       "</style>\n",
       "<table border=\"1\" class=\"dataframe\">\n",
       "  <thead>\n",
       "    <tr style=\"text-align: right;\">\n",
       "      <th></th>\n",
       "      <th>album_name</th>\n",
       "      <th>artist_name</th>\n",
       "      <th>lyrics</th>\n",
       "      <th>playlist_id</th>\n",
       "      <th>playlist_name</th>\n",
       "      <th>playlist_owner</th>\n",
       "      <th>track_name</th>\n",
       "    </tr>\n",
       "    <tr>\n",
       "      <th>track_id</th>\n",
       "      <th></th>\n",
       "      <th></th>\n",
       "      <th></th>\n",
       "      <th></th>\n",
       "      <th></th>\n",
       "      <th></th>\n",
       "      <th></th>\n",
       "    </tr>\n",
       "  </thead>\n",
       "  <tbody>\n",
       "    <tr>\n",
       "      <th>0h7TlF8gKb61aSm874s3cV</th>\n",
       "      <td>I Can't Tell You How Much It Hurts</td>\n",
       "      <td>moow</td>\n",
       "      <td>\\n\\nIf your needle is near\\nNeedle is near\\nYo...</td>\n",
       "      <td>37i9dQZF1DXarebqD2nAVg</td>\n",
       "      <td>Tender</td>\n",
       "      <td>spotify</td>\n",
       "      <td>You'r in My Head</td>\n",
       "    </tr>\n",
       "    <tr>\n",
       "      <th>6koowTu9pFHPEcZnACLKbK</th>\n",
       "      <td>Coming Home</td>\n",
       "      <td>Leon Bridges</td>\n",
       "      <td>\\n\\n[Verse 1]\\nBrown skin girl on the other si...</td>\n",
       "      <td>37i9dQZF1DX4adj7PFEBwf</td>\n",
       "      <td>Wedding Bells</td>\n",
       "      <td>spotify</td>\n",
       "      <td>Brown Skin Girl</td>\n",
       "    </tr>\n",
       "    <tr>\n",
       "      <th>1JkhKUXAoNivi87ipmV3rp</th>\n",
       "      <td>Back To Love (Deluxe Version)</td>\n",
       "      <td>Anthony Hamilton</td>\n",
       "      <td>\\n\\n[Verse 1]\\nIt's simple, I love it\\nHaving ...</td>\n",
       "      <td>37i9dQZF1DX4adj7PFEBwf</td>\n",
       "      <td>Wedding Bells</td>\n",
       "      <td>spotify</td>\n",
       "      <td>Best of Me</td>\n",
       "    </tr>\n",
       "    <tr>\n",
       "      <th>51lPx6ZCSalL2kvSrDUyJc</th>\n",
       "      <td>The Search for Everything</td>\n",
       "      <td>John Mayer</td>\n",
       "      <td>\\n\\n[Intro: Whistling]\\n\\n[Verse 1]\\nA great b...</td>\n",
       "      <td>37i9dQZF1DX4adj7PFEBwf</td>\n",
       "      <td>Wedding Bells</td>\n",
       "      <td>spotify</td>\n",
       "      <td>You're Gonna Live Forever in Me</td>\n",
       "    </tr>\n",
       "    <tr>\n",
       "      <th>3vqlZUIT3rEmLaYKDBfb4Q</th>\n",
       "      <td>Songs In The Key Of Life</td>\n",
       "      <td>Stevie Wonder</td>\n",
       "      <td>\\n\\n[Verse 1]\\nIsn't she lovely\\nIsn't she won...</td>\n",
       "      <td>37i9dQZF1DX4adj7PFEBwf</td>\n",
       "      <td>Wedding Bells</td>\n",
       "      <td>spotify</td>\n",
       "      <td>Isn't She Lovely</td>\n",
       "    </tr>\n",
       "  </tbody>\n",
       "</table>\n",
       "</div>"
      ],
      "text/plain": [
       "                                                album_name       artist_name  \\\n",
       "track_id                                                                       \n",
       "0h7TlF8gKb61aSm874s3cV  I Can't Tell You How Much It Hurts              moow   \n",
       "6koowTu9pFHPEcZnACLKbK                         Coming Home      Leon Bridges   \n",
       "1JkhKUXAoNivi87ipmV3rp       Back To Love (Deluxe Version)  Anthony Hamilton   \n",
       "51lPx6ZCSalL2kvSrDUyJc           The Search for Everything        John Mayer   \n",
       "3vqlZUIT3rEmLaYKDBfb4Q            Songs In The Key Of Life     Stevie Wonder   \n",
       "\n",
       "                                                                   lyrics  \\\n",
       "track_id                                                                    \n",
       "0h7TlF8gKb61aSm874s3cV  \\n\\nIf your needle is near\\nNeedle is near\\nYo...   \n",
       "6koowTu9pFHPEcZnACLKbK  \\n\\n[Verse 1]\\nBrown skin girl on the other si...   \n",
       "1JkhKUXAoNivi87ipmV3rp  \\n\\n[Verse 1]\\nIt's simple, I love it\\nHaving ...   \n",
       "51lPx6ZCSalL2kvSrDUyJc  \\n\\n[Intro: Whistling]\\n\\n[Verse 1]\\nA great b...   \n",
       "3vqlZUIT3rEmLaYKDBfb4Q  \\n\\n[Verse 1]\\nIsn't she lovely\\nIsn't she won...   \n",
       "\n",
       "                                   playlist_id  playlist_name playlist_owner  \\\n",
       "track_id                                                                       \n",
       "0h7TlF8gKb61aSm874s3cV  37i9dQZF1DXarebqD2nAVg         Tender        spotify   \n",
       "6koowTu9pFHPEcZnACLKbK  37i9dQZF1DX4adj7PFEBwf  Wedding Bells        spotify   \n",
       "1JkhKUXAoNivi87ipmV3rp  37i9dQZF1DX4adj7PFEBwf  Wedding Bells        spotify   \n",
       "51lPx6ZCSalL2kvSrDUyJc  37i9dQZF1DX4adj7PFEBwf  Wedding Bells        spotify   \n",
       "3vqlZUIT3rEmLaYKDBfb4Q  37i9dQZF1DX4adj7PFEBwf  Wedding Bells        spotify   \n",
       "\n",
       "                                             track_name  \n",
       "track_id                                                 \n",
       "0h7TlF8gKb61aSm874s3cV                 You'r in My Head  \n",
       "6koowTu9pFHPEcZnACLKbK                  Brown Skin Girl  \n",
       "1JkhKUXAoNivi87ipmV3rp                       Best of Me  \n",
       "51lPx6ZCSalL2kvSrDUyJc  You're Gonna Live Forever in Me  \n",
       "3vqlZUIT3rEmLaYKDBfb4Q                 Isn't She Lovely  "
      ]
     },
     "execution_count": 8,
     "metadata": {},
     "output_type": "execute_result"
    }
   ],
   "source": [
    "query = '''SELECT * FROM track_list;'''\n",
    "response = execute_query(query, dict_cur=True)\n",
    "track_df = pd.DataFrame(response)\n",
    "track_df.set_index('track_id', inplace=True)\n",
    "track_df.head()"
   ]
  },
  {
   "cell_type": "markdown",
   "metadata": {},
   "source": [
    "Saving out the lyrics column in a separate dataframe for cleaning and analysis"
   ]
  },
  {
   "cell_type": "code",
   "execution_count": 9,
   "metadata": {},
   "outputs": [],
   "source": [
    "lyric_df = track_df[['lyrics']]"
   ]
  },
  {
   "cell_type": "markdown",
   "metadata": {},
   "source": [
    "Checking shape before cleaning."
   ]
  },
  {
   "cell_type": "code",
   "execution_count": 10,
   "metadata": {},
   "outputs": [
    {
     "data": {
      "text/plain": [
       "(2861, 1)"
      ]
     },
     "execution_count": 10,
     "metadata": {},
     "output_type": "execute_result"
    }
   ],
   "source": [
    "lyric_df.shape"
   ]
  },
  {
   "cell_type": "markdown",
   "metadata": {},
   "source": [
    "## Dropping or Amending Lyrics <a name=\"section2\"></a>"
   ]
  },
  {
   "cell_type": "markdown",
   "metadata": {},
   "source": [
    "Dropping or appending tracks that have been identified below as having errors such as non-song text, non-english text, missing tags, long whitespace gaps, etc prior to cleaning."
   ]
  },
  {
   "cell_type": "markdown",
   "metadata": {},
   "source": [
    "Dropping any null values."
   ]
  },
  {
   "cell_type": "code",
   "execution_count": 11,
   "metadata": {},
   "outputs": [],
   "source": [
    "lyric_df = lyric_df.dropna(axis=0)"
   ]
  },
  {
   "cell_type": "markdown",
   "metadata": {},
   "source": [
    "Not english"
   ]
  },
  {
   "cell_type": "code",
   "execution_count": 12,
   "metadata": {},
   "outputs": [],
   "source": [
    "lyric_df = lyric_df.drop(index='1mjWhM7GQTTxJxg2F0iCRS', axis=0)"
   ]
  },
  {
   "cell_type": "code",
   "execution_count": 13,
   "metadata": {},
   "outputs": [],
   "source": [
    "lyric_df = lyric_df.drop(index='4tjLYTXFqZhkUDga4bQ0yl', axis=0)"
   ]
  },
  {
   "cell_type": "code",
   "execution_count": 14,
   "metadata": {},
   "outputs": [],
   "source": [
    "lyric_df = lyric_df.drop(index='2za6PlkAQAMMu0VFsfBoHC', axis=0)"
   ]
  },
  {
   "cell_type": "code",
   "execution_count": 15,
   "metadata": {},
   "outputs": [],
   "source": [
    "lyric_df = lyric_df.drop(index='0CNKS52qyUU9124pyENtbl', axis=0)"
   ]
  },
  {
   "cell_type": "code",
   "execution_count": 16,
   "metadata": {},
   "outputs": [],
   "source": [
    "lyric_df = lyric_df.drop(index='7Mfb2IwRNP8Qi7Ojtpmi37', axis=0)"
   ]
  },
  {
   "cell_type": "code",
   "execution_count": 79,
   "metadata": {},
   "outputs": [],
   "source": [
    "lyric_df = lyric_df.drop(index='53l6zTxcgzRMAgD3eS6zqF', axis=0)"
   ]
  },
  {
   "cell_type": "markdown",
   "metadata": {},
   "source": [
    "Missing ']' creating a tagging error."
   ]
  },
  {
   "cell_type": "code",
   "execution_count": 17,
   "metadata": {},
   "outputs": [],
   "source": [
    "lyric_df.loc['1Ob94QesoxHSBrypyBbdfd', 'lyrics'] = \"\\n\\n[Verse 1]\\nWe've been here before, surrounded in the cold\\nYou take me to places I've never known\\nAnd you push me to places I'll never go\\nI would die for you\\nTell me the truth\\nAm I all that you would need?\\nIf we're keeping it a hundred, you're all that I need for me\\nFrom the jump until forever from now, I would ride for you\\n\\n[Chorus]\\nBut you got me shot down by love\\nYou got my heart now\\nWhy won't you stop now?\\nOh I've been knocked down by you\\nYou got my heart now\\nWhy won't you stop now?\\n\\n[Verse 2]\\nI've been through it whole\\nI've been through the worst\\nBut I never knew how much our love could hurt\\nOver my family I put you first\\nWriting out my feelings is the only thing that work\\nI don't hear from the friends I thought were mine too\\nBut I hold on to the poems I would write you\\nHappy seventeen, I saw us two and you saw three\\nI guess our lines are structured like a haiku\\n\\n[Chorus 2]\\nYou got me shot down by love\\nAnd you got my heart now\\nWhy won't you stop now?\\nOh I've been knocked down by you\\nAnd you got my heart now\\nWhy won't you stop now?\\n\\n[Bridge]\\nKnocked down, knocked down\\nKnocked down, knocked down\\nKnocked down\\nKnocked down\\n\\n[Chorus]\\nI've been shot down by love\\nYou got my heart now\\nWhy won't you stop now?\\nI've been knocked down by you\\nAnd you got my heart now\\nWhy won't you stop now?\\n\\n\""
   ]
  },
  {
   "cell_type": "markdown",
   "metadata": {},
   "source": [
    "Tracks identified by having too few total lines per track."
   ]
  },
  {
   "cell_type": "code",
   "execution_count": 18,
   "metadata": {},
   "outputs": [
    {
     "data": {
      "text/plain": [
       "'\\n\\nMorni Banke (Badhaai Ho) Guru Randhawa Neha Kakkar 320kbps Mp3 Songs Download, Morni Banke (Badhaai Ho) Guru Randhawa Neha Kakkar 320kbps iTunes Rip Mp3 Songs Download, Morni Banke (Badhaai Ho) Guru Randhawa Neha Kakkar 320kbps 128 Kbps Mp3 Songs Free Download, Morni Banke (Badhaai Ho) Guru Randhawa Neha Kakkar 320kbps 320 Kbps Mp3 Songs Free Download, Morni Banke (Badhaai Ho) Guru Randhawa Neha Kakkar 320kbps Mp3 Songs Download In High Quality, Morni Banke (Badhaai Ho) Guru Randhawa Neha Kakkar 320kbps Mp3 Songs Download 320kbps Quality, Morni Banke (Badhaai Ho) Guru Randhawa Neha Kakkar 320kbps Mp3 Songs Download, Morni Banke (Badhaai Ho) Guru Randhawa Neha Kakkar 320kbps All Mp3 Songs Download, Morni Banke (Badhaai Ho) Guru Randhawa Neha Kakkar 320kbps Full Songs Download\\n\\n'"
      ]
     },
     "execution_count": 18,
     "metadata": {},
     "output_type": "execute_result"
    }
   ],
   "source": [
    "lyric_df.loc['2Wu9PNpLUCBl3W1GaPqkhl'].lyrics"
   ]
  },
  {
   "cell_type": "code",
   "execution_count": 19,
   "metadata": {},
   "outputs": [],
   "source": [
    "lyric_df = lyric_df.drop(index='2Wu9PNpLUCBl3W1GaPqkhl', axis=0)"
   ]
  },
  {
   "cell_type": "markdown",
   "metadata": {},
   "source": [
    "Mislabed lyrics with '\\n\\n' for linebreaks"
   ]
  },
  {
   "cell_type": "code",
   "execution_count": 20,
   "metadata": {},
   "outputs": [
    {
     "data": {
      "text/plain": [
       "\"\\n\\nBaby let's cruise away from here\\n\\nDon't be confused baby, the way is clear\\n\\nAnd if you want it you got it forever\\n\\nOh, this is not a one night stand baby\\n\\nLet the music take your mind\\n\\nAnd just release and you will find, baby\\n\\nWe're going to fly away\\n\\nGlad you're going my way\\n\\nI love it when we're cruisin' together\\n\\nMusic was made for love\\n\\nCruisin' is made for love\\n\\nI love it when we're cruisin' together\\n\\nBaby, tonight belongs to us\\n\\nEverything's right, do what you must, baby\\n\\nAnd inch by inch we get closer and closer\\n\\nEvery little part of each other ooh, baby, baby\\n\\nLet the music take your mind\\n\\nJust release and you will find, baby\\n\\nWe're going to fly away\\n\\nGlad you're going my way\\n\\nI love it when we're cruisin' together\\n\\nMusic was made for love\\n\\nCruisin' is made for love\\n\\nI love you when we're cruisin' together\\n\\nWe're going to fly away\\n\\nGlad you're going my way\\n\\nI love it when we're cruisin' together\\n\\nMusic was made for love\\n\\nCruisin' is made for love\\n\\nI love you when we're cruisin' together\\n\\nCruise with me baby, baby\\n\\nOh baby\\n\\nOh baby let's cruise, let's flow\\n\\nLet's glide, let's open up and go inside\\n\\nAnd if you want it you got it forever\\n\\nI can just stay there inside you and love you, baby\\n\\nLet the music take your mind\\n\\nAnd just release and you will find\\n\\nWe're going to fly away\\n\\nGlad you're going my way\\n\\nI love it when we're cruisin' together\\n\\nMusic was made for love\\n\\nCruisin' is made for love\\n\\nI love you when we're cruisin' together\\n\\nWe're going to fly away\\n\\nGlad you're going my way\\n\\nI love it when we're cruisin' together\\n\\nMusic was made for love\\n\\nCruisin' is made for love\\n\\nI love you when we're cruisin' together\\n\\nWe're going to fly away\\n\\nGlad you're going my way\\n\\nI love it when we're cruisin' together\\n\\nMusic was made for love\\n\\nCruisin' is made for love\\n\\nI love you when we're cruisin' together\\n\\nWe're going to fly away\\n\\nGlad you're going my way\\n\\nI love it when we're cruisin' together\\n\\nMusic was made for love\\n\\nCruisin' is made for love\\n\\nI love you when we're cruisin' together\\n\\n\""
      ]
     },
     "execution_count": 20,
     "metadata": {},
     "output_type": "execute_result"
    }
   ],
   "source": [
    "lyric_df.loc['6xYd4zCVeSp80Un2Rl9wDs'].lyrics"
   ]
  },
  {
   "cell_type": "code",
   "execution_count": 21,
   "metadata": {},
   "outputs": [],
   "source": [
    "lyric_df.loc['6xYd4zCVeSp80Un2Rl9wDs', 'lyrics'] = lyric_df.loc['6xYd4zCVeSp80Un2Rl9wDs'].lyrics.replace('\\n\\n','\\n')"
   ]
  },
  {
   "cell_type": "code",
   "execution_count": 22,
   "metadata": {},
   "outputs": [
    {
     "data": {
      "text/plain": [
       "'\\n\\nI ran into a woman on the sidewalk\\n\\n‘cause I was thinking too much about us\\n\\nDreaming of you and all we’ve lost\\n\\n‘Cause now you’re always so angry\\n\\nYou’re always so sad\\n\\nYou’re mad about everything and everyone and I\\n\\nI don’t have the heart for that\\n\\nHow we used to love\\n\\nI’m afraid for our future\\n\\nI’m afraid it won’t last\\n\\n‘Cause you’ve got too many scars to hide\\n\\nAnd I haven’t got enough to understand why\\n\\nWhy are you always so sad\\n\\nWhy are you always so\\n\\nWhy are you always so sad?\\n\\nHow we used to love\\n\\nHow we used to love\\n\\nHow we used to love\\n\\nHow we used to love\\n\\n'"
      ]
     },
     "execution_count": 22,
     "metadata": {},
     "output_type": "execute_result"
    }
   ],
   "source": [
    "lyric_df.loc['6XkChVvxj0Cakfae17NaK3'].lyrics"
   ]
  },
  {
   "cell_type": "code",
   "execution_count": 23,
   "metadata": {},
   "outputs": [],
   "source": [
    "lyric_df.loc['6XkChVvxj0Cakfae17NaK3', 'lyrics']= lyric_df.loc['6XkChVvxj0Cakfae17NaK3'].lyrics.replace('\\n\\n','\\n')"
   ]
  },
  {
   "cell_type": "code",
   "execution_count": 24,
   "metadata": {},
   "outputs": [
    {
     "data": {
      "text/plain": [
       "\"\\n\\nShe was too good to me\\nShe was too good to me\\n\\nHow can I get along now\\n\\nSo close she stood to me\\n\\nEverything seems so wrong now\\n\\nShe would have brought me the sun\\n\\nMaking me smile\\n\\nThat was her fun\\n\\nWhen I was mean to her\\n\\nShe never said go away now\\n\\nI was a king to her\\n\\nWho's gonna make me gay now?\\n\\nIt's only natural\\n\\nI'm so blue\\n\\nShe was too good to be true\\n\\n\""
      ]
     },
     "execution_count": 24,
     "metadata": {},
     "output_type": "execute_result"
    }
   ],
   "source": [
    "lyric_df.loc['5ONPeQRp1m4KJ0M57qBj1D'].lyrics"
   ]
  },
  {
   "cell_type": "code",
   "execution_count": 25,
   "metadata": {},
   "outputs": [],
   "source": [
    "lyric_df.loc['5ONPeQRp1m4KJ0M57qBj1D', 'lyrics'] = lyric_df.loc['5ONPeQRp1m4KJ0M57qBj1D'].lyrics.replace('\\n\\n','\\n')"
   ]
  },
  {
   "cell_type": "markdown",
   "metadata": {},
   "source": [
    "Not a song"
   ]
  },
  {
   "cell_type": "code",
   "execution_count": 26,
   "metadata": {},
   "outputs": [
    {
     "data": {
      "text/plain": [
       "'\\n\\nTo Noel Willmett\\n\\n18 May 1944\\n10a Mortimer Crescent NW 6\\n\\nDear Mr Willmett,\\n\\nMany thanks for your letter. You ask whether totalitarianism, leader-worship etc. are really on the up-grade and instance the fact that they are not apparently growing in this country and the USA.\\n\\nI must say I believe, or fear, that taking the world as a whole these things are on the increase. Hitler, no doubt, will soon disappear, but only at the expense of strengthening (a) Stalin, (b) the Anglo-American millionaires and (c) all sorts of petty fuhrers° of the type of de Gaulle. All the national movements everywhere, even those that originate in resistance to German domination, seem to take non-democratic forms, to group themselves round some superhuman fuhrer (Hitler, Stalin, Salazar, Franco, Gandhi, De Valera are all varying examples) and to adopt the theory that the end justifies the means. Everywhere the world movement seems to be in the direction of centralised economies which can be made to ‘work’ in an economic sense but which are not democratically organised and which tend to establish a caste system. With this go the horrors of emotional nationalism and a tendency to disbelieve in the existence of objective truth because all the facts have to fit in with the words and prophecies of some infallible fuhrer. Already history has in a sense ceased to exist, ie. there is no such thing as a history of our own times which could be universally accepted, and the exact sciences are endangered as soon as military necessity ceases to keep people up to the mark. Hitler can say that the Jews started the war, and if he survives that will become official history. He can’t say that two and two are five, because for the purposes of, say, ballistics they have to make four. But if the sort of world that I am afraid of arrives, a world of two or three great superstates which are unable to conquer one another, two and two could become five if the fuhrer wished it.1 That, so far as I can see, is the direction in which we are actually moving, though, of course, the process is reversible.\\n\\nAs to the comparative immunity of Britain and the USA. Whatever the pacifists etc. may say, we have not gone totalitarian yet and this is a very hopeful symptom. I believe very deeply, as I explained in my book The Lion and the Unicorn, in the English people and in their capacity to centralise their economy without destroying freedom in doing so. But one must remember that Britain and the USA haven’t been really tried, they haven’t known defeat or severe suffering, and there are some bad symptoms to balance the good ones. To begin with there is the general indifference to the decay of democracy. Do you realise, for instance, that no one in England under 26 now has a vote and that so far as one can see the great mass of people of that age don’t give a damn for this? Secondly there is the fact that the intellectuals are more totalitarian in outlook than the common people. On the whole the English intelligentsia have opposed Hitler, but only at the price of accepting Stalin. Most of them are perfectly ready for dictatorial methods, secret police, systematic falsification of history2 etc. so long as they feel that it is on ‘our’ side. Indeed the statement that we haven’t a Fascist movement in England largely means that the young, at this moment, look for their fuhrer elsewhere. One can’t be sure that that won’t change, nor can one be sure that the common people won’t think ten years hence as the intellectuals do now. I hope\\u20093 they won’t, I even trust they won’t, but if so it will be at the cost of a struggle. If one simply proclaims that all is for the best and doesn’t point to the sinister symptoms, one is merely helping to bring totalitarianism nearer.\\n\\nYou also ask, if I think the world tendency is towards Fascism, why do I support the war. It is a choice of evils—I fancy nearly every war is that. I know enough of British imperialism not to like it, but I would support it against Nazism or Japanese imperialism, as the lesser evil. Similarly I would support the USSR against Germany because I think the USSR cannot altogether escape its past and retains enough of the original ideas of the Revolution to make it a more hopeful phenomenon than Nazi Germany. I think, and have thought ever since the war began, in 1936 or thereabouts, that our cause is the better, but we have to keep on making it the better, which involves constant criticism.\\n\\nYours sincerely,\\nGeo. Orwell\\n\\n[XVI, 2471, pp. 190—2; typewritten]\\n\\n1. and 2. Foreshadowings of Nineteen Eighty-Four.\\n\\n3. Compare Nineteen Eighty-Four, p. 72, ‘If there is hope, wrote Winston, it lies in the proles.’\\n\\n'"
      ]
     },
     "execution_count": 26,
     "metadata": {},
     "output_type": "execute_result"
    }
   ],
   "source": [
    "lyric_df.loc['44z4AP1yhEjcbihu5qdXsZ'].lyrics"
   ]
  },
  {
   "cell_type": "code",
   "execution_count": 27,
   "metadata": {},
   "outputs": [],
   "source": [
    "lyric_df = lyric_df.drop(index='44z4AP1yhEjcbihu5qdXsZ', axis=0)"
   ]
  },
  {
   "cell_type": "code",
   "execution_count": 28,
   "metadata": {},
   "outputs": [
    {
     "data": {
      "text/plain": [
       "'\\n\\nToday I entered a bill to end the states involvement in the sanctioning of marriage. Right now, as it sits with the decision from our U.S. Supreme Court looming, our elected officials could be forced to perform same sex marriages; if this happens then the liberal left will use this Supreme Court decision as a hammer to advance their liberal agenda. If the Supreme Court surprises everyone and decides to uphold the institution of marriage then I will simply will have the option to then withdraw the bill. The winds of secular progressivism gives me the sense that our Supreme Court is handing us their next step in the end of traditional morality for America. This bill simply put will end our elected official’s involvement in performing marriage ceremonies.\\n\\nIt is incredibly important that if the Supreme Court rules against traditional marriage that our elected officials are not forced to violate their conscience and be forced to perform gay marriages. Further note on another piece of legislation being drafted - I have asked for drafting of a bill to protect pastors from being forced to perform gay marriages as well.\\n\\nAmerica stands at a crossroads on marriage. Our U.S. Supreme Court will any day render it’s decision and may then throw out thousands of years of established understanding and in so doing grant the right to homosexual marriages. It would be an unconscionable decision made without Constitutional justification and over the will of the people.  Five Justices can take it upon themselves to take the holy God inspired and the defined institution of marriage of being between one man and one woman and turn it into a government sanctioned institution that is now defined by the power of government.  The ruling if it goes against the traditional understanding of marriage brings with it many long range unforeseen implications for society in America and for the rest of the world.\\n\\nIn anticipation of this decision, I have entered a bill to end Michigan\\'s public official’s role in performing marriage ceremonies.  When the door was opened to government involvement in marriage, like any other area where government \"gets its nose under the tent,” you then submit to government distortions of marriage through regulations.  If this legislation becomes law it will protect our public officials from having to perform same sex marriages and put the marriage licensing business back in the position of being in the realm of the churches and religious leaders. This only affects the licensing components related to performing the ceremonies themselves. As the government got into the licensing of marriages, it left behind what God intended and became an institution to be changed and adjusted as the secular powers saw fit.\\n\\nI, like so many of you, stand wholeheartedly and unequivocally for traditional marriage and feel it should never have been opened by legislation to be within the Federal realm of authority. The proper role of regulation in the area of marriage, if at all, should have remained with the states. The Supreme Court, in this decision on marriage will be redefining marriage to being a contract between individuals and their government, and that will simply be a changing definition based on the needs and whims of government. Regardless of which way the Supreme Court decides, from here forward marriage will be whatever our Supreme Court decides. The contract that had been in place was between the man and wife on one side and God and His Holy word on the other side of the contract. I stand absolutely and completely behind the idea that marriage is between one man and one woman.  This U. S. Supreme Court decision will potentially throw out thousands of years of Judeo Christian history and will be used as a massive hammer from the progressive movement over many areas of religious liberty and freedom of expression, within churches, within commerce and throughout society in general. It is one more step in the tearing down of the Judeo Christian foundation of our country.\\n\\nA little history of how we have gotten here is probably appropriate.  Historically our Federal Government has not had a role in marriage.  There is no place in our Federal Constitution that gives it a right to intervene in marriage.  Marriage laws really didn\\'t start to appear in any significance until right after the civil war and were in regards to inter-racial marriage and also as a way to curtail the Mormon polygamy issues. Then they appeared in full force at the beginning of the last century. The Federal government is a government of limited power.  Its role is supposed to be limited to those powers enumerated in the Federal Constitution.  The states however are governments of general power and could properly regulate marriage and have done so in many instances over many years. If there is a role of government to play in marriage, it is at the State level not at the Federal level. However, in either case of state or Federal involvement in marriage, it was inevitable that the power of government would be used to destroy traditional marriage.\\n\\nConstitutionally the Federal Government has no proper role in marriage.  If there is a proper role for government in marriage, it lies properly within the purview of the States’ authority not the Federal government. This bill would prevent that from happening and would take our public officials out of the equation. The bill would still require a signed affidavit with two witnesses of the ceremony officiated by a religious leader, but it would no longer have the state sponsoring the unions and it would close the door to forcing our public officials to partake in the memorializing of the ceremonies. I believe to have a strong society we need to encourage traditional family values of one man and one woman in a committed relationship for life and that children are best raised in such an environment where a committed mother and father pour into the children love and support from both a mother and a father; there is no question as to the value of this model in the lives of children or the husband and wife.\\n\\nWhen we as a nation started to take steps to \"protect marriage\" by various measures, including but not limited to the Defense of Marriage Act, we also opened the door for Federal and State involvement in marriage and allowed a secular government to have authority over the definition of marriage. If we really wanted to protect the institution of marriage at the Federal level, it should not have been with a Federal Statute but rather a Constitutional Amendment; this was not done. These various entries into the marriage business by the government inserted the secular power of the state into a spot where it was never intended to be by our Founding Fathers. It also gave a massive hammer to those in power to redefine the institution of marriage and more broadly the concepts of religious freedom and liberty.  This is where we stand today.\\n\\nIn closing, my heart is broken for the spiritual health of our nation. My earnest hope and prayer in bringing this effort, and in all of my efforts, is to see the revival in all of our lives, our marriages, our families, our communities and of course for our nation, to be reawakened to the beauty, majesty and awesomeness of a loving God who in writing His love story to us has sent His one and only son to die for us and yet given us the freedom to accept or reject Him and His plan for our lives. In all this I will again ask you to recommit to praying for our nation and for the Leaders who are given by God to lead us forward in these precarious times.\\n\\nGod bless you and God bless The United States of America!\\n\\n'"
      ]
     },
     "execution_count": 28,
     "metadata": {},
     "output_type": "execute_result"
    }
   ],
   "source": [
    "lyric_df.loc['0cqSEpg2nYbneh7RGNrDcp'].lyrics"
   ]
  },
  {
   "cell_type": "code",
   "execution_count": 29,
   "metadata": {},
   "outputs": [],
   "source": [
    "lyric_df = lyric_df.drop(index='0cqSEpg2nYbneh7RGNrDcp', axis=0)"
   ]
  },
  {
   "cell_type": "code",
   "execution_count": 30,
   "metadata": {},
   "outputs": [
    {
     "data": {
      "text/html": [
       "<div>\n",
       "<style scoped>\n",
       "    .dataframe tbody tr th:only-of-type {\n",
       "        vertical-align: middle;\n",
       "    }\n",
       "\n",
       "    .dataframe tbody tr th {\n",
       "        vertical-align: top;\n",
       "    }\n",
       "\n",
       "    .dataframe thead th {\n",
       "        text-align: right;\n",
       "    }\n",
       "</style>\n",
       "<table border=\"1\" class=\"dataframe\">\n",
       "  <thead>\n",
       "    <tr style=\"text-align: right;\">\n",
       "      <th></th>\n",
       "      <th>lyrics</th>\n",
       "    </tr>\n",
       "    <tr>\n",
       "      <th>track_id</th>\n",
       "      <th></th>\n",
       "    </tr>\n",
       "  </thead>\n",
       "  <tbody>\n",
       "    <tr>\n",
       "      <th>0h7TlF8gKb61aSm874s3cV</th>\n",
       "      <td>\\n\\nIf your needle is near\\nNeedle is near\\nYo...</td>\n",
       "    </tr>\n",
       "    <tr>\n",
       "      <th>6koowTu9pFHPEcZnACLKbK</th>\n",
       "      <td>\\n\\n[Verse 1]\\nBrown skin girl on the other si...</td>\n",
       "    </tr>\n",
       "    <tr>\n",
       "      <th>1JkhKUXAoNivi87ipmV3rp</th>\n",
       "      <td>\\n\\n[Verse 1]\\nIt's simple, I love it\\nHaving ...</td>\n",
       "    </tr>\n",
       "    <tr>\n",
       "      <th>51lPx6ZCSalL2kvSrDUyJc</th>\n",
       "      <td>\\n\\n[Intro: Whistling]\\n\\n[Verse 1]\\nA great b...</td>\n",
       "    </tr>\n",
       "    <tr>\n",
       "      <th>3vqlZUIT3rEmLaYKDBfb4Q</th>\n",
       "      <td>\\n\\n[Verse 1]\\nIsn't she lovely\\nIsn't she won...</td>\n",
       "    </tr>\n",
       "  </tbody>\n",
       "</table>\n",
       "</div>"
      ],
      "text/plain": [
       "                                                                   lyrics\n",
       "track_id                                                                 \n",
       "0h7TlF8gKb61aSm874s3cV  \\n\\nIf your needle is near\\nNeedle is near\\nYo...\n",
       "6koowTu9pFHPEcZnACLKbK  \\n\\n[Verse 1]\\nBrown skin girl on the other si...\n",
       "1JkhKUXAoNivi87ipmV3rp  \\n\\n[Verse 1]\\nIt's simple, I love it\\nHaving ...\n",
       "51lPx6ZCSalL2kvSrDUyJc  \\n\\n[Intro: Whistling]\\n\\n[Verse 1]\\nA great b...\n",
       "3vqlZUIT3rEmLaYKDBfb4Q  \\n\\n[Verse 1]\\nIsn't she lovely\\nIsn't she won..."
      ]
     },
     "execution_count": 30,
     "metadata": {},
     "output_type": "execute_result"
    }
   ],
   "source": [
    "lyric_df.head()"
   ]
  },
  {
   "cell_type": "markdown",
   "metadata": {},
   "source": [
    "## Cleaning Lyrics <a name=\"section3\"></a>"
   ]
  },
  {
   "cell_type": "markdown",
   "metadata": {},
   "source": [
    "Defining a helper function to clean and split the lyrics to prepare for modeling. '\\n' characters will be preserved to allow the model to train on song structure however all tags and special characters (non-alphanumaric) will be removed."
   ]
  },
  {
   "cell_type": "code",
   "execution_count": 31,
   "metadata": {},
   "outputs": [],
   "source": [
    "def clean_lyrics(lyrics, keep_tags=False, keep_nl=False):\n",
    "\n",
    "    text = lyrics.lower()\n",
    "\n",
    "    if not keep_tags:\n",
    "        text = re.sub('(\\[.+\\])', '', text)\n",
    "\n",
    "    text = re.sub('[^a-z\\s]', '', text)\n",
    "\n",
    "    text = text.strip()\n",
    "    text = re.sub('\\n\\n', ' ', text) \n",
    "\n",
    "    text = text.strip()\n",
    "\n",
    "    if keep_nl:\n",
    "        text = re.sub('\\n', ' \\n ', text)\n",
    "    else:\n",
    "        text = re.sub('\\n', ' ', text)\n",
    "\n",
    "\n",
    "    return text"
   ]
  },
  {
   "cell_type": "markdown",
   "metadata": {},
   "source": [
    "Applying the cleaning function with a 'clean_lyrics' feature created as the output."
   ]
  },
  {
   "cell_type": "code",
   "execution_count": 32,
   "metadata": {},
   "outputs": [],
   "source": [
    "lyric_df['clean_lyrics'] = lyric_df.lyrics.map(lambda x: clean_lyrics(x, keep_tags=False, keep_nl=True))"
   ]
  },
  {
   "cell_type": "code",
   "execution_count": 33,
   "metadata": {},
   "outputs": [
    {
     "data": {
      "text/html": [
       "<div>\n",
       "<style scoped>\n",
       "    .dataframe tbody tr th:only-of-type {\n",
       "        vertical-align: middle;\n",
       "    }\n",
       "\n",
       "    .dataframe tbody tr th {\n",
       "        vertical-align: top;\n",
       "    }\n",
       "\n",
       "    .dataframe thead th {\n",
       "        text-align: right;\n",
       "    }\n",
       "</style>\n",
       "<table border=\"1\" class=\"dataframe\">\n",
       "  <thead>\n",
       "    <tr style=\"text-align: right;\">\n",
       "      <th></th>\n",
       "      <th>lyrics</th>\n",
       "      <th>clean_lyrics</th>\n",
       "    </tr>\n",
       "    <tr>\n",
       "      <th>track_id</th>\n",
       "      <th></th>\n",
       "      <th></th>\n",
       "    </tr>\n",
       "  </thead>\n",
       "  <tbody>\n",
       "    <tr>\n",
       "      <th>0h7TlF8gKb61aSm874s3cV</th>\n",
       "      <td>\\n\\nIf your needle is near\\nNeedle is near\\nYo...</td>\n",
       "      <td>if your needle is near \\n needle is near \\n yo...</td>\n",
       "    </tr>\n",
       "    <tr>\n",
       "      <th>6koowTu9pFHPEcZnACLKbK</th>\n",
       "      <td>\\n\\n[Verse 1]\\nBrown skin girl on the other si...</td>\n",
       "      <td>brown skin girl on the other side of the room ...</td>\n",
       "    </tr>\n",
       "    <tr>\n",
       "      <th>1JkhKUXAoNivi87ipmV3rp</th>\n",
       "      <td>\\n\\n[Verse 1]\\nIt's simple, I love it\\nHaving ...</td>\n",
       "      <td>its simple i love it \\n having you near me hav...</td>\n",
       "    </tr>\n",
       "    <tr>\n",
       "      <th>51lPx6ZCSalL2kvSrDUyJc</th>\n",
       "      <td>\\n\\n[Intro: Whistling]\\n\\n[Verse 1]\\nA great b...</td>\n",
       "      <td>a great big bang and dinosaurs \\n fiery rainin...</td>\n",
       "    </tr>\n",
       "    <tr>\n",
       "      <th>3vqlZUIT3rEmLaYKDBfb4Q</th>\n",
       "      <td>\\n\\n[Verse 1]\\nIsn't she lovely\\nIsn't she won...</td>\n",
       "      <td>isnt she lovely \\n isnt she wonderful \\n isnt ...</td>\n",
       "    </tr>\n",
       "  </tbody>\n",
       "</table>\n",
       "</div>"
      ],
      "text/plain": [
       "                                                                   lyrics  \\\n",
       "track_id                                                                    \n",
       "0h7TlF8gKb61aSm874s3cV  \\n\\nIf your needle is near\\nNeedle is near\\nYo...   \n",
       "6koowTu9pFHPEcZnACLKbK  \\n\\n[Verse 1]\\nBrown skin girl on the other si...   \n",
       "1JkhKUXAoNivi87ipmV3rp  \\n\\n[Verse 1]\\nIt's simple, I love it\\nHaving ...   \n",
       "51lPx6ZCSalL2kvSrDUyJc  \\n\\n[Intro: Whistling]\\n\\n[Verse 1]\\nA great b...   \n",
       "3vqlZUIT3rEmLaYKDBfb4Q  \\n\\n[Verse 1]\\nIsn't she lovely\\nIsn't she won...   \n",
       "\n",
       "                                                             clean_lyrics  \n",
       "track_id                                                                   \n",
       "0h7TlF8gKb61aSm874s3cV  if your needle is near \\n needle is near \\n yo...  \n",
       "6koowTu9pFHPEcZnACLKbK  brown skin girl on the other side of the room ...  \n",
       "1JkhKUXAoNivi87ipmV3rp  its simple i love it \\n having you near me hav...  \n",
       "51lPx6ZCSalL2kvSrDUyJc  a great big bang and dinosaurs \\n fiery rainin...  \n",
       "3vqlZUIT3rEmLaYKDBfb4Q  isnt she lovely \\n isnt she wonderful \\n isnt ...  "
      ]
     },
     "execution_count": 33,
     "metadata": {},
     "output_type": "execute_result"
    }
   ],
   "source": [
    "lyric_df.head()"
   ]
  },
  {
   "cell_type": "markdown",
   "metadata": {},
   "source": [
    "Searching for any tracks that are spanish or french. Since this will not represent the bulk of the dataset and generally will not be mixed with english they will be removed."
   ]
  },
  {
   "cell_type": "code",
   "execution_count": 36,
   "metadata": {},
   "outputs": [
    {
     "name": "stderr",
     "output_type": "stream",
     "text": [
      "/opt/conda/lib/python3.6/site-packages/ipykernel_launcher.py:1: UserWarning:\n",
      "\n",
      "This pattern has match groups. To actually get the groups, use str.extract.\n",
      "\n"
     ]
    }
   ],
   "source": [
    "not_eng = lyric_df[lyric_df['clean_lyrics'].str.contains('(\\sdel\\s)|(\\sque\\s)|(\\svous\\s)|(\\setre\\s)')].index.tolist()"
   ]
  },
  {
   "cell_type": "code",
   "execution_count": 35,
   "metadata": {},
   "outputs": [],
   "source": [
    "lyric_df = lyric_df.drop(index=not_eng, axis=0)"
   ]
  },
  {
   "cell_type": "markdown",
   "metadata": {},
   "source": [
    "Removing any tracks that have a Genius status stating that 'lyrics for the track have not yet been added'."
   ]
  },
  {
   "cell_type": "code",
   "execution_count": 37,
   "metadata": {},
   "outputs": [],
   "source": [
    "not_lyrics = lyric_df[lyric_df['clean_lyrics'].str.contains('lyrics for this song have yet')].index.tolist()"
   ]
  },
  {
   "cell_type": "code",
   "execution_count": 38,
   "metadata": {},
   "outputs": [],
   "source": [
    "lyric_df = lyric_df.drop(index=not_lyrics, axis=0)"
   ]
  },
  {
   "cell_type": "markdown",
   "metadata": {},
   "source": [
    "Removing any tracks with long stretches of whitespace characters."
   ]
  },
  {
   "cell_type": "code",
   "execution_count": 39,
   "metadata": {},
   "outputs": [
    {
     "name": "stderr",
     "output_type": "stream",
     "text": [
      "/opt/conda/lib/python3.6/site-packages/ipykernel_launcher.py:1: UserWarning:\n",
      "\n",
      "This pattern has match groups. To actually get the groups, use str.extract.\n",
      "\n"
     ]
    }
   ],
   "source": [
    "long_gap = lyric_df[lyric_df['clean_lyrics'].str.contains(r'(\\s{6,})')].index.tolist()"
   ]
  },
  {
   "cell_type": "code",
   "execution_count": 40,
   "metadata": {},
   "outputs": [],
   "source": [
    "lyric_df = lyric_df.drop(index=long_gap, axis=0)"
   ]
  },
  {
   "cell_type": "markdown",
   "metadata": {},
   "source": [
    "Removing any duplicate tracks."
   ]
  },
  {
   "cell_type": "code",
   "execution_count": 41,
   "metadata": {},
   "outputs": [],
   "source": [
    "lyric_df = lyric_df.drop_duplicates(subset=['clean_lyrics'])"
   ]
  },
  {
   "cell_type": "code",
   "execution_count": 42,
   "metadata": {},
   "outputs": [
    {
     "data": {
      "text/html": [
       "<div>\n",
       "<style scoped>\n",
       "    .dataframe tbody tr th:only-of-type {\n",
       "        vertical-align: middle;\n",
       "    }\n",
       "\n",
       "    .dataframe tbody tr th {\n",
       "        vertical-align: top;\n",
       "    }\n",
       "\n",
       "    .dataframe thead th {\n",
       "        text-align: right;\n",
       "    }\n",
       "</style>\n",
       "<table border=\"1\" class=\"dataframe\">\n",
       "  <thead>\n",
       "    <tr style=\"text-align: right;\">\n",
       "      <th></th>\n",
       "      <th>lyrics</th>\n",
       "      <th>clean_lyrics</th>\n",
       "    </tr>\n",
       "  </thead>\n",
       "  <tbody>\n",
       "    <tr>\n",
       "      <th>count</th>\n",
       "      <td>1782</td>\n",
       "      <td>1782</td>\n",
       "    </tr>\n",
       "    <tr>\n",
       "      <th>unique</th>\n",
       "      <td>1782</td>\n",
       "      <td>1782</td>\n",
       "    </tr>\n",
       "    <tr>\n",
       "      <th>top</th>\n",
       "      <td>\\n\\n[Chorus]\\nI can feel it coming in the air ...</td>\n",
       "      <td>one two three four  \\n i just want you close \\...</td>\n",
       "    </tr>\n",
       "    <tr>\n",
       "      <th>freq</th>\n",
       "      <td>1</td>\n",
       "      <td>1</td>\n",
       "    </tr>\n",
       "  </tbody>\n",
       "</table>\n",
       "</div>"
      ],
      "text/plain": [
       "                                                   lyrics  \\\n",
       "count                                                1782   \n",
       "unique                                               1782   \n",
       "top     \\n\\n[Chorus]\\nI can feel it coming in the air ...   \n",
       "freq                                                    1   \n",
       "\n",
       "                                             clean_lyrics  \n",
       "count                                                1782  \n",
       "unique                                               1782  \n",
       "top     one two three four  \\n i just want you close \\...  \n",
       "freq                                                    1  "
      ]
     },
     "execution_count": 42,
     "metadata": {},
     "output_type": "execute_result"
    }
   ],
   "source": [
    "lyric_df.describe()"
   ]
  },
  {
   "cell_type": "markdown",
   "metadata": {},
   "source": [
    "From the data description it appears that all our tracks are unique and there is parity between the lyrics and clean_lyrics features."
   ]
  },
  {
   "cell_type": "markdown",
   "metadata": {},
   "source": [
    "## Song Structure Analysis <a name=\"section4\"></a>"
   ]
  },
  {
   "cell_type": "markdown",
   "metadata": {},
   "source": [
    "To direct model development, it will be important to understand the structure of a song. Here, I will analyze word repetition, word count, song length, line length, and other structural features. "
   ]
  },
  {
   "cell_type": "markdown",
   "metadata": {},
   "source": [
    "Here, I define a helper function inspired by Rick Wicklin [(source)](https://blogs.sas.com/content/iml/2018/03/14/visualize-repetition-lyrics.html) that helps visualize word repetition within a track. Each word makes up a row within the matrix and if the word is repeated the cell is filled in. As we can see, tracks have wide variation not just in word length, but also in word repetition."
   ]
  },
  {
   "cell_type": "code",
   "execution_count": 43,
   "metadata": {},
   "outputs": [],
   "source": [
    "def lyrics_grid(track, df=lyric_df):\n",
    "#     track = df.loc[track_id, 'clean_lyrics']\n",
    "    \n",
    "    lyrics_spaced = re.sub(r'( +)', ' ', track)\n",
    "    lyrics_spaced = re.sub(r'\\n ', '', lyrics_spaced)\n",
    "    lyrics_split = lyrics_spaced.split(' ')\n",
    "    \n",
    "    N = len(lyrics_split)\n",
    "    grid = np.zeros(shape=(N,N), dtype='int')\n",
    "    \n",
    "    for i in range(N):\n",
    "        hits = [j for j, word in enumerate(lyrics_split) if word == lyrics_split[i]]\n",
    "        grid[i,[hits]] = 1 \n",
    "        \n",
    "    plt.title('Repetition in Track');\n",
    "    plt.xlabel('Word Number');\n",
    "    plt.ylabel('Word Number');\n",
    "    sns.heatmap(grid, cmap='Greys', cbar=False, xticklabels=[], yticklabels=[]);\n",
    "    \n",
    "    plt.show();\n",
    "    \n",
    "    rep_ratio = np.around(((N - len(set(lyrics_split))) / N), 2)\n",
    "    \n",
    "    print('\\n')\n",
    "    print(f'The repetition ratio for this track is {rep_ratio}')\n",
    "    print('\\n')\n",
    "    print(track)\n",
    "    return "
   ]
  },
  {
   "cell_type": "code",
   "execution_count": 44,
   "metadata": {},
   "outputs": [
    {
     "data": {
      "text/plain": [
       "'if your needle is near \\n needle is near \\n you can take my blood \\n oh i saved it for you \\n hundreds of drops \\n running red needle is near \\n you can take my blood \\n oh i saved it for you \\n hundreds of drops \\n running red \\n needle is near \\n oh i saved it for you \\n hundreds of drops \\n running red'"
      ]
     },
     "execution_count": 44,
     "metadata": {},
     "output_type": "execute_result"
    }
   ],
   "source": [
    "lyric_df.clean_lyrics.iloc[0]"
   ]
  },
  {
   "cell_type": "code",
   "execution_count": 45,
   "metadata": {},
   "outputs": [
    {
     "data": {
      "image/png": "[encoded data removed]",
      "text/plain": [
       "<Figure size 432x288 with 1 Axes>"
      ]
     },
     "metadata": {},
     "output_type": "display_data"
    },
    {
     "name": "stdout",
     "output_type": "stream",
     "text": [
      "\n",
      "\n",
      "The repetition ratio for this track is 0.65\n",
      "\n",
      "\n",
      "if your needle is near \n",
      " needle is near \n",
      " you can take my blood \n",
      " oh i saved it for you \n",
      " hundreds of drops \n",
      " running red needle is near \n",
      " you can take my blood \n",
      " oh i saved it for you \n",
      " hundreds of drops \n",
      " running red \n",
      " needle is near \n",
      " oh i saved it for you \n",
      " hundreds of drops \n",
      " running red\n"
     ]
    }
   ],
   "source": [
    "lyrics_grid(lyric_df.clean_lyrics.iloc[0])"
   ]
  },
  {
   "cell_type": "code",
   "execution_count": 46,
   "metadata": {},
   "outputs": [
    {
     "data": {
      "image/png": "[encoded data removed]",
      "text/plain": [
       "<Figure size 432x288 with 1 Axes>"
      ]
     },
     "metadata": {},
     "output_type": "display_data"
    },
    {
     "name": "stdout",
     "output_type": "stream",
     "text": [
      "\n",
      "\n",
      "The repetition ratio for this track is 0.64\n",
      "\n",
      "\n",
      "its so good lovin somebody \n",
      " when somebody loves you back  \n",
      " to be loved and be loved in return \n",
      " its the only thing that my heart desires \n",
      " just appreciate the little things i do \n",
      " oh youre the one whos got me inspired \n",
      " keep on liftin liftin me higher  \n",
      " so good good lovin somebody \n",
      " when somebody loves you back \n",
      " its so good needin somebody \n",
      " when somebody needs you back  \n",
      " we can build a world of love a life of joy \n",
      " make our goal each others happiness \n",
      " i will do for you anything that i can \n",
      " oh everyday i wanna do a little more \n",
      " do a little more just a little bit more  \n",
      " its so good lovin somebody \n",
      " when somebody loves you back and thats a fact \n",
      " its so good wantin somebody \n",
      " when somebody wants you back \n",
      " said its so good   \n",
      " so good lovin somebody \n",
      " when somebody loves you back and thats a fact \n",
      " its so good needin somebody \n",
      " when somebody needs you back  \n",
      " said not  \n",
      " not  \n",
      " talkin bout a  love  \n",
      " said its so good lovin somebody \n",
      " and that somebody loves you back yeah  \n",
      " said now  \n",
      " now  \n",
      " talkin bout a  love yeah  \n",
      " its so good good lovin somebody \n",
      " when somebody loves you back yeah \n",
      " its so good good  \n",
      " im so glad that theres you \n",
      " ive experienced over and over again when \n",
      " ive given  percent and shes given  percent \n",
      " now shes givin  percent and im givin  but you just dont know how it feels to have somebody \n",
      " that you can share your whole life \n",
      " somebody that you dont mind talkin to \n",
      " somebody that you dont mind goin down the middle of the road i know a lot of guys today they wish they had somebody just like you \n",
      " i dont know when the last time i told you \n",
      " but girl you make me so very happy \n",
      " i think weve got something that a lot of people dont seem to have \n",
      " talkin bout a  love yeah\n"
     ]
    }
   ],
   "source": [
    "lyrics_grid(lyric_df.clean_lyrics.iloc[5])"
   ]
  },
  {
   "cell_type": "markdown",
   "metadata": {},
   "source": [
    "While the two tracks shown above share a similar word repetition rate they exhibit vastly different song structures. The second track has many more lines as well as a much larger vocabulary, producing a much more intrecate repetition matrix."
   ]
  },
  {
   "cell_type": "markdown",
   "metadata": {},
   "source": [
    "The code below will iterate through the tracklist to produce raw word lists for analysis. Lists of interests are a full corpus, a list of words in each track, and a list of lines in each track. With these lists as a starting point, I will also look at raw counts for each structural unit."
   ]
  },
  {
   "cell_type": "code",
   "execution_count": 47,
   "metadata": {},
   "outputs": [],
   "source": [
    "corpus = []\n",
    "words_track = []    \n",
    "lines_track = []\n",
    "\n",
    "for _, track in lyric_df[['clean_lyrics']].iterrows():\n",
    "    #words in full set\n",
    "    lyrics = track[0]\n",
    "    lyrics_spaced = re.sub(r'( +)', ' ', lyrics)\n",
    "    lyrics_split = lyrics_spaced.split(' ')\n",
    "    corpus.extend(lyrics_split)\n",
    "    \n",
    "    #lines in track\n",
    "    lines_split = lyrics_spaced.split('\\n')\n",
    "    lines_track.append(lines_split)\n",
    "    \n",
    "    #words in track w/o \\n \n",
    "    lyrics_spaced = re.sub(r'\\n ', '', lyrics_spaced)\n",
    "    lyrics_split = lyrics_spaced.split(' ')\n",
    "    words_track.append(lyrics_split)"
   ]
  },
  {
   "cell_type": "markdown",
   "metadata": {},
   "source": [
    "Total words in the dataset"
   ]
  },
  {
   "cell_type": "code",
   "execution_count": 48,
   "metadata": {},
   "outputs": [
    {
     "data": {
      "text/plain": [
       "574267"
      ]
     },
     "execution_count": 48,
     "metadata": {},
     "output_type": "execute_result"
    }
   ],
   "source": [
    "len(corpus)"
   ]
  },
  {
   "cell_type": "markdown",
   "metadata": {},
   "source": [
    "Mean number of words per track"
   ]
  },
  {
   "cell_type": "code",
   "execution_count": 49,
   "metadata": {},
   "outputs": [
    {
     "data": {
      "text/plain": [
       "322.25982042648707"
      ]
     },
     "execution_count": 49,
     "metadata": {},
     "output_type": "execute_result"
    }
   ],
   "source": [
    "len(corpus)/lyric_df.shape[0]"
   ]
  },
  {
   "cell_type": "markdown",
   "metadata": {},
   "source": [
    "Total unique words in the dataset"
   ]
  },
  {
   "cell_type": "code",
   "execution_count": 50,
   "metadata": {},
   "outputs": [
    {
     "data": {
      "text/plain": [
       "12334"
      ]
     },
     "execution_count": 50,
     "metadata": {},
     "output_type": "execute_result"
    }
   ],
   "source": [
    "vocab = set(list(corpus))\n",
    "len(vocab)"
   ]
  },
  {
   "cell_type": "markdown",
   "metadata": {},
   "source": [
    "Mean word length in dataset"
   ]
  },
  {
   "cell_type": "code",
   "execution_count": 51,
   "metadata": {},
   "outputs": [],
   "source": [
    "len_word = 0\n",
    "for word in vocab:\n",
    "    len_word += len(word)"
   ]
  },
  {
   "cell_type": "code",
   "execution_count": 52,
   "metadata": {},
   "outputs": [
    {
     "data": {
      "text/plain": [
       "6.373439273552781"
      ]
     },
     "execution_count": 52,
     "metadata": {},
     "output_type": "execute_result"
    }
   ],
   "source": [
    "mean_len_word = len_word / len(vocab)\n",
    "mean_len_word"
   ]
  },
  {
   "cell_type": "markdown",
   "metadata": {},
   "source": [
    "Mean number of unique words per track"
   ]
  },
  {
   "cell_type": "code",
   "execution_count": 53,
   "metadata": {},
   "outputs": [
    {
     "data": {
      "text/plain": [
       "6.921436588103255"
      ]
     },
     "execution_count": 53,
     "metadata": {},
     "output_type": "execute_result"
    }
   ],
   "source": [
    "len(vocab)/lyric_df.shape[0]"
   ]
  },
  {
   "cell_type": "markdown",
   "metadata": {},
   "source": [
    "Total words per track"
   ]
  },
  {
   "cell_type": "code",
   "execution_count": 54,
   "metadata": {},
   "outputs": [],
   "source": [
    "count_words_track = []\n",
    "for i in words_track:\n",
    "    count_words_track.append(len(i))\n",
    "    \n",
    "lyric_df['total_words_track'] = count_words_track"
   ]
  },
  {
   "cell_type": "markdown",
   "metadata": {},
   "source": [
    "Unique words per track"
   ]
  },
  {
   "cell_type": "code",
   "execution_count": 55,
   "metadata": {},
   "outputs": [],
   "source": [
    "unique_words_track = []\n",
    "for track in words_track:\n",
    "    unique_words_track.append(set(track))"
   ]
  },
  {
   "cell_type": "code",
   "execution_count": 56,
   "metadata": {},
   "outputs": [],
   "source": [
    "count_unique_words_track = []\n",
    "for track in unique_words_track:\n",
    "    count_unique_words_track.append(len(track))\n",
    "    \n",
    "lyric_df['unique_words_track'] = count_unique_words_track"
   ]
  },
  {
   "cell_type": "code",
   "execution_count": 57,
   "metadata": {},
   "outputs": [],
   "source": [
    "lyric_df['unique_words_track'] = count_unique_words_track"
   ]
  },
  {
   "cell_type": "markdown",
   "metadata": {},
   "source": [
    "Mean word length per track"
   ]
  },
  {
   "cell_type": "code",
   "execution_count": 58,
   "metadata": {},
   "outputs": [],
   "source": [
    "len_words_track = []\n",
    "for i in words_track:\n",
    "    len_words = []\n",
    "    for word in i:\n",
    "        len_words.append(len(word))\n",
    "    len_words_track.append(np.around(np.mean(len_words),1))\n",
    "    \n",
    "lyric_df['mean_len_words_track'] = len_words_track"
   ]
  },
  {
   "cell_type": "markdown",
   "metadata": {},
   "source": [
    "Total lines per track"
   ]
  },
  {
   "cell_type": "code",
   "execution_count": 59,
   "metadata": {},
   "outputs": [],
   "source": [
    "count_lines_track = []\n",
    "for i in lines_track:\n",
    "    count_lines_track.append(len(i))\n",
    "    \n",
    "lyric_df['total_lines_track'] = count_lines_track"
   ]
  },
  {
   "cell_type": "markdown",
   "metadata": {},
   "source": [
    "Unique lines per track"
   ]
  },
  {
   "cell_type": "code",
   "execution_count": 60,
   "metadata": {},
   "outputs": [],
   "source": [
    "unique_lines_track = []\n",
    "for track in lines_track:\n",
    "    unique_lines_track.append(set(track))"
   ]
  },
  {
   "cell_type": "code",
   "execution_count": 61,
   "metadata": {},
   "outputs": [],
   "source": [
    "count_unique_lines_track = []\n",
    "for track in unique_lines_track:\n",
    "    count_unique_lines_track.append(len(track))\n",
    "    \n",
    "lyric_df['unique_lines_track'] = count_unique_lines_track"
   ]
  },
  {
   "cell_type": "markdown",
   "metadata": {},
   "source": [
    "Mean lines for track in dataset"
   ]
  },
  {
   "cell_type": "code",
   "execution_count": 62,
   "metadata": {},
   "outputs": [
    {
     "data": {
      "text/plain": [
       "40.778338945005615"
      ]
     },
     "execution_count": 62,
     "metadata": {},
     "output_type": "execute_result"
    }
   ],
   "source": [
    "np.mean(count_lines_track)"
   ]
  },
  {
   "cell_type": "markdown",
   "metadata": {},
   "source": [
    "Mean words per line"
   ]
  },
  {
   "cell_type": "code",
   "execution_count": 63,
   "metadata": {},
   "outputs": [],
   "source": [
    "mean_words_line = []\n",
    "for track in lines_track:\n",
    "    words_line = []\n",
    "    for line in track:\n",
    "        words_line.append(len(line.split(' ')))\n",
    "    mean_words_line.append(np.around(np.mean(words_line),1))\n",
    "    \n",
    "lyric_df['mean_words_line'] = mean_words_line"
   ]
  },
  {
   "cell_type": "markdown",
   "metadata": {},
   "source": [
    "Mean Unique words per line"
   ]
  },
  {
   "cell_type": "code",
   "execution_count": 64,
   "metadata": {},
   "outputs": [],
   "source": [
    "mean_unique_words_line = []\n",
    "for track in lines_track:\n",
    "    unique_words_line = []\n",
    "    for line in track:\n",
    "        unique_words_line.append(len(set(line.split(' '))))\n",
    "    mean_unique_words_line.append(np.around(np.mean(unique_words_line),1))\n",
    "\n",
    "lyric_df['mean_unique_words_line'] = mean_unique_words_line"
   ]
  },
  {
   "cell_type": "code",
   "execution_count": 65,
   "metadata": {},
   "outputs": [
    {
     "data": {
      "text/html": [
       "<div>\n",
       "<style scoped>\n",
       "    .dataframe tbody tr th:only-of-type {\n",
       "        vertical-align: middle;\n",
       "    }\n",
       "\n",
       "    .dataframe tbody tr th {\n",
       "        vertical-align: top;\n",
       "    }\n",
       "\n",
       "    .dataframe thead th {\n",
       "        text-align: right;\n",
       "    }\n",
       "</style>\n",
       "<table border=\"1\" class=\"dataframe\">\n",
       "  <thead>\n",
       "    <tr style=\"text-align: right;\">\n",
       "      <th></th>\n",
       "      <th>lyrics</th>\n",
       "      <th>clean_lyrics</th>\n",
       "      <th>total_words_track</th>\n",
       "      <th>unique_words_track</th>\n",
       "      <th>mean_len_words_track</th>\n",
       "      <th>total_lines_track</th>\n",
       "      <th>unique_lines_track</th>\n",
       "      <th>mean_words_line</th>\n",
       "      <th>mean_unique_words_line</th>\n",
       "    </tr>\n",
       "    <tr>\n",
       "      <th>track_id</th>\n",
       "      <th></th>\n",
       "      <th></th>\n",
       "      <th></th>\n",
       "      <th></th>\n",
       "      <th></th>\n",
       "      <th></th>\n",
       "      <th></th>\n",
       "      <th></th>\n",
       "      <th></th>\n",
       "    </tr>\n",
       "  </thead>\n",
       "  <tbody>\n",
       "    <tr>\n",
       "      <th>0h7TlF8gKb61aSm874s3cV</th>\n",
       "      <td>\\n\\nIf your needle is near\\nNeedle is near\\nYo...</td>\n",
       "      <td>if your needle is near \\n needle is near \\n yo...</td>\n",
       "      <td>57</td>\n",
       "      <td>20</td>\n",
       "      <td>3.7</td>\n",
       "      <td>14</td>\n",
       "      <td>8</td>\n",
       "      <td>5.9</td>\n",
       "      <td>5.1</td>\n",
       "    </tr>\n",
       "    <tr>\n",
       "      <th>6koowTu9pFHPEcZnACLKbK</th>\n",
       "      <td>\\n\\n[Verse 1]\\nBrown skin girl on the other si...</td>\n",
       "      <td>brown skin girl on the other side of the room ...</td>\n",
       "      <td>132</td>\n",
       "      <td>52</td>\n",
       "      <td>4.1</td>\n",
       "      <td>24</td>\n",
       "      <td>13</td>\n",
       "      <td>7.4</td>\n",
       "      <td>5.8</td>\n",
       "    </tr>\n",
       "    <tr>\n",
       "      <th>1JkhKUXAoNivi87ipmV3rp</th>\n",
       "      <td>\\n\\n[Verse 1]\\nIt's simple, I love it\\nHaving ...</td>\n",
       "      <td>its simple i love it \\n having you near me hav...</td>\n",
       "      <td>151</td>\n",
       "      <td>63</td>\n",
       "      <td>4.2</td>\n",
       "      <td>29</td>\n",
       "      <td>21</td>\n",
       "      <td>7.1</td>\n",
       "      <td>5.8</td>\n",
       "    </tr>\n",
       "    <tr>\n",
       "      <th>51lPx6ZCSalL2kvSrDUyJc</th>\n",
       "      <td>\\n\\n[Intro: Whistling]\\n\\n[Verse 1]\\nA great b...</td>\n",
       "      <td>a great big bang and dinosaurs \\n fiery rainin...</td>\n",
       "      <td>126</td>\n",
       "      <td>76</td>\n",
       "      <td>4.0</td>\n",
       "      <td>20</td>\n",
       "      <td>18</td>\n",
       "      <td>8.2</td>\n",
       "      <td>7.2</td>\n",
       "    </tr>\n",
       "    <tr>\n",
       "      <th>3vqlZUIT3rEmLaYKDBfb4Q</th>\n",
       "      <td>\\n\\n[Verse 1]\\nIsn't she lovely\\nIsn't she won...</td>\n",
       "      <td>isnt she lovely \\n isnt she wonderful \\n isnt ...</td>\n",
       "      <td>108</td>\n",
       "      <td>66</td>\n",
       "      <td>4.1</td>\n",
       "      <td>21</td>\n",
       "      <td>20</td>\n",
       "      <td>7.0</td>\n",
       "      <td>6.1</td>\n",
       "    </tr>\n",
       "  </tbody>\n",
       "</table>\n",
       "</div>"
      ],
      "text/plain": [
       "                                                                   lyrics  \\\n",
       "track_id                                                                    \n",
       "0h7TlF8gKb61aSm874s3cV  \\n\\nIf your needle is near\\nNeedle is near\\nYo...   \n",
       "6koowTu9pFHPEcZnACLKbK  \\n\\n[Verse 1]\\nBrown skin girl on the other si...   \n",
       "1JkhKUXAoNivi87ipmV3rp  \\n\\n[Verse 1]\\nIt's simple, I love it\\nHaving ...   \n",
       "51lPx6ZCSalL2kvSrDUyJc  \\n\\n[Intro: Whistling]\\n\\n[Verse 1]\\nA great b...   \n",
       "3vqlZUIT3rEmLaYKDBfb4Q  \\n\\n[Verse 1]\\nIsn't she lovely\\nIsn't she won...   \n",
       "\n",
       "                                                             clean_lyrics  \\\n",
       "track_id                                                                    \n",
       "0h7TlF8gKb61aSm874s3cV  if your needle is near \\n needle is near \\n yo...   \n",
       "6koowTu9pFHPEcZnACLKbK  brown skin girl on the other side of the room ...   \n",
       "1JkhKUXAoNivi87ipmV3rp  its simple i love it \\n having you near me hav...   \n",
       "51lPx6ZCSalL2kvSrDUyJc  a great big bang and dinosaurs \\n fiery rainin...   \n",
       "3vqlZUIT3rEmLaYKDBfb4Q  isnt she lovely \\n isnt she wonderful \\n isnt ...   \n",
       "\n",
       "                        total_words_track  unique_words_track  \\\n",
       "track_id                                                        \n",
       "0h7TlF8gKb61aSm874s3cV                 57                  20   \n",
       "6koowTu9pFHPEcZnACLKbK                132                  52   \n",
       "1JkhKUXAoNivi87ipmV3rp                151                  63   \n",
       "51lPx6ZCSalL2kvSrDUyJc                126                  76   \n",
       "3vqlZUIT3rEmLaYKDBfb4Q                108                  66   \n",
       "\n",
       "                        mean_len_words_track  total_lines_track  \\\n",
       "track_id                                                          \n",
       "0h7TlF8gKb61aSm874s3cV                   3.7                 14   \n",
       "6koowTu9pFHPEcZnACLKbK                   4.1                 24   \n",
       "1JkhKUXAoNivi87ipmV3rp                   4.2                 29   \n",
       "51lPx6ZCSalL2kvSrDUyJc                   4.0                 20   \n",
       "3vqlZUIT3rEmLaYKDBfb4Q                   4.1                 21   \n",
       "\n",
       "                        unique_lines_track  mean_words_line  \\\n",
       "track_id                                                      \n",
       "0h7TlF8gKb61aSm874s3cV                   8              5.9   \n",
       "6koowTu9pFHPEcZnACLKbK                  13              7.4   \n",
       "1JkhKUXAoNivi87ipmV3rp                  21              7.1   \n",
       "51lPx6ZCSalL2kvSrDUyJc                  18              8.2   \n",
       "3vqlZUIT3rEmLaYKDBfb4Q                  20              7.0   \n",
       "\n",
       "                        mean_unique_words_line  \n",
       "track_id                                        \n",
       "0h7TlF8gKb61aSm874s3cV                     5.1  \n",
       "6koowTu9pFHPEcZnACLKbK                     5.8  \n",
       "1JkhKUXAoNivi87ipmV3rp                     5.8  \n",
       "51lPx6ZCSalL2kvSrDUyJc                     7.2  \n",
       "3vqlZUIT3rEmLaYKDBfb4Q                     6.1  "
      ]
     },
     "execution_count": 65,
     "metadata": {},
     "output_type": "execute_result"
    }
   ],
   "source": [
    "lyric_df.head()"
   ]
  },
  {
   "cell_type": "markdown",
   "metadata": {},
   "source": [
    "## Plotting <a name=\"section5\"></a>"
   ]
  },
  {
   "cell_type": "markdown",
   "metadata": {},
   "source": [
    "Leveraging the counts from the previous section, I will plot out distributions to better understand how these features compare across the dataset. These plots may also be used as a frameword to help build out an interactive data dashboard which allows the user of the song generator to visualize song structure."
   ]
  },
  {
   "cell_type": "code",
   "execution_count": 66,
   "metadata": {},
   "outputs": [
    {
     "data": {
      "image/png": "[encoded data removed]",
      "text/plain": [
       "<Figure size 576x360 with 1 Axes>"
      ]
     },
     "metadata": {},
     "output_type": "display_data"
    }
   ],
   "source": [
    "plt.figure(figsize=(8,5));\n",
    "plt.title('Total Lines In Track', fontsize=25);\n",
    "plt.xlabel('Number of Lines', fontsize=20);\n",
    "plt.ylabel('Count Tracks', fontsize=20);\n",
    "plt.hist(lyric_df['total_lines_track'], range=(0,150));"
   ]
  },
  {
   "cell_type": "markdown",
   "metadata": {},
   "source": [
    "This histogram shows that most of the tracks have between 30-45 lines."
   ]
  },
  {
   "cell_type": "code",
   "execution_count": 68,
   "metadata": {},
   "outputs": [
    {
     "data": {
      "image/png": "[encoded data removed]",
      "text/plain": [
       "<Figure size 576x360 with 1 Axes>"
      ]
     },
     "metadata": {},
     "output_type": "display_data"
    }
   ],
   "source": [
    "plt.figure(figsize=(8,5));\n",
    "plt.title('Unique Lines In Track', fontsize=25);\n",
    "plt.xlabel('Number of Unique Lines', fontsize=20);\n",
    "plt.ylabel('Count Tracks', fontsize=20);\n",
    "plt.hist(lyric_df['unique_lines_track'], range=(0,150));"
   ]
  },
  {
   "cell_type": "markdown",
   "metadata": {},
   "source": [
    "This histogram shows that the majority of the tracks have between 18-35 unique lines."
   ]
  },
  {
   "cell_type": "code",
   "execution_count": 69,
   "metadata": {},
   "outputs": [
    {
     "data": {
      "image/png": "[encoded data removed]",
      "text/plain": [
       "<Figure size 576x360 with 1 Axes>"
      ]
     },
     "metadata": {},
     "output_type": "display_data"
    }
   ],
   "source": [
    "plt.figure(figsize=(8,5));\n",
    "plt.title('Total Words In Track', fontsize=25);\n",
    "plt.xlabel('Number of Words', fontsize=20);\n",
    "plt.ylabel('Count Tracks', fontsize=20);\n",
    "plt.hist(lyric_df['total_words_track'], range=(0, 1000));"
   ]
  },
  {
   "cell_type": "markdown",
   "metadata": {},
   "source": [
    "This histogram shows that most tracks in the dataset have between 200-300 words. This will is useful for determining a reasonable number of words for the model to generate."
   ]
  },
  {
   "cell_type": "code",
   "execution_count": 70,
   "metadata": {},
   "outputs": [
    {
     "data": {
      "image/png": "[encoded data removed]",
      "text/plain": [
       "<Figure size 576x360 with 1 Axes>"
      ]
     },
     "metadata": {},
     "output_type": "display_data"
    }
   ],
   "source": [
    "plt.figure(figsize=(8,5));\n",
    "plt.title('Unique Words In Track', fontsize=25);\n",
    "plt.xlabel('Number of Unique Words', fontsize=20);\n",
    "plt.ylabel('Count Tracks', fontsize=20);\n",
    "plt.hist(lyric_df['unique_words_track'], range=(0,150));"
   ]
  },
  {
   "cell_type": "markdown",
   "metadata": {},
   "source": [
    "This histogram shows that most tracks have between 70-110 unique words, giving some additional insight into word repetition."
   ]
  },
  {
   "cell_type": "code",
   "execution_count": 71,
   "metadata": {},
   "outputs": [
    {
     "data": {
      "image/png": "[encoded data removed]",
      "text/plain": [
       "<Figure size 576x360 with 1 Axes>"
      ]
     },
     "metadata": {},
     "output_type": "display_data"
    }
   ],
   "source": [
    "plt.figure(figsize=(8,5));\n",
    "plt.title('Mean Words In Line', fontsize=25);\n",
    "plt.xlabel('Mean Number of Words', fontsize=20);\n",
    "plt.ylabel('Count Tracks', fontsize=20);\n",
    "plt.hist(lyric_df['mean_words_line'], range=(0,20));"
   ]
  },
  {
   "cell_type": "markdown",
   "metadata": {},
   "source": [
    "Across the dataset, the mean number of words per line is between 8-10."
   ]
  },
  {
   "cell_type": "code",
   "execution_count": 72,
   "metadata": {},
   "outputs": [
    {
     "data": {
      "image/png": "[encoded data removed]",
      "text/plain": [
       "<Figure size 576x360 with 1 Axes>"
      ]
     },
     "metadata": {},
     "output_type": "display_data"
    }
   ],
   "source": [
    "plt.figure(figsize=(8,5));\n",
    "plt.title('Mean Unique Words In Line', fontsize=25);\n",
    "plt.xlabel('Number of Unique Words', fontsize=20);\n",
    "plt.ylabel('Count Tracks', fontsize=20);\n",
    "plt.hist(lyric_df['mean_unique_words_line'], range=(0,20));"
   ]
  },
  {
   "cell_type": "markdown",
   "metadata": {},
   "source": [
    "The vast majority of tracks feature around 5.5-8 unique words per line."
   ]
  },
  {
   "cell_type": "code",
   "execution_count": 73,
   "metadata": {},
   "outputs": [
    {
     "data": {
      "image/png": "[encoded data removed]",
      "text/plain": [
       "<Figure size 576x360 with 1 Axes>"
      ]
     },
     "metadata": {},
     "output_type": "display_data"
    }
   ],
   "source": [
    "plt.figure(figsize=(8,5));\n",
    "plt.title('Mean Word Length In Track', fontsize=25);\n",
    "plt.xlabel('Mean Word Length', fontsize=20);\n",
    "plt.ylabel('Count Tracks', fontsize=20);\n",
    "plt.hist(len_words_track);"
   ]
  },
  {
   "cell_type": "markdown",
   "metadata": {},
   "source": [
    "The average word length is between 3.5-4 for most tracks in the dataset."
   ]
  },
  {
   "cell_type": "markdown",
   "metadata": {},
   "source": [
    "Creating Histogram overlays to directly compare total vs unique song features."
   ]
  },
  {
   "cell_type": "code",
   "execution_count": 74,
   "metadata": {},
   "outputs": [
    {
     "name": "stderr",
     "output_type": "stream",
     "text": [
      "/opt/conda/lib/python3.6/site-packages/IPython/core/display.py:689: UserWarning:\n",
      "\n",
      "Consider using IPython.display.IFrame instead\n",
      "\n"
     ]
    },
    {
     "data": {
      "text/html": [
       "<iframe id=\"igraph\" scrolling=\"no\" style=\"border:none;\" seamless=\"seamless\" src=\"https://plot.ly/~csinatra/2.embed\" height=\"525px\" width=\"100%\"></iframe>"
      ],
      "text/plain": [
       "<plotly.tools.PlotlyDisplay object>"
      ]
     },
     "execution_count": 74,
     "metadata": {},
     "output_type": "execute_result"
    }
   ],
   "source": [
    "trace1 = go.Histogram(\n",
    "    x=lyric_df['total_words_track'],\n",
    "    opacity=0.75,\n",
    "    hoverinfo=['x'],\n",
    "    name='Total Words',\n",
    "    xbins=dict(\n",
    "        start=0,\n",
    "        end=1400,\n",
    "        size=20\n",
    "    ),\n",
    ")\n",
    "trace2 = go.Histogram(\n",
    "    x=lyric_df['unique_words_track'],\n",
    "    opacity=0.75,\n",
    "    hoverinfo=['x'],\n",
    "    name='Unique Words',\n",
    "    xbins=dict(\n",
    "        start=0,\n",
    "        end=1400,\n",
    "        size=20\n",
    "    ),\n",
    ")\n",
    "\n",
    "data = [trace1, trace2]\n",
    "layout = go.Layout(barmode='overlay',\n",
    "                   title='Total vs Unique Words in Track',\n",
    "                   xaxis=dict(\n",
    "                            title='Words in Track'\n",
    "                            ),\n",
    "                   yaxis=dict(\n",
    "                            title='Count Tracks')\n",
    "                  )\n",
    "\n",
    "fig = go.Figure(data=data, layout=layout)\n",
    "\n",
    "py.iplot(fig, filename='words_overlay', auto_open=True)"
   ]
  },
  {
   "cell_type": "markdown",
   "metadata": {},
   "source": [
    "The Total vs Unique Words in Track plot shows a much wider spread for total words, as would be expected. There are also some significant outliers with > 800 words for the entire track, while unique words tend to be much more consistent in distribution."
   ]
  },
  {
   "cell_type": "code",
   "execution_count": 75,
   "metadata": {},
   "outputs": [
    {
     "name": "stderr",
     "output_type": "stream",
     "text": [
      "/opt/conda/lib/python3.6/site-packages/IPython/core/display.py:689: UserWarning:\n",
      "\n",
      "Consider using IPython.display.IFrame instead\n",
      "\n"
     ]
    },
    {
     "data": {
      "text/html": [
       "<iframe id=\"igraph\" scrolling=\"no\" style=\"border:none;\" seamless=\"seamless\" src=\"https://plot.ly/~csinatra/4.embed\" height=\"525px\" width=\"100%\"></iframe>"
      ],
      "text/plain": [
       "<plotly.tools.PlotlyDisplay object>"
      ]
     },
     "execution_count": 75,
     "metadata": {},
     "output_type": "execute_result"
    }
   ],
   "source": [
    "trace1 = go.Histogram(\n",
    "    x=lyric_df['mean_words_line'],\n",
    "    opacity=0.75,\n",
    "    hoverinfo=['x'],\n",
    "    name='Total Words',\n",
    "    xbins=dict(\n",
    "        start=0,\n",
    "        end=50,\n",
    "        size=1\n",
    "    ),\n",
    ")\n",
    "trace2 = go.Histogram(\n",
    "    x=lyric_df['mean_unique_words_line'],\n",
    "    opacity=0.75,\n",
    "    hoverinfo=['x'],\n",
    "    name='Unique Words',\n",
    "    xbins=dict(\n",
    "        start=0,\n",
    "        end=50,\n",
    "        size=1\n",
    "    ),\n",
    ")\n",
    "\n",
    "data = [trace1, trace2]\n",
    "layout = go.Layout(barmode='overlay',\n",
    "                   title='Total vs Unique Words in Line',\n",
    "                   xaxis=dict(\n",
    "                            title='Mean Words in Line'\n",
    "                            ),\n",
    "                   yaxis=dict(\n",
    "                            title='Count Tracks')\n",
    "                   \n",
    "                  )\n",
    "\n",
    "fig = go.Figure(data=data, layout=layout)\n",
    "\n",
    "py.iplot(fig, filename='mean_words_overlay', auto_open=True)"
   ]
  },
  {
   "cell_type": "markdown",
   "metadata": {},
   "source": [
    "Mean vs Unique Words in Line are virtually identical. Since there are so few words to a line, this is largely unsurprising."
   ]
  },
  {
   "cell_type": "code",
   "execution_count": 76,
   "metadata": {},
   "outputs": [
    {
     "name": "stdout",
     "output_type": "stream",
     "text": [
      "High five! You successfully sent some data to your account on plotly. View your plot in your browser at https://plot.ly/~csinatra/0 or inside your plot.ly account where it is named 'lines_overlay'\n"
     ]
    },
    {
     "name": "stderr",
     "output_type": "stream",
     "text": [
      "/opt/conda/lib/python3.6/site-packages/IPython/core/display.py:689: UserWarning:\n",
      "\n",
      "Consider using IPython.display.IFrame instead\n",
      "\n"
     ]
    },
    {
     "data": {
      "text/html": [
       "<iframe id=\"igraph\" scrolling=\"no\" style=\"border:none;\" seamless=\"seamless\" src=\"https://plot.ly/~csinatra/0.embed\" height=\"525px\" width=\"100%\"></iframe>"
      ],
      "text/plain": [
       "<plotly.tools.PlotlyDisplay object>"
      ]
     },
     "execution_count": 76,
     "metadata": {},
     "output_type": "execute_result"
    }
   ],
   "source": [
    "trace1 = go.Histogram(\n",
    "    x=lyric_df['total_lines_track'],\n",
    "    opacity=0.75,\n",
    "    hoverinfo=['x'],\n",
    "    name='Total Lines',\n",
    "    xbins=dict(\n",
    "        start=0,\n",
    "        end=250,\n",
    "        size=10\n",
    "    ),\n",
    ")\n",
    "trace2 = go.Histogram(\n",
    "    x=lyric_df['unique_lines_track'],\n",
    "    opacity=0.75,\n",
    "    hoverinfo=['x'],\n",
    "    name='Unique Lines',\n",
    "    xbins=dict(\n",
    "        start=0,\n",
    "        end=250,\n",
    "        size=10\n",
    "    ),\n",
    ")\n",
    "\n",
    "data = [trace1, trace2]\n",
    "layout = go.Layout(barmode='overlay',\n",
    "                   title='Total vs Unique Lines in Track',\n",
    "                   xaxis=dict(\n",
    "                            title='Lines in Track'\n",
    "                            ),\n",
    "                  yaxis=dict(\n",
    "                            title='Count Tracks')\n",
    "                  )\n",
    "\n",
    "fig = go.Figure(data=data, layout=layout)\n",
    "\n",
    "py.iplot(fig, filename='lines_overlay', auto_open=True)"
   ]
  },
  {
   "cell_type": "markdown",
   "metadata": {},
   "source": [
    "The Total vs Unique Words in track show similar distributions with the unique lines shifted by about 10. The vast majority of tracks have between 30-40 unique lines."
   ]
  },
  {
   "cell_type": "markdown",
   "metadata": {},
   "source": [
    "Reviewing summary statistics for the numeric features."
   ]
  },
  {
   "cell_type": "code",
   "execution_count": 83,
   "metadata": {},
   "outputs": [
    {
     "data": {
      "text/html": [
       "<div>\n",
       "<style scoped>\n",
       "    .dataframe tbody tr th:only-of-type {\n",
       "        vertical-align: middle;\n",
       "    }\n",
       "\n",
       "    .dataframe tbody tr th {\n",
       "        vertical-align: top;\n",
       "    }\n",
       "\n",
       "    .dataframe thead th {\n",
       "        text-align: right;\n",
       "    }\n",
       "</style>\n",
       "<table border=\"1\" class=\"dataframe\">\n",
       "  <thead>\n",
       "    <tr style=\"text-align: right;\">\n",
       "      <th></th>\n",
       "      <th>count</th>\n",
       "      <th>mean</th>\n",
       "      <th>std</th>\n",
       "      <th>min</th>\n",
       "      <th>25%</th>\n",
       "      <th>50%</th>\n",
       "      <th>75%</th>\n",
       "      <th>max</th>\n",
       "    </tr>\n",
       "  </thead>\n",
       "  <tbody>\n",
       "    <tr>\n",
       "      <th>total_words_track</th>\n",
       "      <td>1781.0</td>\n",
       "      <td>282.639528</td>\n",
       "      <td>125.380335</td>\n",
       "      <td>13.0</td>\n",
       "      <td>195.0</td>\n",
       "      <td>267.0</td>\n",
       "      <td>346.0</td>\n",
       "      <td>1339.0</td>\n",
       "    </tr>\n",
       "    <tr>\n",
       "      <th>unique_words_track</th>\n",
       "      <td>1781.0</td>\n",
       "      <td>96.058956</td>\n",
       "      <td>37.770647</td>\n",
       "      <td>5.0</td>\n",
       "      <td>74.0</td>\n",
       "      <td>92.0</td>\n",
       "      <td>112.0</td>\n",
       "      <td>433.0</td>\n",
       "    </tr>\n",
       "    <tr>\n",
       "      <th>mean_len_words_track</th>\n",
       "      <td>1781.0</td>\n",
       "      <td>3.748175</td>\n",
       "      <td>0.264051</td>\n",
       "      <td>2.8</td>\n",
       "      <td>3.6</td>\n",
       "      <td>3.7</td>\n",
       "      <td>3.9</td>\n",
       "      <td>5.7</td>\n",
       "    </tr>\n",
       "    <tr>\n",
       "      <th>total_lines_track</th>\n",
       "      <td>1781.0</td>\n",
       "      <td>40.800674</td>\n",
       "      <td>17.889364</td>\n",
       "      <td>1.0</td>\n",
       "      <td>28.0</td>\n",
       "      <td>38.0</td>\n",
       "      <td>51.0</td>\n",
       "      <td>224.0</td>\n",
       "    </tr>\n",
       "    <tr>\n",
       "      <th>unique_lines_track</th>\n",
       "      <td>1781.0</td>\n",
       "      <td>27.646828</td>\n",
       "      <td>12.112090</td>\n",
       "      <td>1.0</td>\n",
       "      <td>20.0</td>\n",
       "      <td>25.0</td>\n",
       "      <td>33.0</td>\n",
       "      <td>189.0</td>\n",
       "    </tr>\n",
       "    <tr>\n",
       "      <th>mean_words_line</th>\n",
       "      <td>1781.0</td>\n",
       "      <td>9.069175</td>\n",
       "      <td>2.031524</td>\n",
       "      <td>4.2</td>\n",
       "      <td>7.9</td>\n",
       "      <td>8.8</td>\n",
       "      <td>9.9</td>\n",
       "      <td>55.4</td>\n",
       "    </tr>\n",
       "    <tr>\n",
       "      <th>mean_unique_words_line</th>\n",
       "      <td>1781.0</td>\n",
       "      <td>7.585345</td>\n",
       "      <td>1.677593</td>\n",
       "      <td>3.6</td>\n",
       "      <td>6.6</td>\n",
       "      <td>7.4</td>\n",
       "      <td>8.3</td>\n",
       "      <td>39.8</td>\n",
       "    </tr>\n",
       "  </tbody>\n",
       "</table>\n",
       "</div>"
      ],
      "text/plain": [
       "                         count        mean         std   min    25%    50%  \\\n",
       "total_words_track       1781.0  282.639528  125.380335  13.0  195.0  267.0   \n",
       "unique_words_track      1781.0   96.058956   37.770647   5.0   74.0   92.0   \n",
       "mean_len_words_track    1781.0    3.748175    0.264051   2.8    3.6    3.7   \n",
       "total_lines_track       1781.0   40.800674   17.889364   1.0   28.0   38.0   \n",
       "unique_lines_track      1781.0   27.646828   12.112090   1.0   20.0   25.0   \n",
       "mean_words_line         1781.0    9.069175    2.031524   4.2    7.9    8.8   \n",
       "mean_unique_words_line  1781.0    7.585345    1.677593   3.6    6.6    7.4   \n",
       "\n",
       "                          75%     max  \n",
       "total_words_track       346.0  1339.0  \n",
       "unique_words_track      112.0   433.0  \n",
       "mean_len_words_track      3.9     5.7  \n",
       "total_lines_track        51.0   224.0  \n",
       "unique_lines_track       33.0   189.0  \n",
       "mean_words_line           9.9    55.4  \n",
       "mean_unique_words_line    8.3    39.8  "
      ]
     },
     "execution_count": 83,
     "metadata": {},
     "output_type": "execute_result"
    }
   ],
   "source": [
    "lyric_df.describe().T"
   ]
  },
  {
   "cell_type": "markdown",
   "metadata": {},
   "source": [
    "Some standout statistics are a min total_words_track and total_lines_track of 1, suggesting this may be some data errors. "
   ]
  },
  {
   "cell_type": "markdown",
   "metadata": {},
   "source": [
    "Reviewing tracks with fewer than 5 lines."
   ]
  },
  {
   "cell_type": "code",
   "execution_count": 80,
   "metadata": {},
   "outputs": [
    {
     "data": {
      "text/html": [
       "<div>\n",
       "<style scoped>\n",
       "    .dataframe tbody tr th:only-of-type {\n",
       "        vertical-align: middle;\n",
       "    }\n",
       "\n",
       "    .dataframe tbody tr th {\n",
       "        vertical-align: top;\n",
       "    }\n",
       "\n",
       "    .dataframe thead th {\n",
       "        text-align: right;\n",
       "    }\n",
       "</style>\n",
       "<table border=\"1\" class=\"dataframe\">\n",
       "  <thead>\n",
       "    <tr style=\"text-align: right;\">\n",
       "      <th></th>\n",
       "      <th>lyrics</th>\n",
       "      <th>clean_lyrics</th>\n",
       "      <th>total_words_track</th>\n",
       "      <th>unique_words_track</th>\n",
       "      <th>mean_len_words_track</th>\n",
       "      <th>total_lines_track</th>\n",
       "      <th>unique_lines_track</th>\n",
       "      <th>mean_words_line</th>\n",
       "      <th>mean_unique_words_line</th>\n",
       "    </tr>\n",
       "    <tr>\n",
       "      <th>track_id</th>\n",
       "      <th></th>\n",
       "      <th></th>\n",
       "      <th></th>\n",
       "      <th></th>\n",
       "      <th></th>\n",
       "      <th></th>\n",
       "      <th></th>\n",
       "      <th></th>\n",
       "      <th></th>\n",
       "    </tr>\n",
       "  </thead>\n",
       "  <tbody>\n",
       "    <tr>\n",
       "      <th>4usvynbYaFqgm4olpzEp9u</th>\n",
       "      <td>\\n\\nYou have to take a little, give a little, ...</td>\n",
       "      <td>you have to take a little give a little and le...</td>\n",
       "      <td>26</td>\n",
       "      <td>19</td>\n",
       "      <td>3.7</td>\n",
       "      <td>1</td>\n",
       "      <td>1</td>\n",
       "      <td>26.0</td>\n",
       "      <td>19.0</td>\n",
       "    </tr>\n",
       "  </tbody>\n",
       "</table>\n",
       "</div>"
      ],
      "text/plain": [
       "                                                                   lyrics  \\\n",
       "track_id                                                                    \n",
       "4usvynbYaFqgm4olpzEp9u  \\n\\nYou have to take a little, give a little, ...   \n",
       "\n",
       "                                                             clean_lyrics  \\\n",
       "track_id                                                                    \n",
       "4usvynbYaFqgm4olpzEp9u  you have to take a little give a little and le...   \n",
       "\n",
       "                        total_words_track  unique_words_track  \\\n",
       "track_id                                                        \n",
       "4usvynbYaFqgm4olpzEp9u                 26                  19   \n",
       "\n",
       "                        mean_len_words_track  total_lines_track  \\\n",
       "track_id                                                          \n",
       "4usvynbYaFqgm4olpzEp9u                   3.7                  1   \n",
       "\n",
       "                        unique_lines_track  mean_words_line  \\\n",
       "track_id                                                      \n",
       "4usvynbYaFqgm4olpzEp9u                   1             26.0   \n",
       "\n",
       "                        mean_unique_words_line  \n",
       "track_id                                        \n",
       "4usvynbYaFqgm4olpzEp9u                    19.0  "
      ]
     },
     "execution_count": 80,
     "metadata": {},
     "output_type": "execute_result"
    }
   ],
   "source": [
    "lyric_df[lyric_df.loc[:,'total_lines_track'] < 5]"
   ]
  },
  {
   "cell_type": "code",
   "execution_count": 81,
   "metadata": {},
   "outputs": [
    {
     "data": {
      "text/plain": [
       "'\\n\\nYou have to take a little, give a little, and let your cold heart break a little. thats the story of thats the glory of love\\n\\n'"
      ]
     },
     "execution_count": 81,
     "metadata": {},
     "output_type": "execute_result"
    }
   ],
   "source": [
    "lyric_df.loc['4usvynbYaFqgm4olpzEp9u'].lyrics"
   ]
  },
  {
   "cell_type": "code",
   "execution_count": 82,
   "metadata": {},
   "outputs": [
    {
     "data": {
      "text/html": [
       "<div>\n",
       "<style scoped>\n",
       "    .dataframe tbody tr th:only-of-type {\n",
       "        vertical-align: middle;\n",
       "    }\n",
       "\n",
       "    .dataframe tbody tr th {\n",
       "        vertical-align: top;\n",
       "    }\n",
       "\n",
       "    .dataframe thead th {\n",
       "        text-align: right;\n",
       "    }\n",
       "</style>\n",
       "<table border=\"1\" class=\"dataframe\">\n",
       "  <thead>\n",
       "    <tr style=\"text-align: right;\">\n",
       "      <th></th>\n",
       "      <th>lyrics</th>\n",
       "      <th>clean_lyrics</th>\n",
       "      <th>total_words_track</th>\n",
       "      <th>unique_words_track</th>\n",
       "      <th>mean_len_words_track</th>\n",
       "      <th>total_lines_track</th>\n",
       "      <th>unique_lines_track</th>\n",
       "      <th>mean_words_line</th>\n",
       "      <th>mean_unique_words_line</th>\n",
       "    </tr>\n",
       "    <tr>\n",
       "      <th>track_id</th>\n",
       "      <th></th>\n",
       "      <th></th>\n",
       "      <th></th>\n",
       "      <th></th>\n",
       "      <th></th>\n",
       "      <th></th>\n",
       "      <th></th>\n",
       "      <th></th>\n",
       "      <th></th>\n",
       "    </tr>\n",
       "  </thead>\n",
       "  <tbody>\n",
       "  </tbody>\n",
       "</table>\n",
       "</div>"
      ],
      "text/plain": [
       "Empty DataFrame\n",
       "Columns: [lyrics, clean_lyrics, total_words_track, unique_words_track, mean_len_words_track, total_lines_track, unique_lines_track, mean_words_line, mean_unique_words_line]\n",
       "Index: []"
      ]
     },
     "execution_count": 82,
     "metadata": {},
     "output_type": "execute_result"
    }
   ],
   "source": [
    "lyric_df[lyric_df.loc[:,'total_words_track'] < 5]"
   ]
  },
  {
   "cell_type": "code",
   "execution_count": 84,
   "metadata": {},
   "outputs": [
    {
     "data": {
      "text/html": [
       "<div>\n",
       "<style scoped>\n",
       "    .dataframe tbody tr th:only-of-type {\n",
       "        vertical-align: middle;\n",
       "    }\n",
       "\n",
       "    .dataframe tbody tr th {\n",
       "        vertical-align: top;\n",
       "    }\n",
       "\n",
       "    .dataframe thead th {\n",
       "        text-align: right;\n",
       "    }\n",
       "</style>\n",
       "<table border=\"1\" class=\"dataframe\">\n",
       "  <thead>\n",
       "    <tr style=\"text-align: right;\">\n",
       "      <th></th>\n",
       "      <th>lyrics</th>\n",
       "      <th>clean_lyrics</th>\n",
       "      <th>total_words_track</th>\n",
       "      <th>unique_words_track</th>\n",
       "      <th>mean_len_words_track</th>\n",
       "      <th>total_lines_track</th>\n",
       "      <th>unique_lines_track</th>\n",
       "      <th>mean_words_line</th>\n",
       "      <th>mean_unique_words_line</th>\n",
       "    </tr>\n",
       "    <tr>\n",
       "      <th>track_id</th>\n",
       "      <th></th>\n",
       "      <th></th>\n",
       "      <th></th>\n",
       "      <th></th>\n",
       "      <th></th>\n",
       "      <th></th>\n",
       "      <th></th>\n",
       "      <th></th>\n",
       "      <th></th>\n",
       "    </tr>\n",
       "  </thead>\n",
       "  <tbody>\n",
       "    <tr>\n",
       "      <th>0h7TlF8gKb61aSm874s3cV</th>\n",
       "      <td>\\n\\nIf your needle is near\\nNeedle is near\\nYo...</td>\n",
       "      <td>if your needle is near \\n needle is near \\n yo...</td>\n",
       "      <td>57</td>\n",
       "      <td>20</td>\n",
       "      <td>3.7</td>\n",
       "      <td>14</td>\n",
       "      <td>8</td>\n",
       "      <td>5.9</td>\n",
       "      <td>5.1</td>\n",
       "    </tr>\n",
       "    <tr>\n",
       "      <th>6koowTu9pFHPEcZnACLKbK</th>\n",
       "      <td>\\n\\n[Verse 1]\\nBrown skin girl on the other si...</td>\n",
       "      <td>brown skin girl on the other side of the room ...</td>\n",
       "      <td>132</td>\n",
       "      <td>52</td>\n",
       "      <td>4.1</td>\n",
       "      <td>24</td>\n",
       "      <td>13</td>\n",
       "      <td>7.4</td>\n",
       "      <td>5.8</td>\n",
       "    </tr>\n",
       "    <tr>\n",
       "      <th>1JkhKUXAoNivi87ipmV3rp</th>\n",
       "      <td>\\n\\n[Verse 1]\\nIt's simple, I love it\\nHaving ...</td>\n",
       "      <td>its simple i love it \\n having you near me hav...</td>\n",
       "      <td>151</td>\n",
       "      <td>63</td>\n",
       "      <td>4.2</td>\n",
       "      <td>29</td>\n",
       "      <td>21</td>\n",
       "      <td>7.1</td>\n",
       "      <td>5.8</td>\n",
       "    </tr>\n",
       "    <tr>\n",
       "      <th>51lPx6ZCSalL2kvSrDUyJc</th>\n",
       "      <td>\\n\\n[Intro: Whistling]\\n\\n[Verse 1]\\nA great b...</td>\n",
       "      <td>a great big bang and dinosaurs \\n fiery rainin...</td>\n",
       "      <td>126</td>\n",
       "      <td>76</td>\n",
       "      <td>4.0</td>\n",
       "      <td>20</td>\n",
       "      <td>18</td>\n",
       "      <td>8.2</td>\n",
       "      <td>7.2</td>\n",
       "    </tr>\n",
       "    <tr>\n",
       "      <th>3vqlZUIT3rEmLaYKDBfb4Q</th>\n",
       "      <td>\\n\\n[Verse 1]\\nIsn't she lovely\\nIsn't she won...</td>\n",
       "      <td>isnt she lovely \\n isnt she wonderful \\n isnt ...</td>\n",
       "      <td>108</td>\n",
       "      <td>66</td>\n",
       "      <td>4.1</td>\n",
       "      <td>21</td>\n",
       "      <td>20</td>\n",
       "      <td>7.0</td>\n",
       "      <td>6.1</td>\n",
       "    </tr>\n",
       "  </tbody>\n",
       "</table>\n",
       "</div>"
      ],
      "text/plain": [
       "                                                                   lyrics  \\\n",
       "track_id                                                                    \n",
       "0h7TlF8gKb61aSm874s3cV  \\n\\nIf your needle is near\\nNeedle is near\\nYo...   \n",
       "6koowTu9pFHPEcZnACLKbK  \\n\\n[Verse 1]\\nBrown skin girl on the other si...   \n",
       "1JkhKUXAoNivi87ipmV3rp  \\n\\n[Verse 1]\\nIt's simple, I love it\\nHaving ...   \n",
       "51lPx6ZCSalL2kvSrDUyJc  \\n\\n[Intro: Whistling]\\n\\n[Verse 1]\\nA great b...   \n",
       "3vqlZUIT3rEmLaYKDBfb4Q  \\n\\n[Verse 1]\\nIsn't she lovely\\nIsn't she won...   \n",
       "\n",
       "                                                             clean_lyrics  \\\n",
       "track_id                                                                    \n",
       "0h7TlF8gKb61aSm874s3cV  if your needle is near \\n needle is near \\n yo...   \n",
       "6koowTu9pFHPEcZnACLKbK  brown skin girl on the other side of the room ...   \n",
       "1JkhKUXAoNivi87ipmV3rp  its simple i love it \\n having you near me hav...   \n",
       "51lPx6ZCSalL2kvSrDUyJc  a great big bang and dinosaurs \\n fiery rainin...   \n",
       "3vqlZUIT3rEmLaYKDBfb4Q  isnt she lovely \\n isnt she wonderful \\n isnt ...   \n",
       "\n",
       "                        total_words_track  unique_words_track  \\\n",
       "track_id                                                        \n",
       "0h7TlF8gKb61aSm874s3cV                 57                  20   \n",
       "6koowTu9pFHPEcZnACLKbK                132                  52   \n",
       "1JkhKUXAoNivi87ipmV3rp                151                  63   \n",
       "51lPx6ZCSalL2kvSrDUyJc                126                  76   \n",
       "3vqlZUIT3rEmLaYKDBfb4Q                108                  66   \n",
       "\n",
       "                        mean_len_words_track  total_lines_track  \\\n",
       "track_id                                                          \n",
       "0h7TlF8gKb61aSm874s3cV                   3.7                 14   \n",
       "6koowTu9pFHPEcZnACLKbK                   4.1                 24   \n",
       "1JkhKUXAoNivi87ipmV3rp                   4.2                 29   \n",
       "51lPx6ZCSalL2kvSrDUyJc                   4.0                 20   \n",
       "3vqlZUIT3rEmLaYKDBfb4Q                   4.1                 21   \n",
       "\n",
       "                        unique_lines_track  mean_words_line  \\\n",
       "track_id                                                      \n",
       "0h7TlF8gKb61aSm874s3cV                   8              5.9   \n",
       "6koowTu9pFHPEcZnACLKbK                  13              7.4   \n",
       "1JkhKUXAoNivi87ipmV3rp                  21              7.1   \n",
       "51lPx6ZCSalL2kvSrDUyJc                  18              8.2   \n",
       "3vqlZUIT3rEmLaYKDBfb4Q                  20              7.0   \n",
       "\n",
       "                        mean_unique_words_line  \n",
       "track_id                                        \n",
       "0h7TlF8gKb61aSm874s3cV                     5.1  \n",
       "6koowTu9pFHPEcZnACLKbK                     5.8  \n",
       "1JkhKUXAoNivi87ipmV3rp                     5.8  \n",
       "51lPx6ZCSalL2kvSrDUyJc                     7.2  \n",
       "3vqlZUIT3rEmLaYKDBfb4Q                     6.1  "
      ]
     },
     "execution_count": 84,
     "metadata": {},
     "output_type": "execute_result"
    }
   ],
   "source": [
    "lyric_df.head()"
   ]
  },
  {
   "cell_type": "code",
   "execution_count": null,
   "metadata": {},
   "outputs": [],
   "source": [
    "# formatted_name, now, file_description= filename_format_log(file_path = '../assets/lyric_df.csv')\n",
    "\n",
    "# lyric_df.to_csv(formatted_name, index=False)"
   ]
  },
  {
   "cell_type": "markdown",
   "metadata": {},
   "source": [
    "## Lyric Structure Analysis <a name=\"section6\"></a>"
   ]
  },
  {
   "cell_type": "code",
   "execution_count": 99,
   "metadata": {},
   "outputs": [
    {
     "data": {
      "text/plain": [
       "[[],\n",
       " ['[Verse 1]', '[Chorus]', '[Verse 2]', '[Chorus]'],\n",
       " ['[Verse 1]', '[Hook]', '[Verse 2]', '[Hook]'],\n",
       " ['[Intro: Whistling]',\n",
       "  '[Verse 1]',\n",
       "  '[Chorus 1]',\n",
       "  '[Verse 2]',\n",
       "  '[Chorus 2]',\n",
       "  '[Verse 3]',\n",
       "  '[Chorus 3]',\n",
       "  '[Interlude: Whistling]',\n",
       "  '[Verse 4]',\n",
       "  '[Chorus 1]',\n",
       "  '[Outro: Whistling]'],\n",
       " ['[Verse 1]',\n",
       "  '[Verse 2]',\n",
       "  '[Harmonica solo]',\n",
       "  '[Verse 3]',\n",
       "  '[Harmonica solo many rounds]']]"
      ]
     },
     "execution_count": 99,
     "metadata": {},
     "output_type": "execute_result"
    }
   ],
   "source": [
    "tags = []\n",
    "lyric_df.lyrics.map(lambda x: tags.append(re.findall('(\\[[^\\]]+\\])', x)))\n",
    "tags[:5]"
   ]
  },
  {
   "cell_type": "code",
   "execution_count": null,
   "metadata": {},
   "outputs": [],
   "source": [
    "re.sub('(\\[[^\\]]+\\])', '', track)"
   ]
  },
  {
   "cell_type": "code",
   "execution_count": 103,
   "metadata": {},
   "outputs": [],
   "source": [
    "track = '[bridge: ft test demo]'"
   ]
  },
  {
   "cell_type": "code",
   "execution_count": 105,
   "metadata": {},
   "outputs": [],
   "source": [
    "track ='[pre-chorus], [other tag]'"
   ]
  },
  {
   "cell_type": "code",
   "execution_count": 106,
   "metadata": {},
   "outputs": [
    {
     "data": {
      "text/plain": [
       "'[pre-chorus]'"
      ]
     },
     "execution_count": 106,
     "metadata": {},
     "output_type": "execute_result"
    }
   ],
   "source": [
    "track = re.sub('\\[(intro.+[^\\]])\\]', '[intro]', track)\n",
    "track = re.sub('\\[(verse.+[^\\]])\\]', '[verse]', track)\n",
    "track = re.sub('\\[(chorus.+[^\\]])\\]', '[chorus]', track)\n",
    "track = re.sub('\\[(bridge.+[^\\]])\\]', '[bridge]', track)\n",
    "track = re.sub('\\[(break.+[^\\]])\\]', '[break]', track)\n",
    "track = re.sub('\\[(refrain.+[^\\]])\\]', '[refrain]', track)\n",
    "track = re.sub('\\[(interlude.+[^\\]])\\]', '[interlude]', track)\n",
    "track = re.sub('\\[(outro.+[^\\]])\\]', '[outro]', track)\n",
    "\n",
    "track = re.sub('')\n",
    "track\n"
   ]
  },
  {
   "cell_type": "code",
   "execution_count": null,
   "metadata": {},
   "outputs": [],
   "source": [
    "eda_df = pd.DataFrame(columns=['id', 'line', 'line_num', 'tag'])\n",
    "\n",
    "for idx, track in lyric_df[['lyrics']].iterrows():\n",
    "    track = track.lower()\n",
    "    track = re.sub('(\\[[^\\]]+\\]\\\\n\\\\n)', '', track[0]) #removes tags without lyrics\n",
    "    track = re.sub('\\[(intro.+[^\\]])\\]', '[intro]', track)\n",
    "    track = re.sub('\\[(verse.+[^\\]])\\]', '[verse]', track)\n",
    "    track = re.sub('\\[(chorus.+[^\\]])\\]', '[chorus]', track)\n",
    "    track = re.sub('\\[(bridge.+[^\\]])\\]', '[bridge]', track)\n",
    "    track = re.sub('\\[(break.+[^\\]])\\]', '[break]', track)\n",
    "    track = re.sub('\\[(refrain.+[^\\]])\\]', '[refrain]', track)\n",
    "    track = re.sub('\\[(interlude.+[^\\]])\\]', '[interlude]', track)\n",
    "    track = re.sub('\\[(outro.+[^\\]])\\]', '[outro]', track)\n",
    "    \n",
    "    tags = re.findall('(\\[[^\\]]+\\])', track) #finds all tags\n",
    "    track = re.sub('(\\[[^\\]]+\\])', '', track) #removes all tags\n",
    "              \n",
    "    track = track.strip().split('\\n\\n') \n",
    "    track_split = [verse.strip().split('\\n') for verse in track] \n",
    "    \n",
    "    v_count = len(track_split)\n",
    "\n",
    "    for i in range(v_count):\n",
    "        if len(tags) == v_count:\n",
    "            tag = tags[i]\n",
    "        else:\n",
    "            tag = f'[other {(i+1)}]'\n",
    "        \n",
    "        for j, line in enumerate(track_split[i]):\n",
    "            index = 1\n",
    "            \n",
    "            row = {\n",
    "            'id': idx,\n",
    "            'line':line,\n",
    "            'line_num':(j+1),\n",
    "            'tag': tag.lower()\n",
    "            }\n",
    "            \n",
    "            eda_df = eda_df.append(row, ignore_index=True)"
   ]
  },
  {
   "cell_type": "code",
   "execution_count": null,
   "metadata": {},
   "outputs": [],
   "source": [
    "# eda_df = pd.DataFrame(columns=['id', 'line', 'line_num', 'tag'])\n",
    "\n",
    "# for idx, track in lyric_df[['lyrics']].iterrows():\n",
    "#     track = re.sub('(\\[[^\\]]+\\]\\\\n\\\\n)', '', track[0]) #removes tags without lyrics\n",
    "#     track = re.sub('\\[[^\\[]+(:[^\\]]+)\\]', '', track) #removes all text after :\n",
    "#     track = re.sub('\\[[^\\[]+(–[^\\]]+)|\\[[^\\[]+(-\\s[^\\]]+)\\]', '', track) #removes all after –\n",
    "#     track = re.sub('\\[[^\\[]+(\\(([^\\]]+))\\]', '', track) #removes all after ()\n",
    "#     track = re.sub('(^|)(\\[Ad-Libs\\])|(\\[Keisha\\])|(\\[Shane Powers\\])', '', track) #removes artist and non-standard tags\n",
    "#     track = re.sub('(^|)(\\[Break\\])|(\\[Vocals / Lyrics By\\])|(\\[Skit\\])', '', track) #removes artist and non-standard tags\n",
    "    \n",
    "#     tags = re.findall('(\\[[^\\]]+\\])', track) #finds all tags\n",
    "#     track = re.sub('(\\[[^\\]]+\\])', '', track) #removes all tags\n",
    "              \n",
    "#     track = track.strip().split('\\n\\n') \n",
    "#     track_split = [verse.strip().split('\\n') for verse in track] \n",
    "    \n",
    "#     v_count = len(track_split)\n",
    "\n",
    "#     for i in range(v_count):\n",
    "#         if len(tags) == v_count:\n",
    "#             tag = tags[i]\n",
    "#         else:\n",
    "#             tag = f'[other {(i+1)}]'\n",
    "        \n",
    "#         for j, line in enumerate(track_split[i]):\n",
    "#             index = 1\n",
    "            \n",
    "#             row = {\n",
    "#             'id': idx,\n",
    "#             'line':line,\n",
    "#             'line_num':(j+1),\n",
    "#             'tag': tag.lower()\n",
    "#             }\n",
    "            \n",
    "#             eda_df = eda_df.append(row, ignore_index=True)"
   ]
  },
  {
   "cell_type": "code",
   "execution_count": null,
   "metadata": {},
   "outputs": [],
   "source": [
    "eda_df"
   ]
  },
  {
   "cell_type": "code",
   "execution_count": null,
   "metadata": {},
   "outputs": [],
   "source": [
    "# formatted_name, now, file_description = filename_format_log(file_path ='../assets/eda_df.csv')\n",
    "# eda_df.to_csv(formatted_name, index=False)"
   ]
  },
  {
   "cell_type": "code",
   "execution_count": null,
   "metadata": {},
   "outputs": [],
   "source": [
    "# eda_df = pd.read_csv('../assets/1548892595_eda_df.csv')"
   ]
  },
  {
   "cell_type": "code",
   "execution_count": null,
   "metadata": {},
   "outputs": [],
   "source": [
    "eda_df.tag.value_counts()[eda_df.tag.value_counts() < 10]"
   ]
  },
  {
   "cell_type": "code",
   "execution_count": null,
   "metadata": {},
   "outputs": [],
   "source": [
    "drop = eda_df[eda_df['id'] == '4TYZXfu6VeblQMK2TwbDte'].index.tolist()"
   ]
  },
  {
   "cell_type": "code",
   "execution_count": null,
   "metadata": {},
   "outputs": [],
   "source": [
    "eda_df = eda_df.drop(drop, axis=0)"
   ]
  },
  {
   "cell_type": "code",
   "execution_count": null,
   "metadata": {},
   "outputs": [],
   "source": [
    "eda_df[eda_df.loc[:,'tag'] == '[verse 55]']"
   ]
  },
  {
   "cell_type": "code",
   "execution_count": null,
   "metadata": {},
   "outputs": [],
   "source": [
    "lyric_df.loc['6xYd4zCVeSp80Un2Rl9wDs',:]['lyrics']"
   ]
  },
  {
   "cell_type": "code",
   "execution_count": null,
   "metadata": {},
   "outputs": [],
   "source": [
    "off_verse = eda_df[eda_df.id =='6xYd4zCVeSp80Un2Rl9wDs'].index.tolist()"
   ]
  },
  {
   "cell_type": "code",
   "execution_count": null,
   "metadata": {},
   "outputs": [],
   "source": [
    "eda_df.tag.loc[off_verse] = eda_df.tag.loc[off_verse].map(lambda x: '[verse 1]')"
   ]
  },
  {
   "cell_type": "code",
   "execution_count": null,
   "metadata": {},
   "outputs": [],
   "source": [
    "eda_df.loc[off_verse,'line_num'] = list(range(1,63))"
   ]
  },
  {
   "cell_type": "code",
   "execution_count": null,
   "metadata": {},
   "outputs": [],
   "source": [
    "eda_df.tag.value_counts()"
   ]
  },
  {
   "cell_type": "code",
   "execution_count": null,
   "metadata": {},
   "outputs": [],
   "source": [
    "eda_df[eda_df.tag.str.contains('\\n')]"
   ]
  },
  {
   "cell_type": "code",
   "execution_count": null,
   "metadata": {},
   "outputs": [],
   "source": [
    "eda_df[eda_df.loc[:,'tag'] == '[verse 28]']"
   ]
  },
  {
   "cell_type": "code",
   "execution_count": null,
   "metadata": {},
   "outputs": [],
   "source": [
    "leagues = eda_df[eda_df.id =='2za6PlkAQAMMu0VFsfBoHC'].index.tolist()"
   ]
  },
  {
   "cell_type": "code",
   "execution_count": null,
   "metadata": {},
   "outputs": [],
   "source": [
    "eda_df = eda_df.drop(index=leagues, axis=0)"
   ]
  },
  {
   "cell_type": "code",
   "execution_count": null,
   "metadata": {},
   "outputs": [],
   "source": [
    "eda_df.describe()"
   ]
  },
  {
   "cell_type": "code",
   "execution_count": null,
   "metadata": {},
   "outputs": [],
   "source": [
    "eda_df[eda_df.id == '1ZzbD3g1K6LY2S1w5cdowm']"
   ]
  },
  {
   "cell_type": "code",
   "execution_count": null,
   "metadata": {},
   "outputs": [],
   "source": [
    "eda_df[eda_df.id == '3yPMLvxeEor7rbDLDseJFt']"
   ]
  },
  {
   "cell_type": "code",
   "execution_count": null,
   "metadata": {},
   "outputs": [],
   "source": [
    "tracks = eda_df[eda_df.id == '3yPMLvxeEor7rbDLDseJFt'].index.tolist()"
   ]
  },
  {
   "cell_type": "code",
   "execution_count": null,
   "metadata": {},
   "outputs": [],
   "source": [
    "eda_df = eda_df.drop(index=tracks, axis=0)"
   ]
  },
  {
   "cell_type": "code",
   "execution_count": null,
   "metadata": {},
   "outputs": [],
   "source": [
    "eda_df.describe()"
   ]
  },
  {
   "cell_type": "code",
   "execution_count": null,
   "metadata": {},
   "outputs": [],
   "source": [
    "eda_df.tag.value_counts()"
   ]
  },
  {
   "cell_type": "code",
   "execution_count": null,
   "metadata": {},
   "outputs": [],
   "source": [
    "bad_tag = eda_df.tag[eda_df.tag.str.contains('\\n')].index.tolist()"
   ]
  },
  {
   "cell_type": "code",
   "execution_count": null,
   "metadata": {},
   "outputs": [],
   "source": [
    "eda_df = eda_df.drop(index=bad_tag,axis=0)"
   ]
  },
  {
   "cell_type": "code",
   "execution_count": null,
   "metadata": {},
   "outputs": [],
   "source": [
    "eda_df.tag.value_counts()"
   ]
  },
  {
   "cell_type": "markdown",
   "metadata": {},
   "source": [
    "# CONTINUE TO NOTEBOOK 03: PREPROCESSING"
   ]
  }
 ],
 "metadata": {
  "kernelspec": {
   "display_name": "Python 3",
   "language": "python",
   "name": "python3"
  },
  "language_info": {
   "codemirror_mode": {
    "name": "ipython",
    "version": 3
   },
   "file_extension": ".py",
   "mimetype": "text/x-python",
   "name": "python",
   "nbconvert_exporter": "python",
   "pygments_lexer": "ipython3",
   "version": "3.6.8"
  }
 },
 "nbformat": 4,
 "nbformat_minor": 2
}
