{
 "cells": [
  {
   "cell_type": "code",
   "execution_count": 3,
   "metadata": {},
   "outputs": [],
   "source": [
    "import json, time, re, requests, pickle\n",
    "import pandas as pd\n",
    "import psycopg2 as pg2\n",
    "import numpy as np\n",
    "\n",
    "import plotly.plotly as py\n",
    "import plotly.graph_objs as go\n",
    "\n",
    "\n",
    "from sqlalchemy import create_engine\n",
    "from psycopg2.extras import RealDictCursor, Json\n",
    "from psycopg2.extensions import AsIs\n",
    "\n",
    "%matplotlib inline\n",
    "%run ../assets/sql_cred.py"
   ]
  },
  {
   "cell_type": "code",
   "execution_count": 3,
   "metadata": {},
   "outputs": [],
   "source": [
    "def filename_format_log(file_path, \n",
    "                        logfile = '../assets/file_log.txt', \n",
    "                        now = round(time.time()), \n",
    "                        file_description = None): \n",
    "   \n",
    "    try:\n",
    "        ext = re.search('(?<!^)(?<!\\.)\\.(?!\\.)', file_path).start() \n",
    "    except:\n",
    "        raise NameError('Please enter a relative path with a file extension.') \n",
    "    \n",
    "    stamp = re.search('(?<!^)(?<!\\.)[A-z]+_[0-z]+(?=\\.)', file_path).start()\n",
    "    formatted_name = f'{file_path[:stamp]}{now}_{file_path[stamp:]}'  \n",
    "    if not file_description:\n",
    "        file_description = f'Saved at: {time.asctime(time.gmtime(now))}'\n",
    "    with open(logfile, 'a+') as f:\n",
    "        f.write(f'{formatted_name}: {file_description}\\n')\n",
    "    return formatted_name, now, file_description"
   ]
  },
  {
   "cell_type": "code",
   "execution_count": 4,
   "metadata": {},
   "outputs": [],
   "source": [
    "engine = create_engine(ENGINE)"
   ]
  },
  {
   "cell_type": "code",
   "execution_count": 5,
   "metadata": {},
   "outputs": [],
   "source": [
    "def con_cur_to_db(dbname=DBNAME, dict_cur=None):\n",
    "    con = pg2.connect(host=IP_ADDRESS,\n",
    "                  dbname=dbname,\n",
    "                  user=USER,\n",
    "                  password=PASSWORD)\n",
    "    if dict_cur:\n",
    "        cur = con.cursor(cursor_factory=RealDictCursor)\n",
    "    else:\n",
    "        cur = con.cursor()\n",
    "    return con, cur\n",
    "    \n",
    "def execute_query(query, dbname=DBNAME, dict_cur=None, command=False):\n",
    "    con, cur = con_cur_to_db(dbname, dict_cur)\n",
    "    cur.execute(f'{query}')\n",
    "    if not command:\n",
    "        data = cur.fetchall()\n",
    "        con.close()\n",
    "        return data\n",
    "    con.commit() #sends to server\n",
    "    con.close() #closes server connection"
   ]
  },
  {
   "cell_type": "code",
   "execution_count": 6,
   "metadata": {},
   "outputs": [
    {
     "data": {
      "text/html": [
       "<div>\n",
       "<style scoped>\n",
       "    .dataframe tbody tr th:only-of-type {\n",
       "        vertical-align: middle;\n",
       "    }\n",
       "\n",
       "    .dataframe tbody tr th {\n",
       "        vertical-align: top;\n",
       "    }\n",
       "\n",
       "    .dataframe thead th {\n",
       "        text-align: right;\n",
       "    }\n",
       "</style>\n",
       "<table border=\"1\" class=\"dataframe\">\n",
       "  <thead>\n",
       "    <tr style=\"text-align: right;\">\n",
       "      <th></th>\n",
       "      <th>album_name</th>\n",
       "      <th>artist_name</th>\n",
       "      <th>lyrics</th>\n",
       "      <th>playlist_id</th>\n",
       "      <th>playlist_name</th>\n",
       "      <th>playlist_owner</th>\n",
       "      <th>track_name</th>\n",
       "    </tr>\n",
       "    <tr>\n",
       "      <th>track_id</th>\n",
       "      <th></th>\n",
       "      <th></th>\n",
       "      <th></th>\n",
       "      <th></th>\n",
       "      <th></th>\n",
       "      <th></th>\n",
       "      <th></th>\n",
       "    </tr>\n",
       "  </thead>\n",
       "  <tbody>\n",
       "    <tr>\n",
       "      <th>0h7TlF8gKb61aSm874s3cV</th>\n",
       "      <td>I Can't Tell You How Much It Hurts</td>\n",
       "      <td>moow</td>\n",
       "      <td>\\n\\nIf your needle is near\\nNeedle is near\\nYo...</td>\n",
       "      <td>37i9dQZF1DXarebqD2nAVg</td>\n",
       "      <td>Tender</td>\n",
       "      <td>spotify</td>\n",
       "      <td>You'r in My Head</td>\n",
       "    </tr>\n",
       "    <tr>\n",
       "      <th>6koowTu9pFHPEcZnACLKbK</th>\n",
       "      <td>Coming Home</td>\n",
       "      <td>Leon Bridges</td>\n",
       "      <td>\\n\\n[Verse 1]\\nBrown skin girl on the other si...</td>\n",
       "      <td>37i9dQZF1DX4adj7PFEBwf</td>\n",
       "      <td>Wedding Bells</td>\n",
       "      <td>spotify</td>\n",
       "      <td>Brown Skin Girl</td>\n",
       "    </tr>\n",
       "    <tr>\n",
       "      <th>1JkhKUXAoNivi87ipmV3rp</th>\n",
       "      <td>Back To Love (Deluxe Version)</td>\n",
       "      <td>Anthony Hamilton</td>\n",
       "      <td>\\n\\n[Verse 1]\\nIt's simple, I love it\\nHaving ...</td>\n",
       "      <td>37i9dQZF1DX4adj7PFEBwf</td>\n",
       "      <td>Wedding Bells</td>\n",
       "      <td>spotify</td>\n",
       "      <td>Best of Me</td>\n",
       "    </tr>\n",
       "    <tr>\n",
       "      <th>51lPx6ZCSalL2kvSrDUyJc</th>\n",
       "      <td>The Search for Everything</td>\n",
       "      <td>John Mayer</td>\n",
       "      <td>\\n\\n[Intro: Whistling]\\n\\n[Verse 1]\\nA great b...</td>\n",
       "      <td>37i9dQZF1DX4adj7PFEBwf</td>\n",
       "      <td>Wedding Bells</td>\n",
       "      <td>spotify</td>\n",
       "      <td>You're Gonna Live Forever in Me</td>\n",
       "    </tr>\n",
       "    <tr>\n",
       "      <th>3vqlZUIT3rEmLaYKDBfb4Q</th>\n",
       "      <td>Songs In The Key Of Life</td>\n",
       "      <td>Stevie Wonder</td>\n",
       "      <td>\\n\\n[Verse 1]\\nIsn't she lovely\\nIsn't she won...</td>\n",
       "      <td>37i9dQZF1DX4adj7PFEBwf</td>\n",
       "      <td>Wedding Bells</td>\n",
       "      <td>spotify</td>\n",
       "      <td>Isn't She Lovely</td>\n",
       "    </tr>\n",
       "  </tbody>\n",
       "</table>\n",
       "</div>"
      ],
      "text/plain": [
       "                                                album_name       artist_name  \\\n",
       "track_id                                                                       \n",
       "0h7TlF8gKb61aSm874s3cV  I Can't Tell You How Much It Hurts              moow   \n",
       "6koowTu9pFHPEcZnACLKbK                         Coming Home      Leon Bridges   \n",
       "1JkhKUXAoNivi87ipmV3rp       Back To Love (Deluxe Version)  Anthony Hamilton   \n",
       "51lPx6ZCSalL2kvSrDUyJc           The Search for Everything        John Mayer   \n",
       "3vqlZUIT3rEmLaYKDBfb4Q            Songs In The Key Of Life     Stevie Wonder   \n",
       "\n",
       "                                                                   lyrics  \\\n",
       "track_id                                                                    \n",
       "0h7TlF8gKb61aSm874s3cV  \\n\\nIf your needle is near\\nNeedle is near\\nYo...   \n",
       "6koowTu9pFHPEcZnACLKbK  \\n\\n[Verse 1]\\nBrown skin girl on the other si...   \n",
       "1JkhKUXAoNivi87ipmV3rp  \\n\\n[Verse 1]\\nIt's simple, I love it\\nHaving ...   \n",
       "51lPx6ZCSalL2kvSrDUyJc  \\n\\n[Intro: Whistling]\\n\\n[Verse 1]\\nA great b...   \n",
       "3vqlZUIT3rEmLaYKDBfb4Q  \\n\\n[Verse 1]\\nIsn't she lovely\\nIsn't she won...   \n",
       "\n",
       "                                   playlist_id  playlist_name playlist_owner  \\\n",
       "track_id                                                                       \n",
       "0h7TlF8gKb61aSm874s3cV  37i9dQZF1DXarebqD2nAVg         Tender        spotify   \n",
       "6koowTu9pFHPEcZnACLKbK  37i9dQZF1DX4adj7PFEBwf  Wedding Bells        spotify   \n",
       "1JkhKUXAoNivi87ipmV3rp  37i9dQZF1DX4adj7PFEBwf  Wedding Bells        spotify   \n",
       "51lPx6ZCSalL2kvSrDUyJc  37i9dQZF1DX4adj7PFEBwf  Wedding Bells        spotify   \n",
       "3vqlZUIT3rEmLaYKDBfb4Q  37i9dQZF1DX4adj7PFEBwf  Wedding Bells        spotify   \n",
       "\n",
       "                                             track_name  \n",
       "track_id                                                 \n",
       "0h7TlF8gKb61aSm874s3cV                 You'r in My Head  \n",
       "6koowTu9pFHPEcZnACLKbK                  Brown Skin Girl  \n",
       "1JkhKUXAoNivi87ipmV3rp                       Best of Me  \n",
       "51lPx6ZCSalL2kvSrDUyJc  You're Gonna Live Forever in Me  \n",
       "3vqlZUIT3rEmLaYKDBfb4Q                 Isn't She Lovely  "
      ]
     },
     "execution_count": 6,
     "metadata": {},
     "output_type": "execute_result"
    }
   ],
   "source": [
    "query = '''SELECT * FROM track_list;'''\n",
    "response = execute_query(query, dict_cur=True)\n",
    "track_df = pd.DataFrame(response)\n",
    "track_df.set_index('track_id', inplace=True)\n",
    "track_df.head()"
   ]
  },
  {
   "cell_type": "code",
   "execution_count": 7,
   "metadata": {},
   "outputs": [],
   "source": [
    "lyric_df = track_df[['lyrics']]"
   ]
  },
  {
   "cell_type": "code",
   "execution_count": 8,
   "metadata": {},
   "outputs": [],
   "source": [
    "lyric_df = lyric_df.dropna(axis=0)"
   ]
  },
  {
   "cell_type": "code",
   "execution_count": 9,
   "metadata": {},
   "outputs": [
    {
     "data": {
      "text/plain": [
       "(2276, 1)"
      ]
     },
     "execution_count": 9,
     "metadata": {},
     "output_type": "execute_result"
    }
   ],
   "source": [
    "lyric_df.shape"
   ]
  },
  {
   "cell_type": "code",
   "execution_count": 10,
   "metadata": {},
   "outputs": [
    {
     "data": {
      "text/html": [
       "<div>\n",
       "<style scoped>\n",
       "    .dataframe tbody tr th:only-of-type {\n",
       "        vertical-align: middle;\n",
       "    }\n",
       "\n",
       "    .dataframe tbody tr th {\n",
       "        vertical-align: top;\n",
       "    }\n",
       "\n",
       "    .dataframe thead th {\n",
       "        text-align: right;\n",
       "    }\n",
       "</style>\n",
       "<table border=\"1\" class=\"dataframe\">\n",
       "  <thead>\n",
       "    <tr style=\"text-align: right;\">\n",
       "      <th></th>\n",
       "      <th>lyrics</th>\n",
       "    </tr>\n",
       "    <tr>\n",
       "      <th>track_id</th>\n",
       "      <th></th>\n",
       "    </tr>\n",
       "  </thead>\n",
       "  <tbody>\n",
       "    <tr>\n",
       "      <th>0h7TlF8gKb61aSm874s3cV</th>\n",
       "      <td>\\n\\nIf your needle is near\\nNeedle is near\\nYo...</td>\n",
       "    </tr>\n",
       "    <tr>\n",
       "      <th>6koowTu9pFHPEcZnACLKbK</th>\n",
       "      <td>\\n\\n[Verse 1]\\nBrown skin girl on the other si...</td>\n",
       "    </tr>\n",
       "    <tr>\n",
       "      <th>1JkhKUXAoNivi87ipmV3rp</th>\n",
       "      <td>\\n\\n[Verse 1]\\nIt's simple, I love it\\nHaving ...</td>\n",
       "    </tr>\n",
       "    <tr>\n",
       "      <th>51lPx6ZCSalL2kvSrDUyJc</th>\n",
       "      <td>\\n\\n[Intro: Whistling]\\n\\n[Verse 1]\\nA great b...</td>\n",
       "    </tr>\n",
       "    <tr>\n",
       "      <th>3vqlZUIT3rEmLaYKDBfb4Q</th>\n",
       "      <td>\\n\\n[Verse 1]\\nIsn't she lovely\\nIsn't she won...</td>\n",
       "    </tr>\n",
       "  </tbody>\n",
       "</table>\n",
       "</div>"
      ],
      "text/plain": [
       "                                                                   lyrics\n",
       "track_id                                                                 \n",
       "0h7TlF8gKb61aSm874s3cV  \\n\\nIf your needle is near\\nNeedle is near\\nYo...\n",
       "6koowTu9pFHPEcZnACLKbK  \\n\\n[Verse 1]\\nBrown skin girl on the other si...\n",
       "1JkhKUXAoNivi87ipmV3rp  \\n\\n[Verse 1]\\nIt's simple, I love it\\nHaving ...\n",
       "51lPx6ZCSalL2kvSrDUyJc  \\n\\n[Intro: Whistling]\\n\\n[Verse 1]\\nA great b...\n",
       "3vqlZUIT3rEmLaYKDBfb4Q  \\n\\n[Verse 1]\\nIsn't she lovely\\nIsn't she won..."
      ]
     },
     "execution_count": 10,
     "metadata": {},
     "output_type": "execute_result"
    }
   ],
   "source": [
    "lyric_df.head()"
   ]
  },
  {
   "cell_type": "code",
   "execution_count": 11,
   "metadata": {},
   "outputs": [],
   "source": [
    "def clean_lyrics(lyrics, keep_tags=False, keep_nl=False):\n",
    "\n",
    "    text = lyrics.lower()\n",
    "\n",
    "    if not keep_tags:\n",
    "        text = re.sub('(\\[.+\\])', '', text)\n",
    "\n",
    "    text = re.sub('[^a-z\\s]', '', text)\n",
    "\n",
    "    text = text.strip()\n",
    "    text = re.sub('\\n\\n', ' ', text) \n",
    "\n",
    "    text = text.strip()\n",
    "\n",
    "    if keep_nl:\n",
    "        text = re.sub('\\n', ' \\n ', text)\n",
    "    else:\n",
    "        text = re.sub('\\n', ' ', text)\n",
    "\n",
    "\n",
    "    return text"
   ]
  },
  {
   "cell_type": "code",
   "execution_count": 12,
   "metadata": {},
   "outputs": [],
   "source": [
    "lyric_df['clean_lyrics'] = lyric_df.lyrics.map(lambda x: clean_lyrics(x, keep_tags=False, keep_nl=True))"
   ]
  },
  {
   "cell_type": "code",
   "execution_count": 13,
   "metadata": {},
   "outputs": [
    {
     "data": {
      "text/html": [
       "<div>\n",
       "<style scoped>\n",
       "    .dataframe tbody tr th:only-of-type {\n",
       "        vertical-align: middle;\n",
       "    }\n",
       "\n",
       "    .dataframe tbody tr th {\n",
       "        vertical-align: top;\n",
       "    }\n",
       "\n",
       "    .dataframe thead th {\n",
       "        text-align: right;\n",
       "    }\n",
       "</style>\n",
       "<table border=\"1\" class=\"dataframe\">\n",
       "  <thead>\n",
       "    <tr style=\"text-align: right;\">\n",
       "      <th></th>\n",
       "      <th>lyrics</th>\n",
       "      <th>clean_lyrics</th>\n",
       "    </tr>\n",
       "    <tr>\n",
       "      <th>track_id</th>\n",
       "      <th></th>\n",
       "      <th></th>\n",
       "    </tr>\n",
       "  </thead>\n",
       "  <tbody>\n",
       "    <tr>\n",
       "      <th>0h7TlF8gKb61aSm874s3cV</th>\n",
       "      <td>\\n\\nIf your needle is near\\nNeedle is near\\nYo...</td>\n",
       "      <td>if your needle is near \\n needle is near \\n yo...</td>\n",
       "    </tr>\n",
       "    <tr>\n",
       "      <th>6koowTu9pFHPEcZnACLKbK</th>\n",
       "      <td>\\n\\n[Verse 1]\\nBrown skin girl on the other si...</td>\n",
       "      <td>brown skin girl on the other side of the room ...</td>\n",
       "    </tr>\n",
       "    <tr>\n",
       "      <th>1JkhKUXAoNivi87ipmV3rp</th>\n",
       "      <td>\\n\\n[Verse 1]\\nIt's simple, I love it\\nHaving ...</td>\n",
       "      <td>its simple i love it \\n having you near me hav...</td>\n",
       "    </tr>\n",
       "    <tr>\n",
       "      <th>51lPx6ZCSalL2kvSrDUyJc</th>\n",
       "      <td>\\n\\n[Intro: Whistling]\\n\\n[Verse 1]\\nA great b...</td>\n",
       "      <td>a great big bang and dinosaurs \\n fiery rainin...</td>\n",
       "    </tr>\n",
       "    <tr>\n",
       "      <th>3vqlZUIT3rEmLaYKDBfb4Q</th>\n",
       "      <td>\\n\\n[Verse 1]\\nIsn't she lovely\\nIsn't she won...</td>\n",
       "      <td>isnt she lovely \\n isnt she wonderful \\n isnt ...</td>\n",
       "    </tr>\n",
       "  </tbody>\n",
       "</table>\n",
       "</div>"
      ],
      "text/plain": [
       "                                                                   lyrics  \\\n",
       "track_id                                                                    \n",
       "0h7TlF8gKb61aSm874s3cV  \\n\\nIf your needle is near\\nNeedle is near\\nYo...   \n",
       "6koowTu9pFHPEcZnACLKbK  \\n\\n[Verse 1]\\nBrown skin girl on the other si...   \n",
       "1JkhKUXAoNivi87ipmV3rp  \\n\\n[Verse 1]\\nIt's simple, I love it\\nHaving ...   \n",
       "51lPx6ZCSalL2kvSrDUyJc  \\n\\n[Intro: Whistling]\\n\\n[Verse 1]\\nA great b...   \n",
       "3vqlZUIT3rEmLaYKDBfb4Q  \\n\\n[Verse 1]\\nIsn't she lovely\\nIsn't she won...   \n",
       "\n",
       "                                                             clean_lyrics  \n",
       "track_id                                                                   \n",
       "0h7TlF8gKb61aSm874s3cV  if your needle is near \\n needle is near \\n yo...  \n",
       "6koowTu9pFHPEcZnACLKbK  brown skin girl on the other side of the room ...  \n",
       "1JkhKUXAoNivi87ipmV3rp  its simple i love it \\n having you near me hav...  \n",
       "51lPx6ZCSalL2kvSrDUyJc  a great big bang and dinosaurs \\n fiery rainin...  \n",
       "3vqlZUIT3rEmLaYKDBfb4Q  isnt she lovely \\n isnt she wonderful \\n isnt ...  "
      ]
     },
     "execution_count": 13,
     "metadata": {},
     "output_type": "execute_result"
    }
   ],
   "source": [
    "lyric_df.head()"
   ]
  },
  {
   "cell_type": "code",
   "execution_count": 14,
   "metadata": {},
   "outputs": [
    {
     "name": "stderr",
     "output_type": "stream",
     "text": [
      "/opt/conda/lib/python3.6/site-packages/ipykernel_launcher.py:1: UserWarning:\n",
      "\n",
      "This pattern has match groups. To actually get the groups, use str.extract.\n",
      "\n"
     ]
    }
   ],
   "source": [
    "not_eng = lyric_df[lyric_df['clean_lyrics'].str.contains('(\\sdel\\s)|(\\sque\\s)|(\\svous\\s)|(\\setre\\s)')].index.tolist()"
   ]
  },
  {
   "cell_type": "code",
   "execution_count": 15,
   "metadata": {},
   "outputs": [],
   "source": [
    "lyric_df = lyric_df.drop(index=not_eng, axis=0)"
   ]
  },
  {
   "cell_type": "code",
   "execution_count": 16,
   "metadata": {},
   "outputs": [],
   "source": [
    "not_lyrics = lyric_df[lyric_df['clean_lyrics'].str.contains('lyrics for this song have yet')].index.tolist()"
   ]
  },
  {
   "cell_type": "code",
   "execution_count": 17,
   "metadata": {},
   "outputs": [],
   "source": [
    "lyric_df = lyric_df.drop(index=not_lyrics, axis=0)"
   ]
  },
  {
   "cell_type": "code",
   "execution_count": 23,
   "metadata": {},
   "outputs": [
    {
     "name": "stderr",
     "output_type": "stream",
     "text": [
      "/opt/conda/lib/python3.6/site-packages/ipykernel_launcher.py:1: UserWarning:\n",
      "\n",
      "This pattern has match groups. To actually get the groups, use str.extract.\n",
      "\n"
     ]
    }
   ],
   "source": [
    "long_gap = lyric_df[lyric_df['clean_lyrics'].str.contains(r'(\\s{6,})')].index.tolist()"
   ]
  },
  {
   "cell_type": "code",
   "execution_count": 24,
   "metadata": {},
   "outputs": [
    {
     "data": {
      "text/plain": [
       "41"
      ]
     },
     "execution_count": 24,
     "metadata": {},
     "output_type": "execute_result"
    }
   ],
   "source": [
    "len(long_gap)"
   ]
  },
  {
   "cell_type": "code",
   "execution_count": 26,
   "metadata": {},
   "outputs": [],
   "source": [
    "lyric_df = lyric_df.drop(index=long_gap, axis=0)"
   ]
  },
  {
   "cell_type": "code",
   "execution_count": 27,
   "metadata": {},
   "outputs": [
    {
     "data": {
      "text/html": [
       "<div>\n",
       "<style scoped>\n",
       "    .dataframe tbody tr th:only-of-type {\n",
       "        vertical-align: middle;\n",
       "    }\n",
       "\n",
       "    .dataframe tbody tr th {\n",
       "        vertical-align: top;\n",
       "    }\n",
       "\n",
       "    .dataframe thead th {\n",
       "        text-align: right;\n",
       "    }\n",
       "</style>\n",
       "<table border=\"1\" class=\"dataframe\">\n",
       "  <thead>\n",
       "    <tr style=\"text-align: right;\">\n",
       "      <th></th>\n",
       "      <th>lyrics</th>\n",
       "      <th>clean_lyrics</th>\n",
       "    </tr>\n",
       "    <tr>\n",
       "      <th>track_id</th>\n",
       "      <th></th>\n",
       "      <th></th>\n",
       "    </tr>\n",
       "  </thead>\n",
       "  <tbody>\n",
       "    <tr>\n",
       "      <th>0h7TlF8gKb61aSm874s3cV</th>\n",
       "      <td>\\n\\nIf your needle is near\\nNeedle is near\\nYo...</td>\n",
       "      <td>if your needle is near \\n needle is near \\n yo...</td>\n",
       "    </tr>\n",
       "    <tr>\n",
       "      <th>6koowTu9pFHPEcZnACLKbK</th>\n",
       "      <td>\\n\\n[Verse 1]\\nBrown skin girl on the other si...</td>\n",
       "      <td>brown skin girl on the other side of the room ...</td>\n",
       "    </tr>\n",
       "    <tr>\n",
       "      <th>1JkhKUXAoNivi87ipmV3rp</th>\n",
       "      <td>\\n\\n[Verse 1]\\nIt's simple, I love it\\nHaving ...</td>\n",
       "      <td>its simple i love it \\n having you near me hav...</td>\n",
       "    </tr>\n",
       "    <tr>\n",
       "      <th>51lPx6ZCSalL2kvSrDUyJc</th>\n",
       "      <td>\\n\\n[Intro: Whistling]\\n\\n[Verse 1]\\nA great b...</td>\n",
       "      <td>a great big bang and dinosaurs \\n fiery rainin...</td>\n",
       "    </tr>\n",
       "    <tr>\n",
       "      <th>3vqlZUIT3rEmLaYKDBfb4Q</th>\n",
       "      <td>\\n\\n[Verse 1]\\nIsn't she lovely\\nIsn't she won...</td>\n",
       "      <td>isnt she lovely \\n isnt she wonderful \\n isnt ...</td>\n",
       "    </tr>\n",
       "  </tbody>\n",
       "</table>\n",
       "</div>"
      ],
      "text/plain": [
       "                                                                   lyrics  \\\n",
       "track_id                                                                    \n",
       "0h7TlF8gKb61aSm874s3cV  \\n\\nIf your needle is near\\nNeedle is near\\nYo...   \n",
       "6koowTu9pFHPEcZnACLKbK  \\n\\n[Verse 1]\\nBrown skin girl on the other si...   \n",
       "1JkhKUXAoNivi87ipmV3rp  \\n\\n[Verse 1]\\nIt's simple, I love it\\nHaving ...   \n",
       "51lPx6ZCSalL2kvSrDUyJc  \\n\\n[Intro: Whistling]\\n\\n[Verse 1]\\nA great b...   \n",
       "3vqlZUIT3rEmLaYKDBfb4Q  \\n\\n[Verse 1]\\nIsn't she lovely\\nIsn't she won...   \n",
       "\n",
       "                                                             clean_lyrics  \n",
       "track_id                                                                   \n",
       "0h7TlF8gKb61aSm874s3cV  if your needle is near \\n needle is near \\n yo...  \n",
       "6koowTu9pFHPEcZnACLKbK  brown skin girl on the other side of the room ...  \n",
       "1JkhKUXAoNivi87ipmV3rp  its simple i love it \\n having you near me hav...  \n",
       "51lPx6ZCSalL2kvSrDUyJc  a great big bang and dinosaurs \\n fiery rainin...  \n",
       "3vqlZUIT3rEmLaYKDBfb4Q  isnt she lovely \\n isnt she wonderful \\n isnt ...  "
      ]
     },
     "execution_count": 27,
     "metadata": {},
     "output_type": "execute_result"
    }
   ],
   "source": [
    "lyric_df.head()"
   ]
  },
  {
   "cell_type": "code",
   "execution_count": 28,
   "metadata": {},
   "outputs": [
    {
     "data": {
      "text/html": [
       "<div>\n",
       "<style scoped>\n",
       "    .dataframe tbody tr th:only-of-type {\n",
       "        vertical-align: middle;\n",
       "    }\n",
       "\n",
       "    .dataframe tbody tr th {\n",
       "        vertical-align: top;\n",
       "    }\n",
       "\n",
       "    .dataframe thead th {\n",
       "        text-align: right;\n",
       "    }\n",
       "</style>\n",
       "<table border=\"1\" class=\"dataframe\">\n",
       "  <thead>\n",
       "    <tr style=\"text-align: right;\">\n",
       "      <th></th>\n",
       "      <th>lyrics</th>\n",
       "      <th>clean_lyrics</th>\n",
       "    </tr>\n",
       "  </thead>\n",
       "  <tbody>\n",
       "    <tr>\n",
       "      <th>count</th>\n",
       "      <td>1907</td>\n",
       "      <td>1907</td>\n",
       "    </tr>\n",
       "    <tr>\n",
       "      <th>unique</th>\n",
       "      <td>1792</td>\n",
       "      <td>1787</td>\n",
       "    </tr>\n",
       "    <tr>\n",
       "      <th>top</th>\n",
       "      <td>\\n\\n[Verse 1]\\nWhat would I do without your sm...</td>\n",
       "      <td></td>\n",
       "    </tr>\n",
       "    <tr>\n",
       "      <th>freq</th>\n",
       "      <td>4</td>\n",
       "      <td>6</td>\n",
       "    </tr>\n",
       "  </tbody>\n",
       "</table>\n",
       "</div>"
      ],
      "text/plain": [
       "                                                   lyrics clean_lyrics\n",
       "count                                                1907         1907\n",
       "unique                                               1792         1787\n",
       "top     \\n\\n[Verse 1]\\nWhat would I do without your sm...             \n",
       "freq                                                    4            6"
      ]
     },
     "execution_count": 28,
     "metadata": {},
     "output_type": "execute_result"
    }
   ],
   "source": [
    "lyric_df.describe()"
   ]
  },
  {
   "cell_type": "code",
   "execution_count": 29,
   "metadata": {},
   "outputs": [],
   "source": [
    "lyric_df = lyric_df.drop_duplicates(subset=['clean_lyrics'])"
   ]
  },
  {
   "cell_type": "code",
   "execution_count": 30,
   "metadata": {},
   "outputs": [
    {
     "data": {
      "text/html": [
       "<div>\n",
       "<style scoped>\n",
       "    .dataframe tbody tr th:only-of-type {\n",
       "        vertical-align: middle;\n",
       "    }\n",
       "\n",
       "    .dataframe tbody tr th {\n",
       "        vertical-align: top;\n",
       "    }\n",
       "\n",
       "    .dataframe thead th {\n",
       "        text-align: right;\n",
       "    }\n",
       "</style>\n",
       "<table border=\"1\" class=\"dataframe\">\n",
       "  <thead>\n",
       "    <tr style=\"text-align: right;\">\n",
       "      <th></th>\n",
       "      <th>lyrics</th>\n",
       "      <th>clean_lyrics</th>\n",
       "    </tr>\n",
       "  </thead>\n",
       "  <tbody>\n",
       "    <tr>\n",
       "      <th>count</th>\n",
       "      <td>1787</td>\n",
       "      <td>1787</td>\n",
       "    </tr>\n",
       "    <tr>\n",
       "      <th>unique</th>\n",
       "      <td>1787</td>\n",
       "      <td>1787</td>\n",
       "    </tr>\n",
       "    <tr>\n",
       "      <th>top</th>\n",
       "      <td>\\n\\n[Verse 1]\\nThere were nights when the wind...</td>\n",
       "      <td>look at me \\n you think that im tryin to fight...</td>\n",
       "    </tr>\n",
       "    <tr>\n",
       "      <th>freq</th>\n",
       "      <td>1</td>\n",
       "      <td>1</td>\n",
       "    </tr>\n",
       "  </tbody>\n",
       "</table>\n",
       "</div>"
      ],
      "text/plain": [
       "                                                   lyrics  \\\n",
       "count                                                1787   \n",
       "unique                                               1787   \n",
       "top     \\n\\n[Verse 1]\\nThere were nights when the wind...   \n",
       "freq                                                    1   \n",
       "\n",
       "                                             clean_lyrics  \n",
       "count                                                1787  \n",
       "unique                                               1787  \n",
       "top     look at me \\n you think that im tryin to fight...  \n",
       "freq                                                    1  "
      ]
     },
     "execution_count": 30,
     "metadata": {},
     "output_type": "execute_result"
    }
   ],
   "source": [
    "lyric_df.describe()"
   ]
  },
  {
   "cell_type": "code",
   "execution_count": null,
   "metadata": {},
   "outputs": [],
   "source": [
    "corpus = []\n",
    "words_track = []    \n",
    "lines_track = []\n",
    "\n",
    "for _, track in lyric_df[['clean_lyrics']].iterrows():\n",
    "    #words in full set\n",
    "    lyrics = track[0]\n",
    "    lyrics_spaced = re.sub(r'( +)', ' ', lyrics)\n",
    "    lyrics_split = lyrics_spaced.split(' ')\n",
    "    corpus.extend(lyrics_split)\n",
    "    \n",
    "    #lines in track\n",
    "    lines_split = lyrics_spaced.split('\\n')\n",
    "    lines_track.append(lines_split)\n",
    "    \n",
    "    #words in track w/o \\n \n",
    "    lyrics_spaced = re.sub(r'\\n ', '', lyrics_spaced)\n",
    "    lyrics_split = lyrics_spaced.split(' ')\n",
    "    words_track.append(lyrics_split)"
   ]
  },
  {
   "cell_type": "code",
   "execution_count": null,
   "metadata": {},
   "outputs": [],
   "source": [
    "vocab = set(list(corpus))"
   ]
  },
  {
   "cell_type": "code",
   "execution_count": null,
   "metadata": {},
   "outputs": [],
   "source": [
    "len(vocab)"
   ]
  },
  {
   "cell_type": "code",
   "execution_count": null,
   "metadata": {},
   "outputs": [],
   "source": [
    "count_words_track = []\n",
    "for i in words_track:\n",
    "    count_words_track.append(len(i))"
   ]
  },
  {
   "cell_type": "code",
   "execution_count": null,
   "metadata": {},
   "outputs": [],
   "source": [
    "len(count_words_track)"
   ]
  },
  {
   "cell_type": "code",
   "execution_count": null,
   "metadata": {},
   "outputs": [],
   "source": [
    "lyric_df['total_words_track'] = count_words_track"
   ]
  },
  {
   "cell_type": "code",
   "execution_count": null,
   "metadata": {},
   "outputs": [],
   "source": [
    "lyric_df.head()"
   ]
  },
  {
   "cell_type": "code",
   "execution_count": null,
   "metadata": {},
   "outputs": [],
   "source": [
    "unique_words_track = []\n",
    "for track in words_track:\n",
    "    unique_words_track.append(set(track))"
   ]
  },
  {
   "cell_type": "code",
   "execution_count": null,
   "metadata": {},
   "outputs": [],
   "source": [
    "count_unique_words_track = []\n",
    "for track in unique_words_track:\n",
    "    count_unique_words_track.append(len(track))"
   ]
  },
  {
   "cell_type": "code",
   "execution_count": null,
   "metadata": {},
   "outputs": [],
   "source": [
    "lyric_df['unique_words_track'] = count_unique_words_track"
   ]
  },
  {
   "cell_type": "code",
   "execution_count": null,
   "metadata": {},
   "outputs": [],
   "source": [
    "lyric_df.head()"
   ]
  },
  {
   "cell_type": "code",
   "execution_count": null,
   "metadata": {},
   "outputs": [],
   "source": [
    "np.mean(count_words_track)"
   ]
  },
  {
   "cell_type": "code",
   "execution_count": null,
   "metadata": {},
   "outputs": [],
   "source": [
    "len_words_track = []\n",
    "for i in words_track:\n",
    "    len_words = []\n",
    "    for word in i:\n",
    "        len_words.append(len(word))\n",
    "    len_words_track.append(np.mean(len_words))"
   ]
  },
  {
   "cell_type": "code",
   "execution_count": null,
   "metadata": {},
   "outputs": [],
   "source": [
    "np.mean(len_words_track)"
   ]
  },
  {
   "cell_type": "code",
   "execution_count": null,
   "metadata": {},
   "outputs": [],
   "source": [
    "lyric_df['total_lines_track'] = count_lines_track"
   ]
  },
  {
   "cell_type": "code",
   "execution_count": null,
   "metadata": {},
   "outputs": [],
   "source": [
    "unique_lines_track = []\n",
    "for track in lines_track:\n",
    "    unique_lines_track.append(set(track))"
   ]
  },
  {
   "cell_type": "code",
   "execution_count": null,
   "metadata": {},
   "outputs": [],
   "source": [
    "count_unique_lines_track = []\n",
    "for track in unique_lines_track:\n",
    "    count_unique_lines_track.append(len(track))"
   ]
  },
  {
   "cell_type": "code",
   "execution_count": null,
   "metadata": {},
   "outputs": [],
   "source": [
    "lyric_df['unique_lines_track'] = count_unique_lines_track"
   ]
  },
  {
   "cell_type": "code",
   "execution_count": null,
   "metadata": {},
   "outputs": [],
   "source": [
    "lyric_df.head()"
   ]
  },
  {
   "cell_type": "code",
   "execution_count": null,
   "metadata": {},
   "outputs": [],
   "source": [
    "count_lines_track = []\n",
    "for i in lines_track:\n",
    "    count_lines_track.append(len(i))"
   ]
  },
  {
   "cell_type": "code",
   "execution_count": null,
   "metadata": {},
   "outputs": [],
   "source": [
    "np.mean(count_lines_track)"
   ]
  },
  {
   "cell_type": "code",
   "execution_count": null,
   "metadata": {},
   "outputs": [],
   "source": [
    "len_word = 0\n",
    "for word in vocab:\n",
    "    len_word += len(word)"
   ]
  },
  {
   "cell_type": "code",
   "execution_count": null,
   "metadata": {},
   "outputs": [],
   "source": [
    "mean_len_word = len_word / len(vocab)\n",
    "mean_len_word"
   ]
  },
  {
   "cell_type": "code",
   "execution_count": null,
   "metadata": {},
   "outputs": [],
   "source": [
    "lines_track[:2]"
   ]
  },
  {
   "cell_type": "code",
   "execution_count": null,
   "metadata": {},
   "outputs": [],
   "source": [
    "mean_words_line = []\n",
    "for track in lines_track:\n",
    "    words_line = []\n",
    "    for line in track:\n",
    "        words_line.append(len(line.split(' ')))\n",
    "    mean_words_line.append(np.around(np.mean(words_line),1))"
   ]
  },
  {
   "cell_type": "code",
   "execution_count": null,
   "metadata": {},
   "outputs": [],
   "source": [
    "mean_words_line"
   ]
  },
  {
   "cell_type": "code",
   "execution_count": null,
   "metadata": {},
   "outputs": [],
   "source": [
    "words_line = []\n",
    "for _, line in eda_df[['line']].iterrows():\n",
    "    line = line[0].split(' ')\n",
    "    words_line.append(line) "
   ]
  },
  {
   "cell_type": "code",
   "execution_count": null,
   "metadata": {},
   "outputs": [],
   "source": [
    "count_words_line = []\n",
    "[count_words_line.append(len(words)) for words in words_line]\n",
    "mean_words_line = np.mean(count_words_line)"
   ]
  },
  {
   "cell_type": "code",
   "execution_count": null,
   "metadata": {},
   "outputs": [],
   "source": [
    "mean_words_line"
   ]
  },
  {
   "cell_type": "code",
   "execution_count": null,
   "metadata": {},
   "outputs": [],
   "source": [
    "plt.hist(count_lines_track, range=(0, 125));"
   ]
  },
  {
   "cell_type": "code",
   "execution_count": null,
   "metadata": {},
   "outputs": [],
   "source": [
    "plt.hist(count_words_track, range=(0, 1000));"
   ]
  },
  {
   "cell_type": "code",
   "execution_count": null,
   "metadata": {},
   "outputs": [],
   "source": [
    "plt.hist(count_words_line, range=(0,20));"
   ]
  },
  {
   "cell_type": "code",
   "execution_count": null,
   "metadata": {},
   "outputs": [],
   "source": [
    "plt.hist(len_words_track);"
   ]
  },
  {
   "cell_type": "code",
   "execution_count": null,
   "metadata": {},
   "outputs": [],
   "source": [
    "trace = go.histogram(x=words_line)\n",
    "data = trace\n",
    "py.iplot([trace])"
   ]
  },
  {
   "cell_type": "code",
   "execution_count": 31,
   "metadata": {},
   "outputs": [],
   "source": [
    "# formatted_name, now, file_description= filename_format_log(file_path = '../assets/clean_lyrics.csv')\n",
    "\n",
    "# lyric_df.to_csv(formatted_name, index=False)"
   ]
  },
  {
   "cell_type": "code",
   "execution_count": 32,
   "metadata": {},
   "outputs": [],
   "source": [
    "eda_df = pd.DataFrame(columns=['id', 'line', 'line_num', 'tag'])\n",
    "\n",
    "for idx, track in lyric_df[['lyrics']].iterrows():\n",
    "    track = re.sub('(\\[[^\\]]+\\]\\\\n\\\\n)', '', track[0]) #removes tags without lyrics\n",
    "    track = re.sub('\\[[^\\[]+(:[^\\]]+)\\]', '', track) #removes all text after :\n",
    "    track = re.sub('\\[[^\\[]+(–[^\\]]+)|\\[[^\\[]+(-\\s[^\\]]+)\\]', '', track) #removes all after –\n",
    "    track = re.sub('\\[[^\\[]+(\\(([^\\]]+))\\]', '', track) #removes all after ()\n",
    "    track = re.sub('(^|)(\\[Ad-Libs\\])|(\\[Keisha\\])|(\\[Shane Powers\\])', '', track) #removes artist and non-standard tags\n",
    "    track = re.sub('(^|)(\\[Break\\])|(\\[Vocals / Lyrics By\\])|(\\[Skit\\])', '', track) #removes artist and non-standard tags\n",
    "    \n",
    "    tags = re.findall('(\\[[^\\]]+\\])', track) #finds all tags\n",
    "    track = re.sub('(\\[[^\\]]+\\])', '', track) #removes all tags\n",
    "              \n",
    "    track = track.strip().split('\\n\\n') \n",
    "    track_split = [verse.strip().split('\\n') for verse in track] \n",
    "    \n",
    "    v_count = len(track_split)\n",
    "\n",
    "    for i in range(v_count):\n",
    "        if len(tags) == v_count:\n",
    "            tag = tags[i]\n",
    "        else:\n",
    "            tag = f'[verse {(i+1)}]'\n",
    "        \n",
    "        for j, line in enumerate(track_split[i]):\n",
    "            index = 1\n",
    "            \n",
    "            row = {\n",
    "            'id': idx,\n",
    "            'line':line,\n",
    "            'line_num':(j+1),\n",
    "            'tag': tag.lower()\n",
    "            }\n",
    "            \n",
    "            eda_df = eda_df.append(row, ignore_index=True)"
   ]
  },
  {
   "cell_type": "code",
   "execution_count": 33,
   "metadata": {},
   "outputs": [
    {
     "data": {
      "text/html": [
       "<div>\n",
       "<style scoped>\n",
       "    .dataframe tbody tr th:only-of-type {\n",
       "        vertical-align: middle;\n",
       "    }\n",
       "\n",
       "    .dataframe tbody tr th {\n",
       "        vertical-align: top;\n",
       "    }\n",
       "\n",
       "    .dataframe thead th {\n",
       "        text-align: right;\n",
       "    }\n",
       "</style>\n",
       "<table border=\"1\" class=\"dataframe\">\n",
       "  <thead>\n",
       "    <tr style=\"text-align: right;\">\n",
       "      <th></th>\n",
       "      <th>id</th>\n",
       "      <th>line</th>\n",
       "      <th>line_num</th>\n",
       "      <th>tag</th>\n",
       "    </tr>\n",
       "  </thead>\n",
       "  <tbody>\n",
       "    <tr>\n",
       "      <th>0</th>\n",
       "      <td>0h7TlF8gKb61aSm874s3cV</td>\n",
       "      <td>If your needle is near</td>\n",
       "      <td>1</td>\n",
       "      <td>[verse 1]</td>\n",
       "    </tr>\n",
       "    <tr>\n",
       "      <th>1</th>\n",
       "      <td>0h7TlF8gKb61aSm874s3cV</td>\n",
       "      <td>Needle is near</td>\n",
       "      <td>2</td>\n",
       "      <td>[verse 1]</td>\n",
       "    </tr>\n",
       "    <tr>\n",
       "      <th>2</th>\n",
       "      <td>0h7TlF8gKb61aSm874s3cV</td>\n",
       "      <td>You can take my blood</td>\n",
       "      <td>3</td>\n",
       "      <td>[verse 1]</td>\n",
       "    </tr>\n",
       "    <tr>\n",
       "      <th>3</th>\n",
       "      <td>0h7TlF8gKb61aSm874s3cV</td>\n",
       "      <td>Oh I saved it for you</td>\n",
       "      <td>4</td>\n",
       "      <td>[verse 1]</td>\n",
       "    </tr>\n",
       "    <tr>\n",
       "      <th>4</th>\n",
       "      <td>0h7TlF8gKb61aSm874s3cV</td>\n",
       "      <td>Hundreds of drops</td>\n",
       "      <td>5</td>\n",
       "      <td>[verse 1]</td>\n",
       "    </tr>\n",
       "    <tr>\n",
       "      <th>5</th>\n",
       "      <td>0h7TlF8gKb61aSm874s3cV</td>\n",
       "      <td>Running red</td>\n",
       "      <td>6</td>\n",
       "      <td>[verse 1]</td>\n",
       "    </tr>\n",
       "    <tr>\n",
       "      <th>6</th>\n",
       "      <td>0h7TlF8gKb61aSm874s3cV</td>\n",
       "      <td>Needle is near</td>\n",
       "      <td>1</td>\n",
       "      <td>[verse 2]</td>\n",
       "    </tr>\n",
       "    <tr>\n",
       "      <th>7</th>\n",
       "      <td>0h7TlF8gKb61aSm874s3cV</td>\n",
       "      <td>You can take my blood</td>\n",
       "      <td>2</td>\n",
       "      <td>[verse 2]</td>\n",
       "    </tr>\n",
       "    <tr>\n",
       "      <th>8</th>\n",
       "      <td>0h7TlF8gKb61aSm874s3cV</td>\n",
       "      <td>Oh I saved it for you</td>\n",
       "      <td>3</td>\n",
       "      <td>[verse 2]</td>\n",
       "    </tr>\n",
       "    <tr>\n",
       "      <th>9</th>\n",
       "      <td>0h7TlF8gKb61aSm874s3cV</td>\n",
       "      <td>Hundreds of drops</td>\n",
       "      <td>4</td>\n",
       "      <td>[verse 2]</td>\n",
       "    </tr>\n",
       "    <tr>\n",
       "      <th>10</th>\n",
       "      <td>0h7TlF8gKb61aSm874s3cV</td>\n",
       "      <td>Running red</td>\n",
       "      <td>5</td>\n",
       "      <td>[verse 2]</td>\n",
       "    </tr>\n",
       "    <tr>\n",
       "      <th>11</th>\n",
       "      <td>0h7TlF8gKb61aSm874s3cV</td>\n",
       "      <td>Needle is near</td>\n",
       "      <td>6</td>\n",
       "      <td>[verse 2]</td>\n",
       "    </tr>\n",
       "    <tr>\n",
       "      <th>12</th>\n",
       "      <td>0h7TlF8gKb61aSm874s3cV</td>\n",
       "      <td>Oh I saved it for you</td>\n",
       "      <td>7</td>\n",
       "      <td>[verse 2]</td>\n",
       "    </tr>\n",
       "    <tr>\n",
       "      <th>13</th>\n",
       "      <td>0h7TlF8gKb61aSm874s3cV</td>\n",
       "      <td>Hundreds of drops</td>\n",
       "      <td>8</td>\n",
       "      <td>[verse 2]</td>\n",
       "    </tr>\n",
       "    <tr>\n",
       "      <th>14</th>\n",
       "      <td>0h7TlF8gKb61aSm874s3cV</td>\n",
       "      <td>Running red</td>\n",
       "      <td>9</td>\n",
       "      <td>[verse 2]</td>\n",
       "    </tr>\n",
       "    <tr>\n",
       "      <th>15</th>\n",
       "      <td>6koowTu9pFHPEcZnACLKbK</td>\n",
       "      <td>Brown skin girl on the other side of the room</td>\n",
       "      <td>1</td>\n",
       "      <td>[verse 1]</td>\n",
       "    </tr>\n",
       "    <tr>\n",
       "      <th>16</th>\n",
       "      <td>6koowTu9pFHPEcZnACLKbK</td>\n",
       "      <td>Brown skin girl staring with her brown eyes</td>\n",
       "      <td>2</td>\n",
       "      <td>[verse 1]</td>\n",
       "    </tr>\n",
       "    <tr>\n",
       "      <th>17</th>\n",
       "      <td>6koowTu9pFHPEcZnACLKbK</td>\n",
       "      <td>Ooh, baby, don't you know you're a cutie pie?</td>\n",
       "      <td>3</td>\n",
       "      <td>[verse 1]</td>\n",
       "    </tr>\n",
       "    <tr>\n",
       "      <th>18</th>\n",
       "      <td>6koowTu9pFHPEcZnACLKbK</td>\n",
       "      <td>Princess, little honey with the polka-dot dres...</td>\n",
       "      <td>1</td>\n",
       "      <td>[chorus]</td>\n",
       "    </tr>\n",
       "    <tr>\n",
       "      <th>19</th>\n",
       "      <td>6koowTu9pFHPEcZnACLKbK</td>\n",
       "      <td>Ruby-lipped lady whose name I don't know</td>\n",
       "      <td>2</td>\n",
       "      <td>[chorus]</td>\n",
       "    </tr>\n",
       "    <tr>\n",
       "      <th>20</th>\n",
       "      <td>6koowTu9pFHPEcZnACLKbK</td>\n",
       "      <td>Let me tell you, darling</td>\n",
       "      <td>3</td>\n",
       "      <td>[chorus]</td>\n",
       "    </tr>\n",
       "    <tr>\n",
       "      <th>21</th>\n",
       "      <td>6koowTu9pFHPEcZnACLKbK</td>\n",
       "      <td>Ooh ooh ooh</td>\n",
       "      <td>4</td>\n",
       "      <td>[chorus]</td>\n",
       "    </tr>\n",
       "    <tr>\n",
       "      <th>22</th>\n",
       "      <td>6koowTu9pFHPEcZnACLKbK</td>\n",
       "      <td>Ooh whoo-ooh</td>\n",
       "      <td>5</td>\n",
       "      <td>[chorus]</td>\n",
       "    </tr>\n",
       "    <tr>\n",
       "      <th>23</th>\n",
       "      <td>6koowTu9pFHPEcZnACLKbK</td>\n",
       "      <td>Ooh ooh ooh</td>\n",
       "      <td>6</td>\n",
       "      <td>[chorus]</td>\n",
       "    </tr>\n",
       "    <tr>\n",
       "      <th>24</th>\n",
       "      <td>6koowTu9pFHPEcZnACLKbK</td>\n",
       "      <td>Ooh whoo-ooh, OK</td>\n",
       "      <td>7</td>\n",
       "      <td>[chorus]</td>\n",
       "    </tr>\n",
       "    <tr>\n",
       "      <th>25</th>\n",
       "      <td>6koowTu9pFHPEcZnACLKbK</td>\n",
       "      <td>Brown skin girl with the white pearls 'round h...</td>\n",
       "      <td>1</td>\n",
       "      <td>[verse 2]</td>\n",
       "    </tr>\n",
       "    <tr>\n",
       "      <th>26</th>\n",
       "      <td>6koowTu9pFHPEcZnACLKbK</td>\n",
       "      <td>Brown skin girl, let me hold you close under t...</td>\n",
       "      <td>2</td>\n",
       "      <td>[verse 2]</td>\n",
       "    </tr>\n",
       "    <tr>\n",
       "      <th>27</th>\n",
       "      <td>6koowTu9pFHPEcZnACLKbK</td>\n",
       "      <td>Cause baby, I'm ready and you know that I'm wa...</td>\n",
       "      <td>3</td>\n",
       "      <td>[verse 2]</td>\n",
       "    </tr>\n",
       "    <tr>\n",
       "      <th>28</th>\n",
       "      <td>6koowTu9pFHPEcZnACLKbK</td>\n",
       "      <td>Princess, little honey with the polka-dot dres...</td>\n",
       "      <td>1</td>\n",
       "      <td>[chorus]</td>\n",
       "    </tr>\n",
       "    <tr>\n",
       "      <th>29</th>\n",
       "      <td>6koowTu9pFHPEcZnACLKbK</td>\n",
       "      <td>Ruby-lipped lady whose name I don't know</td>\n",
       "      <td>2</td>\n",
       "      <td>[chorus]</td>\n",
       "    </tr>\n",
       "    <tr>\n",
       "      <th>...</th>\n",
       "      <td>...</td>\n",
       "      <td>...</td>\n",
       "      <td>...</td>\n",
       "      <td>...</td>\n",
       "    </tr>\n",
       "    <tr>\n",
       "      <th>70619</th>\n",
       "      <td>6PGoSes0D9eUDeeAafB2As</td>\n",
       "      <td>We ain't got no time to waste</td>\n",
       "      <td>2</td>\n",
       "      <td>[verse 5]</td>\n",
       "    </tr>\n",
       "    <tr>\n",
       "      <th>70620</th>\n",
       "      <td>6PGoSes0D9eUDeeAafB2As</td>\n",
       "      <td>Poppin' your gum on the way (love me)</td>\n",
       "      <td>3</td>\n",
       "      <td>[verse 5]</td>\n",
       "    </tr>\n",
       "    <tr>\n",
       "      <th>70621</th>\n",
       "      <td>6PGoSes0D9eUDeeAafB2As</td>\n",
       "      <td>Am I in the way?</td>\n",
       "      <td>4</td>\n",
       "      <td>[verse 5]</td>\n",
       "    </tr>\n",
       "    <tr>\n",
       "      <th>70622</th>\n",
       "      <td>6PGoSes0D9eUDeeAafB2As</td>\n",
       "      <td>I don't wan' pressure you none</td>\n",
       "      <td>5</td>\n",
       "      <td>[verse 5]</td>\n",
       "    </tr>\n",
       "    <tr>\n",
       "      <th>70623</th>\n",
       "      <td>6PGoSes0D9eUDeeAafB2As</td>\n",
       "      <td>I want your blessing today (love me)</td>\n",
       "      <td>6</td>\n",
       "      <td>[verse 5]</td>\n",
       "    </tr>\n",
       "    <tr>\n",
       "      <th>70624</th>\n",
       "      <td>6PGoSes0D9eUDeeAafB2As</td>\n",
       "      <td>Oh, by the way, open the door by the way</td>\n",
       "      <td>7</td>\n",
       "      <td>[verse 5]</td>\n",
       "    </tr>\n",
       "    <tr>\n",
       "      <th>70625</th>\n",
       "      <td>6PGoSes0D9eUDeeAafB2As</td>\n",
       "      <td>Told you that I'm on the way (love me)</td>\n",
       "      <td>8</td>\n",
       "      <td>[verse 5]</td>\n",
       "    </tr>\n",
       "    <tr>\n",
       "      <th>70626</th>\n",
       "      <td>6PGoSes0D9eUDeeAafB2As</td>\n",
       "      <td>I'm on the way, I know connection is vague</td>\n",
       "      <td>9</td>\n",
       "      <td>[verse 5]</td>\n",
       "    </tr>\n",
       "    <tr>\n",
       "      <th>70627</th>\n",
       "      <td>6PGoSes0D9eUDeeAafB2As</td>\n",
       "      <td>Pick up the phone for me, babe</td>\n",
       "      <td>10</td>\n",
       "      <td>[verse 5]</td>\n",
       "    </tr>\n",
       "    <tr>\n",
       "      <th>70628</th>\n",
       "      <td>6PGoSes0D9eUDeeAafB2As</td>\n",
       "      <td>Dammit, we jammin'</td>\n",
       "      <td>11</td>\n",
       "      <td>[verse 5]</td>\n",
       "    </tr>\n",
       "    <tr>\n",
       "      <th>70629</th>\n",
       "      <td>6PGoSes0D9eUDeeAafB2As</td>\n",
       "      <td>Bad attitude from yo' nanny</td>\n",
       "      <td>12</td>\n",
       "      <td>[verse 5]</td>\n",
       "    </tr>\n",
       "    <tr>\n",
       "      <th>70630</th>\n",
       "      <td>6PGoSes0D9eUDeeAafB2As</td>\n",
       "      <td>Curves and your hips from yo' mammy</td>\n",
       "      <td>13</td>\n",
       "      <td>[verse 5]</td>\n",
       "    </tr>\n",
       "    <tr>\n",
       "      <th>70631</th>\n",
       "      <td>6PGoSes0D9eUDeeAafB2As</td>\n",
       "      <td>Remember Gardena, I took the studio camera</td>\n",
       "      <td>14</td>\n",
       "      <td>[verse 5]</td>\n",
       "    </tr>\n",
       "    <tr>\n",
       "      <th>70632</th>\n",
       "      <td>6PGoSes0D9eUDeeAafB2As</td>\n",
       "      <td>I know Top will be mad at me</td>\n",
       "      <td>15</td>\n",
       "      <td>[verse 5]</td>\n",
       "    </tr>\n",
       "    <tr>\n",
       "      <th>70633</th>\n",
       "      <td>6PGoSes0D9eUDeeAafB2As</td>\n",
       "      <td>I had to do it, I want your body, your music</td>\n",
       "      <td>16</td>\n",
       "      <td>[verse 5]</td>\n",
       "    </tr>\n",
       "    <tr>\n",
       "      <th>70634</th>\n",
       "      <td>6PGoSes0D9eUDeeAafB2As</td>\n",
       "      <td>I bought the big one to prove it</td>\n",
       "      <td>17</td>\n",
       "      <td>[verse 5]</td>\n",
       "    </tr>\n",
       "    <tr>\n",
       "      <th>70635</th>\n",
       "      <td>6PGoSes0D9eUDeeAafB2As</td>\n",
       "      <td>Look what you made</td>\n",
       "      <td>18</td>\n",
       "      <td>[verse 5]</td>\n",
       "    </tr>\n",
       "    <tr>\n",
       "      <th>70636</th>\n",
       "      <td>6PGoSes0D9eUDeeAafB2As</td>\n",
       "      <td>Told you that I'm on the way</td>\n",
       "      <td>19</td>\n",
       "      <td>[verse 5]</td>\n",
       "    </tr>\n",
       "    <tr>\n",
       "      <th>70637</th>\n",
       "      <td>6PGoSes0D9eUDeeAafB2As</td>\n",
       "      <td>I'm like a exit away, yep</td>\n",
       "      <td>20</td>\n",
       "      <td>[verse 5]</td>\n",
       "    </tr>\n",
       "    <tr>\n",
       "      <th>70638</th>\n",
       "      <td>6PGoSes0D9eUDeeAafB2As</td>\n",
       "      <td>Give me a run for my money</td>\n",
       "      <td>1</td>\n",
       "      <td>[verse 6]</td>\n",
       "    </tr>\n",
       "    <tr>\n",
       "      <th>70639</th>\n",
       "      <td>6PGoSes0D9eUDeeAafB2As</td>\n",
       "      <td>There is nobody, no one to outrun me</td>\n",
       "      <td>2</td>\n",
       "      <td>[verse 6]</td>\n",
       "    </tr>\n",
       "    <tr>\n",
       "      <th>70640</th>\n",
       "      <td>6PGoSes0D9eUDeeAafB2As</td>\n",
       "      <td>So give me a run for my money</td>\n",
       "      <td>3</td>\n",
       "      <td>[verse 6]</td>\n",
       "    </tr>\n",
       "    <tr>\n",
       "      <th>70641</th>\n",
       "      <td>6PGoSes0D9eUDeeAafB2As</td>\n",
       "      <td>Sippin' bubbly, feelin' lovely, livin' lovely</td>\n",
       "      <td>4</td>\n",
       "      <td>[verse 6]</td>\n",
       "    </tr>\n",
       "    <tr>\n",
       "      <th>70642</th>\n",
       "      <td>6PGoSes0D9eUDeeAafB2As</td>\n",
       "      <td>Just love me</td>\n",
       "      <td>5</td>\n",
       "      <td>[verse 6]</td>\n",
       "    </tr>\n",
       "    <tr>\n",
       "      <th>70643</th>\n",
       "      <td>6PGoSes0D9eUDeeAafB2As</td>\n",
       "      <td>I wanna be with you, ayy, I wanna be with</td>\n",
       "      <td>6</td>\n",
       "      <td>[verse 6]</td>\n",
       "    </tr>\n",
       "    <tr>\n",
       "      <th>70644</th>\n",
       "      <td>6PGoSes0D9eUDeeAafB2As</td>\n",
       "      <td>Just love me, just love me, just love me</td>\n",
       "      <td>7</td>\n",
       "      <td>[verse 6]</td>\n",
       "    </tr>\n",
       "    <tr>\n",
       "      <th>70645</th>\n",
       "      <td>6PGoSes0D9eUDeeAafB2As</td>\n",
       "      <td>I wanna be with you, ayy, I wanna be with</td>\n",
       "      <td>8</td>\n",
       "      <td>[verse 6]</td>\n",
       "    </tr>\n",
       "    <tr>\n",
       "      <th>70646</th>\n",
       "      <td>6PGoSes0D9eUDeeAafB2As</td>\n",
       "      <td>Love me</td>\n",
       "      <td>9</td>\n",
       "      <td>[verse 6]</td>\n",
       "    </tr>\n",
       "    <tr>\n",
       "      <th>70647</th>\n",
       "      <td>6PGoSes0D9eUDeeAafB2As</td>\n",
       "      <td>I wanna be with you</td>\n",
       "      <td>10</td>\n",
       "      <td>[verse 6]</td>\n",
       "    </tr>\n",
       "    <tr>\n",
       "      <th>70648</th>\n",
       "      <td>6PGoSes0D9eUDeeAafB2As</td>\n",
       "      <td>Love me, just love me</td>\n",
       "      <td>11</td>\n",
       "      <td>[verse 6]</td>\n",
       "    </tr>\n",
       "  </tbody>\n",
       "</table>\n",
       "<p>70649 rows × 4 columns</p>\n",
       "</div>"
      ],
      "text/plain": [
       "                           id  \\\n",
       "0      0h7TlF8gKb61aSm874s3cV   \n",
       "1      0h7TlF8gKb61aSm874s3cV   \n",
       "2      0h7TlF8gKb61aSm874s3cV   \n",
       "3      0h7TlF8gKb61aSm874s3cV   \n",
       "4      0h7TlF8gKb61aSm874s3cV   \n",
       "5      0h7TlF8gKb61aSm874s3cV   \n",
       "6      0h7TlF8gKb61aSm874s3cV   \n",
       "7      0h7TlF8gKb61aSm874s3cV   \n",
       "8      0h7TlF8gKb61aSm874s3cV   \n",
       "9      0h7TlF8gKb61aSm874s3cV   \n",
       "10     0h7TlF8gKb61aSm874s3cV   \n",
       "11     0h7TlF8gKb61aSm874s3cV   \n",
       "12     0h7TlF8gKb61aSm874s3cV   \n",
       "13     0h7TlF8gKb61aSm874s3cV   \n",
       "14     0h7TlF8gKb61aSm874s3cV   \n",
       "15     6koowTu9pFHPEcZnACLKbK   \n",
       "16     6koowTu9pFHPEcZnACLKbK   \n",
       "17     6koowTu9pFHPEcZnACLKbK   \n",
       "18     6koowTu9pFHPEcZnACLKbK   \n",
       "19     6koowTu9pFHPEcZnACLKbK   \n",
       "20     6koowTu9pFHPEcZnACLKbK   \n",
       "21     6koowTu9pFHPEcZnACLKbK   \n",
       "22     6koowTu9pFHPEcZnACLKbK   \n",
       "23     6koowTu9pFHPEcZnACLKbK   \n",
       "24     6koowTu9pFHPEcZnACLKbK   \n",
       "25     6koowTu9pFHPEcZnACLKbK   \n",
       "26     6koowTu9pFHPEcZnACLKbK   \n",
       "27     6koowTu9pFHPEcZnACLKbK   \n",
       "28     6koowTu9pFHPEcZnACLKbK   \n",
       "29     6koowTu9pFHPEcZnACLKbK   \n",
       "...                       ...   \n",
       "70619  6PGoSes0D9eUDeeAafB2As   \n",
       "70620  6PGoSes0D9eUDeeAafB2As   \n",
       "70621  6PGoSes0D9eUDeeAafB2As   \n",
       "70622  6PGoSes0D9eUDeeAafB2As   \n",
       "70623  6PGoSes0D9eUDeeAafB2As   \n",
       "70624  6PGoSes0D9eUDeeAafB2As   \n",
       "70625  6PGoSes0D9eUDeeAafB2As   \n",
       "70626  6PGoSes0D9eUDeeAafB2As   \n",
       "70627  6PGoSes0D9eUDeeAafB2As   \n",
       "70628  6PGoSes0D9eUDeeAafB2As   \n",
       "70629  6PGoSes0D9eUDeeAafB2As   \n",
       "70630  6PGoSes0D9eUDeeAafB2As   \n",
       "70631  6PGoSes0D9eUDeeAafB2As   \n",
       "70632  6PGoSes0D9eUDeeAafB2As   \n",
       "70633  6PGoSes0D9eUDeeAafB2As   \n",
       "70634  6PGoSes0D9eUDeeAafB2As   \n",
       "70635  6PGoSes0D9eUDeeAafB2As   \n",
       "70636  6PGoSes0D9eUDeeAafB2As   \n",
       "70637  6PGoSes0D9eUDeeAafB2As   \n",
       "70638  6PGoSes0D9eUDeeAafB2As   \n",
       "70639  6PGoSes0D9eUDeeAafB2As   \n",
       "70640  6PGoSes0D9eUDeeAafB2As   \n",
       "70641  6PGoSes0D9eUDeeAafB2As   \n",
       "70642  6PGoSes0D9eUDeeAafB2As   \n",
       "70643  6PGoSes0D9eUDeeAafB2As   \n",
       "70644  6PGoSes0D9eUDeeAafB2As   \n",
       "70645  6PGoSes0D9eUDeeAafB2As   \n",
       "70646  6PGoSes0D9eUDeeAafB2As   \n",
       "70647  6PGoSes0D9eUDeeAafB2As   \n",
       "70648  6PGoSes0D9eUDeeAafB2As   \n",
       "\n",
       "                                                    line line_num        tag  \n",
       "0                                 If your needle is near        1  [verse 1]  \n",
       "1                                         Needle is near        2  [verse 1]  \n",
       "2                                  You can take my blood        3  [verse 1]  \n",
       "3                                  Oh I saved it for you        4  [verse 1]  \n",
       "4                                      Hundreds of drops        5  [verse 1]  \n",
       "5                                            Running red        6  [verse 1]  \n",
       "6                                         Needle is near        1  [verse 2]  \n",
       "7                                  You can take my blood        2  [verse 2]  \n",
       "8                                  Oh I saved it for you        3  [verse 2]  \n",
       "9                                      Hundreds of drops        4  [verse 2]  \n",
       "10                                           Running red        5  [verse 2]  \n",
       "11                                        Needle is near        6  [verse 2]  \n",
       "12                                 Oh I saved it for you        7  [verse 2]  \n",
       "13                                     Hundreds of drops        8  [verse 2]  \n",
       "14                                           Running red        9  [verse 2]  \n",
       "15         Brown skin girl on the other side of the room        1  [verse 1]  \n",
       "16           Brown skin girl staring with her brown eyes        2  [verse 1]  \n",
       "17         Ooh, baby, don't you know you're a cutie pie?        3  [verse 1]  \n",
       "18     Princess, little honey with the polka-dot dres...        1   [chorus]  \n",
       "19              Ruby-lipped lady whose name I don't know        2   [chorus]  \n",
       "20                              Let me tell you, darling        3   [chorus]  \n",
       "21                                           Ooh ooh ooh        4   [chorus]  \n",
       "22                                          Ooh whoo-ooh        5   [chorus]  \n",
       "23                                           Ooh ooh ooh        6   [chorus]  \n",
       "24                                      Ooh whoo-ooh, OK        7   [chorus]  \n",
       "25     Brown skin girl with the white pearls 'round h...        1  [verse 2]  \n",
       "26     Brown skin girl, let me hold you close under t...        2  [verse 2]  \n",
       "27     Cause baby, I'm ready and you know that I'm wa...        3  [verse 2]  \n",
       "28     Princess, little honey with the polka-dot dres...        1   [chorus]  \n",
       "29              Ruby-lipped lady whose name I don't know        2   [chorus]  \n",
       "...                                                  ...      ...        ...  \n",
       "70619                      We ain't got no time to waste        2  [verse 5]  \n",
       "70620              Poppin' your gum on the way (love me)        3  [verse 5]  \n",
       "70621                                   Am I in the way?        4  [verse 5]  \n",
       "70622                     I don't wan' pressure you none        5  [verse 5]  \n",
       "70623               I want your blessing today (love me)        6  [verse 5]  \n",
       "70624           Oh, by the way, open the door by the way        7  [verse 5]  \n",
       "70625             Told you that I'm on the way (love me)        8  [verse 5]  \n",
       "70626         I'm on the way, I know connection is vague        9  [verse 5]  \n",
       "70627                     Pick up the phone for me, babe       10  [verse 5]  \n",
       "70628                                 Dammit, we jammin'       11  [verse 5]  \n",
       "70629                        Bad attitude from yo' nanny       12  [verse 5]  \n",
       "70630                Curves and your hips from yo' mammy       13  [verse 5]  \n",
       "70631         Remember Gardena, I took the studio camera       14  [verse 5]  \n",
       "70632                       I know Top will be mad at me       15  [verse 5]  \n",
       "70633       I had to do it, I want your body, your music       16  [verse 5]  \n",
       "70634                   I bought the big one to prove it       17  [verse 5]  \n",
       "70635                                 Look what you made       18  [verse 5]  \n",
       "70636                       Told you that I'm on the way       19  [verse 5]  \n",
       "70637                          I'm like a exit away, yep       20  [verse 5]  \n",
       "70638                         Give me a run for my money        1  [verse 6]  \n",
       "70639               There is nobody, no one to outrun me        2  [verse 6]  \n",
       "70640                      So give me a run for my money        3  [verse 6]  \n",
       "70641      Sippin' bubbly, feelin' lovely, livin' lovely        4  [verse 6]  \n",
       "70642                                       Just love me        5  [verse 6]  \n",
       "70643          I wanna be with you, ayy, I wanna be with        6  [verse 6]  \n",
       "70644           Just love me, just love me, just love me        7  [verse 6]  \n",
       "70645          I wanna be with you, ayy, I wanna be with        8  [verse 6]  \n",
       "70646                                            Love me        9  [verse 6]  \n",
       "70647                                I wanna be with you       10  [verse 6]  \n",
       "70648                              Love me, just love me       11  [verse 6]  \n",
       "\n",
       "[70649 rows x 4 columns]"
      ]
     },
     "execution_count": 33,
     "metadata": {},
     "output_type": "execute_result"
    }
   ],
   "source": [
    "eda_df"
   ]
  },
  {
   "cell_type": "code",
   "execution_count": 63,
   "metadata": {},
   "outputs": [],
   "source": [
    "# formatted_name, now, file_description = filename_format_log(file_path ='../assets/eda_df.csv')\n",
    "# eda_df.to_csv(formatted_name, index=False)"
   ]
  },
  {
   "cell_type": "code",
   "execution_count": 64,
   "metadata": {},
   "outputs": [],
   "source": [
    "# eda_df = pd.read_csv('../assets/1548892595_eda_df.csv')"
   ]
  },
  {
   "cell_type": "code",
   "execution_count": 65,
   "metadata": {},
   "outputs": [
    {
     "data": {
      "text/plain": [
       "[verse  4]              9\n",
       "[verse 33]              9\n",
       "[jazz]                  9\n",
       "[chorus/outro]          9\n",
       "[rod stewart]           9\n",
       "[mike]                  8\n",
       "[pre-chorus 3]          8\n",
       "[brian morgan]          8\n",
       "[verse 30]              8\n",
       "[coko]                  8\n",
       "[sisqo]                 8\n",
       "[verse 34]              8\n",
       "[chorus 3/outro]        7\n",
       "[verse 32]              7\n",
       "[verse  2]              7\n",
       "[verse 31]              7\n",
       "[hook 1]                7\n",
       "[verse 2 / outro]       7\n",
       "[vesre 1]               6\n",
       "[verse 36]              6\n",
       "[verso 2]               6\n",
       "[verso 3]               6\n",
       "[verso 1]               5\n",
       "[verse 5/bridge]        5\n",
       "[instrumental break]    5\n",
       "[carols]                5\n",
       "[verse 38]              5\n",
       "[​chorus]               5\n",
       "[verse 59]              5\n",
       "[alt. chorus]           5\n",
       "                       ..\n",
       "[verse 71]              2\n",
       "[verse 86]              2\n",
       "[verse 93]              2\n",
       "[bridge 4x]             2\n",
       "[verse 82]              2\n",
       "[verse 90]              2\n",
       "[verse 95]              2\n",
       "[verse 70]              2\n",
       "[verse 79]              2\n",
       "[hook x2]               2\n",
       "[verse 75]              2\n",
       "[verse 69]              2\n",
       "[verse 87]              2\n",
       "[verse 73]              2\n",
       "[verse 47]              2\n",
       "[verse 64]              2\n",
       "[verse 84]              2\n",
       "[verse 65]              2\n",
       "[verse 94]              2\n",
       "[prelude]               2\n",
       "[verse 80]              2\n",
       "[verse 92]              2\n",
       "[verse 66]              2\n",
       "[verse 63]              2\n",
       "[post-bridge]           2\n",
       "[verse 41]              2\n",
       "[verse 89]              1\n",
       "[verse 91]              1\n",
       "[verse 67]              1\n",
       "[verse 78]              1\n",
       "Name: tag, Length: 104, dtype: int64"
      ]
     },
     "execution_count": 65,
     "metadata": {},
     "output_type": "execute_result"
    }
   ],
   "source": [
    "eda_df.tag.value_counts()[eda_df.tag.value_counts() < 10]"
   ]
  },
  {
   "cell_type": "code",
   "execution_count": 66,
   "metadata": {},
   "outputs": [],
   "source": [
    "drop = eda_df[eda_df['id'] == '4TYZXfu6VeblQMK2TwbDte'].index.tolist()"
   ]
  },
  {
   "cell_type": "code",
   "execution_count": 67,
   "metadata": {},
   "outputs": [],
   "source": [
    "eda_df = eda_df.drop(drop, axis=0)"
   ]
  },
  {
   "cell_type": "code",
   "execution_count": 68,
   "metadata": {},
   "outputs": [
    {
     "data": {
      "text/html": [
       "<div>\n",
       "<style scoped>\n",
       "    .dataframe tbody tr th:only-of-type {\n",
       "        vertical-align: middle;\n",
       "    }\n",
       "\n",
       "    .dataframe tbody tr th {\n",
       "        vertical-align: top;\n",
       "    }\n",
       "\n",
       "    .dataframe thead th {\n",
       "        text-align: right;\n",
       "    }\n",
       "</style>\n",
       "<table border=\"1\" class=\"dataframe\">\n",
       "  <thead>\n",
       "    <tr style=\"text-align: right;\">\n",
       "      <th></th>\n",
       "      <th>id</th>\n",
       "      <th>line</th>\n",
       "      <th>line_num</th>\n",
       "      <th>tag</th>\n",
       "    </tr>\n",
       "  </thead>\n",
       "  <tbody>\n",
       "    <tr>\n",
       "      <th>2786</th>\n",
       "      <td>6xYd4zCVeSp80Un2Rl9wDs</td>\n",
       "      <td>Cruisin' is made for love</td>\n",
       "      <td>1</td>\n",
       "      <td>[verse 55]</td>\n",
       "    </tr>\n",
       "  </tbody>\n",
       "</table>\n",
       "</div>"
      ],
      "text/plain": [
       "                          id                       line line_num         tag\n",
       "2786  6xYd4zCVeSp80Un2Rl9wDs  Cruisin' is made for love        1  [verse 55]"
      ]
     },
     "execution_count": 68,
     "metadata": {},
     "output_type": "execute_result"
    }
   ],
   "source": [
    "eda_df[eda_df.loc[:,'tag'] == '[verse 55]']"
   ]
  },
  {
   "cell_type": "code",
   "execution_count": 69,
   "metadata": {},
   "outputs": [
    {
     "data": {
      "text/plain": [
       "\"\\n\\nBaby let's cruise away from here\\n\\nDon't be confused baby, the way is clear\\n\\nAnd if you want it you got it forever\\n\\nOh, this is not a one night stand baby\\n\\nLet the music take your mind\\n\\nAnd just release and you will find, baby\\n\\nWe're going to fly away\\n\\nGlad you're going my way\\n\\nI love it when we're cruisin' together\\n\\nMusic was made for love\\n\\nCruisin' is made for love\\n\\nI love it when we're cruisin' together\\n\\nBaby, tonight belongs to us\\n\\nEverything's right, do what you must, baby\\n\\nAnd inch by inch we get closer and closer\\n\\nEvery little part of each other ooh, baby, baby\\n\\nLet the music take your mind\\n\\nJust release and you will find, baby\\n\\nWe're going to fly away\\n\\nGlad you're going my way\\n\\nI love it when we're cruisin' together\\n\\nMusic was made for love\\n\\nCruisin' is made for love\\n\\nI love you when we're cruisin' together\\n\\nWe're going to fly away\\n\\nGlad you're going my way\\n\\nI love it when we're cruisin' together\\n\\nMusic was made for love\\n\\nCruisin' is made for love\\n\\nI love you when we're cruisin' together\\n\\nCruise with me baby, baby\\n\\nOh baby\\n\\nOh baby let's cruise, let's flow\\n\\nLet's glide, let's open up and go inside\\n\\nAnd if you want it you got it forever\\n\\nI can just stay there inside you and love you, baby\\n\\nLet the music take your mind\\n\\nAnd just release and you will find\\n\\nWe're going to fly away\\n\\nGlad you're going my way\\n\\nI love it when we're cruisin' together\\n\\nMusic was made for love\\n\\nCruisin' is made for love\\n\\nI love you when we're cruisin' together\\n\\nWe're going to fly away\\n\\nGlad you're going my way\\n\\nI love it when we're cruisin' together\\n\\nMusic was made for love\\n\\nCruisin' is made for love\\n\\nI love you when we're cruisin' together\\n\\nWe're going to fly away\\n\\nGlad you're going my way\\n\\nI love it when we're cruisin' together\\n\\nMusic was made for love\\n\\nCruisin' is made for love\\n\\nI love you when we're cruisin' together\\n\\nWe're going to fly away\\n\\nGlad you're going my way\\n\\nI love it when we're cruisin' together\\n\\nMusic was made for love\\n\\nCruisin' is made for love\\n\\nI love you when we're cruisin' together\\n\\n\""
      ]
     },
     "execution_count": 69,
     "metadata": {},
     "output_type": "execute_result"
    }
   ],
   "source": [
    "lyric_df.loc['6xYd4zCVeSp80Un2Rl9wDs',:]['lyrics']"
   ]
  },
  {
   "cell_type": "code",
   "execution_count": 70,
   "metadata": {},
   "outputs": [],
   "source": [
    "off_verse = eda_df[eda_df.id =='6xYd4zCVeSp80Un2Rl9wDs'].index.tolist()"
   ]
  },
  {
   "cell_type": "code",
   "execution_count": 71,
   "metadata": {},
   "outputs": [],
   "source": [
    "eda_df.tag.loc[off_verse] = eda_df.tag.loc[off_verse].map(lambda x: '[verse 1]')"
   ]
  },
  {
   "cell_type": "code",
   "execution_count": 72,
   "metadata": {},
   "outputs": [],
   "source": [
    "eda_df.loc[off_verse,'line_num'] = list(range(1,63))"
   ]
  },
  {
   "cell_type": "code",
   "execution_count": 73,
   "metadata": {},
   "outputs": [
    {
     "data": {
      "text/plain": [
       "[verse 1]                                                                                                                                                                                      11237\n",
       "[verse 2]                                                                                                                                                                                       9976\n",
       "[chorus]                                                                                                                                                                                        8023\n",
       "[verse 3]                                                                                                                                                                                       7825\n",
       "[verse 4]                                                                                                                                                                                       6687\n",
       "[verse 5]                                                                                                                                                                                       6043\n",
       "[verse 6]                                                                                                                                                                                       4976\n",
       "[verse 7]                                                                                                                                                                                       3771\n",
       "[verse 8]                                                                                                                                                                                       2653\n",
       "[verse 9]                                                                                                                                                                                       1765\n",
       "[bridge]                                                                                                                                                                                        1529\n",
       "[pre-chorus]                                                                                                                                                                                    1165\n",
       "[outro]                                                                                                                                                                                         1152\n",
       "[verse 10]                                                                                                                                                                                      1126\n",
       "[verse 11]                                                                                                                                                                                       726\n",
       "[verse 12]                                                                                                                                                                                       437\n",
       "[hook]                                                                                                                                                                                           424\n",
       "[chorus 2]                                                                                                                                                                                       339\n",
       "[post-chorus]                                                                                                                                                                                    265\n",
       "[verse]                                                                                                                                                                                          260\n",
       "[chorus 1]                                                                                                                                                                                       254\n",
       "[verse 13]                                                                                                                                                                                       254\n",
       "[verse 15]                                                                                                                                                                                       236\n",
       "[verse 14]                                                                                                                                                                                       221\n",
       "[verse 16]                                                                                                                                                                                       143\n",
       "[intro]                                                                                                                                                                                          127\n",
       "[pre-chorus 2]                                                                                                                                                                                   104\n",
       "[-9]                                                                                                                                                                                              94\n",
       "[verse 17]                                                                                                                                                                                        87\n",
       "[verse 18]                                                                                                                                                                                        86\n",
       "                                                                                                                                                                                               ...  \n",
       "[vesre 1]                                                                                                                                                                                          6\n",
       "[verso 3]                                                                                                                                                                                          6\n",
       "[verse 34]                                                                                                                                                                                         5\n",
       "[​chorus]                                                                                                                                                                                          5\n",
       "[alt. chorus]                                                                                                                                                                                      5\n",
       "[verse 30]                                                                                                                                                                                         5\n",
       "[chorus / outro]                                                                                                                                                                                   5\n",
       "[instrumental break]                                                                                                                                                                               5\n",
       "[carols]                                                                                                                                                                                           5\n",
       "[verso 1]                                                                                                                                                                                          5\n",
       "[verse 5/bridge]                                                                                                                                                                                   5\n",
       "[sting]                                                                                                                                                                                            4\n",
       "[rod stewart, bryan adams]                                                                                                                                                                         4\n",
       "[chorus 2\\nyou got me shot down by love\\nand you got my heart now\\nwhy won't you stop now?\\noh i've been knocked down by you\\nand you got my heart now\\nwhy won't you stop now?\\n\\n[bridge]        4\n",
       "[verse 31]                                                                                                                                                                                         4\n",
       "[bryan adams]                                                                                                                                                                                      4\n",
       "[pre-chrous]                                                                                                                                                                                       4\n",
       "[instrumental]                                                                                                                                                                                     4\n",
       "[refrain 3]                                                                                                                                                                                        4\n",
       "[tag]                                                                                                                                                                                              4\n",
       "[verse 32]                                                                                                                                                                                         4\n",
       "[outro fading out]                                                                                                                                                                                 3\n",
       "[verse 36]                                                                                                                                                                                         3\n",
       "[kate]                                                                                                                                                                                             3\n",
       "[bryan adams, sting]                                                                                                                                                                               3\n",
       "[pre-hook, with variation]                                                                                                                                                                         3\n",
       "[prelude]                                                                                                                                                                                          2\n",
       "[bridge 4x]                                                                                                                                                                                        2\n",
       "[post-bridge]                                                                                                                                                                                      2\n",
       "[hook x2]                                                                                                                                                                                          2\n",
       "Name: tag, Length: 109, dtype: int64"
      ]
     },
     "execution_count": 73,
     "metadata": {},
     "output_type": "execute_result"
    }
   ],
   "source": [
    "eda_df.tag.value_counts()"
   ]
  },
  {
   "cell_type": "code",
   "execution_count": 74,
   "metadata": {},
   "outputs": [
    {
     "data": {
      "text/html": [
       "<div>\n",
       "<style scoped>\n",
       "    .dataframe tbody tr th:only-of-type {\n",
       "        vertical-align: middle;\n",
       "    }\n",
       "\n",
       "    .dataframe tbody tr th {\n",
       "        vertical-align: top;\n",
       "    }\n",
       "\n",
       "    .dataframe thead th {\n",
       "        text-align: right;\n",
       "    }\n",
       "</style>\n",
       "<table border=\"1\" class=\"dataframe\">\n",
       "  <thead>\n",
       "    <tr style=\"text-align: right;\">\n",
       "      <th></th>\n",
       "      <th>id</th>\n",
       "      <th>line</th>\n",
       "      <th>line_num</th>\n",
       "      <th>tag</th>\n",
       "    </tr>\n",
       "  </thead>\n",
       "  <tbody>\n",
       "    <tr>\n",
       "      <th>7666</th>\n",
       "      <td>27zrFrtUtWl2urlvjOn5xc</td>\n",
       "      <td>Jinan bomeneun neol uyeonhi bwatgo</td>\n",
       "      <td>1</td>\n",
       "      <td>[verse 28]</td>\n",
       "    </tr>\n",
       "    <tr>\n",
       "      <th>7667</th>\n",
       "      <td>27zrFrtUtWl2urlvjOn5xc</td>\n",
       "      <td>Deo isangeun uyeoni aniyeosseumyeon hae</td>\n",
       "      <td>2</td>\n",
       "      <td>[verse 28]</td>\n",
       "    </tr>\n",
       "    <tr>\n",
       "      <th>7668</th>\n",
       "      <td>27zrFrtUtWl2urlvjOn5xc</td>\n",
       "      <td>Seuchigiman haetdeon neoui soneul japgo</td>\n",
       "      <td>3</td>\n",
       "      <td>[verse 28]</td>\n",
       "    </tr>\n",
       "    <tr>\n",
       "      <th>7669</th>\n",
       "      <td>27zrFrtUtWl2urlvjOn5xc</td>\n",
       "      <td>Eotteon girirado gachi georeosseumyeon hae</td>\n",
       "      <td>4</td>\n",
       "      <td>[verse 28]</td>\n",
       "    </tr>\n",
       "    <tr>\n",
       "      <th>7823</th>\n",
       "      <td>5efB9wfc6dn3pzll9ElIrH</td>\n",
       "      <td>Baby I’m so Lonely so Lonely</td>\n",
       "      <td>1</td>\n",
       "      <td>[verse 28]</td>\n",
       "    </tr>\n",
       "    <tr>\n",
       "      <th>7824</th>\n",
       "      <td>5efB9wfc6dn3pzll9ElIrH</td>\n",
       "      <td>I feel like I’m alone</td>\n",
       "      <td>2</td>\n",
       "      <td>[verse 28]</td>\n",
       "    </tr>\n",
       "    <tr>\n",
       "      <th>7825</th>\n",
       "      <td>5efB9wfc6dn3pzll9ElIrH</td>\n",
       "      <td>Still, I don’t wanna hide it from you</td>\n",
       "      <td>3</td>\n",
       "      <td>[verse 28]</td>\n",
       "    </tr>\n",
       "    <tr>\n",
       "      <th>7826</th>\n",
       "      <td>5efB9wfc6dn3pzll9ElIrH</td>\n",
       "      <td>But I’m used to just holding it in</td>\n",
       "      <td>4</td>\n",
       "      <td>[verse 28]</td>\n",
       "    </tr>\n",
       "    <tr>\n",
       "      <th>7827</th>\n",
       "      <td>5efB9wfc6dn3pzll9ElIrH</td>\n",
       "      <td>Understand me</td>\n",
       "      <td>5</td>\n",
       "      <td>[verse 28]</td>\n",
       "    </tr>\n",
       "    <tr>\n",
       "      <th>9426</th>\n",
       "      <td>2za6PlkAQAMMu0VFsfBoHC</td>\n",
       "      <td>The engineers then proceeded to inspect the Sc...</td>\n",
       "      <td>1</td>\n",
       "      <td>[verse 28]</td>\n",
       "    </tr>\n",
       "  </tbody>\n",
       "</table>\n",
       "</div>"
      ],
      "text/plain": [
       "                          id  \\\n",
       "7666  27zrFrtUtWl2urlvjOn5xc   \n",
       "7667  27zrFrtUtWl2urlvjOn5xc   \n",
       "7668  27zrFrtUtWl2urlvjOn5xc   \n",
       "7669  27zrFrtUtWl2urlvjOn5xc   \n",
       "7823  5efB9wfc6dn3pzll9ElIrH   \n",
       "7824  5efB9wfc6dn3pzll9ElIrH   \n",
       "7825  5efB9wfc6dn3pzll9ElIrH   \n",
       "7826  5efB9wfc6dn3pzll9ElIrH   \n",
       "7827  5efB9wfc6dn3pzll9ElIrH   \n",
       "9426  2za6PlkAQAMMu0VFsfBoHC   \n",
       "\n",
       "                                                   line line_num         tag  \n",
       "7666                 Jinan bomeneun neol uyeonhi bwatgo        1  [verse 28]  \n",
       "7667            Deo isangeun uyeoni aniyeosseumyeon hae        2  [verse 28]  \n",
       "7668            Seuchigiman haetdeon neoui soneul japgo        3  [verse 28]  \n",
       "7669         Eotteon girirado gachi georeosseumyeon hae        4  [verse 28]  \n",
       "7823                       Baby I’m so Lonely so Lonely        1  [verse 28]  \n",
       "7824                              I feel like I’m alone        2  [verse 28]  \n",
       "7825              Still, I don’t wanna hide it from you        3  [verse 28]  \n",
       "7826                 But I’m used to just holding it in        4  [verse 28]  \n",
       "7827                                      Understand me        5  [verse 28]  \n",
       "9426  The engineers then proceeded to inspect the Sc...        1  [verse 28]  "
      ]
     },
     "execution_count": 74,
     "metadata": {},
     "output_type": "execute_result"
    }
   ],
   "source": [
    "eda_df[eda_df.loc[:,'tag'] == '[verse 28]']"
   ]
  },
  {
   "cell_type": "code",
   "execution_count": 75,
   "metadata": {},
   "outputs": [],
   "source": [
    "leagues = eda_df[eda_df.id =='2za6PlkAQAMMu0VFsfBoHC'].index.tolist()"
   ]
  },
  {
   "cell_type": "code",
   "execution_count": 76,
   "metadata": {},
   "outputs": [],
   "source": [
    "eda_df = eda_df.drop(index=leagues, axis=0)"
   ]
  },
  {
   "cell_type": "code",
   "execution_count": 1,
   "metadata": {},
   "outputs": [
    {
     "ename": "NameError",
     "evalue": "name 'eda_df' is not defined",
     "output_type": "error",
     "traceback": [
      "\u001b[0;31m---------------------------------------------------------------------------\u001b[0m",
      "\u001b[0;31mNameError\u001b[0m                                 Traceback (most recent call last)",
      "\u001b[0;32m<ipython-input-1-81e65baff92f>\u001b[0m in \u001b[0;36m<module>\u001b[0;34m\u001b[0m\n\u001b[0;32m----> 1\u001b[0;31m \u001b[0meda_df\u001b[0m\u001b[0;34m.\u001b[0m\u001b[0mdescribe\u001b[0m\u001b[0;34m(\u001b[0m\u001b[0;34m)\u001b[0m\u001b[0;34m\u001b[0m\u001b[0;34m\u001b[0m\u001b[0m\n\u001b[0m",
      "\u001b[0;31mNameError\u001b[0m: name 'eda_df' is not defined"
     ]
    }
   ],
   "source": [
    "eda_df.describe()"
   ]
  },
  {
   "cell_type": "code",
   "execution_count": null,
   "metadata": {},
   "outputs": [],
   "source": [
    "eda_df[eda_df.id == '3yPMLvxeEor7rbDLDseJFt']"
   ]
  },
  {
   "cell_type": "code",
   "execution_count": null,
   "metadata": {},
   "outputs": [],
   "source": [
    "tracks = eda_df[eda_df.id == '3yPMLvxeEor7rbDLDseJFt'].index.tolist()"
   ]
  },
  {
   "cell_type": "code",
   "execution_count": null,
   "metadata": {},
   "outputs": [],
   "source": [
    "eda_df = eda_df.drop(index=tracks, axis=0)"
   ]
  },
  {
   "cell_type": "code",
   "execution_count": null,
   "metadata": {},
   "outputs": [],
   "source": [
    "eda_df.describe()"
   ]
  },
  {
   "cell_type": "code",
   "execution_count": null,
   "metadata": {},
   "outputs": [],
   "source": [
    "eda_df.tag.value_counts()"
   ]
  },
  {
   "cell_type": "code",
   "execution_count": null,
   "metadata": {},
   "outputs": [],
   "source": [
    "eda_df[eda_df.tag.str.contains('\\n')]"
   ]
  },
  {
   "cell_type": "code",
   "execution_count": null,
   "metadata": {},
   "outputs": [],
   "source": [
    "lyric_df.loc['1Ob94QesoxHSBrypyBbdfd'].lyrics = \"\\n\\n[Verse 1]\\nWe've been here before, surrounded in the cold\\nYou take me to places I've never known\\nAnd you push me to places I'll never go\\nI would die for you\\nTell me the truth\\nAm I all that you would need?\\nIf we're keeping it a hundred, you're all that I need for me\\nFrom the jump until forever from now, I would ride for you\\n\\n[Chorus]\\nBut you got me shot down by love\\nYou got my heart now\\nWhy won't you stop now?\\nOh I've been knocked down by you\\nYou got my heart now\\nWhy won't you stop now?\\n\\n[Verse 2]\\nI've been through it whole\\nI've been through the worst\\nBut I never knew how much our love could hurt\\nOver my family I put you first\\nWriting out my feelings is the only thing that work\\nI don't hear from the friends I thought were mine too\\nBut I hold on to the poems I would write you\\nHappy seventeen, I saw us two and you saw three\\nI guess our lines are structured like a haiku\\n\\n[Chorus 2]\\nYou got me shot down by love\\nAnd you got my heart now\\nWhy won't you stop now?\\nOh I've been knocked down by you\\nAnd you got my heart now\\nWhy won't you stop now?\\n\\n[Bridge]\\nKnocked down, knocked down\\nKnocked down, knocked down\\nKnocked down\\nKnocked down\\n\\n[Chorus]\\nI've been shot down by love\\nYou got my heart now\\nWhy won't you stop now?\\nI've been knocked down by you\\nAnd you got my heart now\\nWhy won't you stop now?\\n\\n\""
   ]
  },
  {
   "cell_type": "code",
   "execution_count": null,
   "metadata": {},
   "outputs": [],
   "source": [
    "bad_tag = eda_df.tag[eda_df.tag.str.contains('\\n')].index.tolist()"
   ]
  },
  {
   "cell_type": "code",
   "execution_count": null,
   "metadata": {},
   "outputs": [],
   "source": [
    "eda_df = eda_df.drop(index=bad_tag,axis=0)"
   ]
  },
  {
   "cell_type": "code",
   "execution_count": null,
   "metadata": {},
   "outputs": [],
   "source": [
    "eda_df.tag.value_counts()"
   ]
  },
  {
   "cell_type": "code",
   "execution_count": null,
   "metadata": {},
   "outputs": [],
   "source": [
    "trace = go.histogarm(x=eda_df.tag)\n",
    "data = trace\n",
    "py.iplot([trace])"
   ]
  },
  {
   "cell_type": "code",
   "execution_count": null,
   "metadata": {},
   "outputs": [],
   "source": []
  }
 ],
 "metadata": {
  "kernelspec": {
   "display_name": "Python 3",
   "language": "python",
   "name": "python3"
  },
  "language_info": {
   "codemirror_mode": {
    "name": "ipython",
    "version": 3
   },
   "file_extension": ".py",
   "mimetype": "text/x-python",
   "name": "python",
   "nbconvert_exporter": "python",
   "pygments_lexer": "ipython3",
   "version": "3.6.5"
  }
 },
 "nbformat": 4,
 "nbformat_minor": 2
}
