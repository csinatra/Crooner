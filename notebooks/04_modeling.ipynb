{
 "cells": [
  {
   "cell_type": "code",
   "execution_count": 1,
   "metadata": {},
   "outputs": [],
   "source": [
    "import adanet\n",
    "import tensorflow as tf"
   ]
  },
  {
   "cell_type": "code",
   "execution_count": null,
   "metadata": {},
   "outputs": [],
   "source": [
    "# Define the model head for computing loss and evaluation metrics.\n",
    "head = tf.contrib.estimator.multi_class_head(n_classes=10)\n",
    "\n",
    "# Feature columns define how to process examples.\n",
    "feature_columns = ...\n",
    "\n",
    "# Learn to ensemble linear and neural network models.\n",
    "estimator = adanet.AutoEnsembleEstimator(\n",
    "    head=head,\n",
    "    candidate_pool=[\n",
    "        tf.estimator.DNNEstimator(\n",
    "            head=head,\n",
    "            feature_columns=feature_columns,\n",
    "            optimizer=tf.train.ProximalAdagradOptimizer(...),\n",
    "            hidden_units=[1000, 500, 100])],\n",
    "    max_iteration_steps=50)\n",
    "\n",
    "estimator.train(input_fn=train_input_fn, steps=100)\n",
    "metrics = estimator.evaluate(input_fn=eval_input_fn)\n",
    "predictions = estimator.predict(input_fn=predict_input_fn)"
   ]
  },
  {
   "cell_type": "code",
   "execution_count": null,
   "metadata": {},
   "outputs": [],
   "source": []
  }
 ],
 "metadata": {
  "kernelspec": {
   "display_name": "Python 3",
   "language": "python",
   "name": "python3"
  },
  "language_info": {
   "codemirror_mode": {
    "name": "ipython",
    "version": 3
   },
   "file_extension": ".py",
   "mimetype": "text/x-python",
   "name": "python",
   "nbconvert_exporter": "python",
   "pygments_lexer": "ipython3",
   "version": "3.6.7"
  }
 },
 "nbformat": 4,
 "nbformat_minor": 2
}
