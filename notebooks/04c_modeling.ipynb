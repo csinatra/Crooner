{
 "cells": [
  {
   "cell_type": "code",
   "execution_count": 1,
   "metadata": {},
   "outputs": [
    {
     "name": "stderr",
     "output_type": "stream",
     "text": [
      "Using TensorFlow backend.\n"
     ]
    }
   ],
   "source": [
    "import json, time, re, string, keras, pickle, h5py\n",
    "import pandas as pd\n",
    "import numpy as np\n",
    "import tensorflow as tf\n",
    "import matplotlib.pyplot as plt\n",
    "\n",
    "from numpy import random\n",
    "from scipy.sparse import coo_matrix\n",
    "from scipy import sparse\n",
    "\n",
    "from keras.preprocessing.text import Tokenizer\n",
    "from keras.preprocessing.sequence import pad_sequences\n",
    "from keras.models import Sequential\n",
    "from keras.layers import Dense, Embedding, LSTM, Flatten\n",
    "from keras.utils.np_utils import to_categorical\n",
    "from keras.callbacks import ModelCheckpoint\n",
    "\n",
    "\n",
    "%matplotlib inline\n",
    "plt.style.use('fivethirtyeight')\n",
    "\n",
    "%run ../assets/sql_cred.py"
   ]
  },
  {
   "cell_type": "code",
   "execution_count": 2,
   "metadata": {},
   "outputs": [
    {
     "name": "stdout",
     "output_type": "stream",
     "text": [
      "/device:GPU:0\n"
     ]
    }
   ],
   "source": [
    "print(tf.test.gpu_device_name())\n",
    "\n",
    "config = tf.ConfigProto()\n",
    "config.gpu_options.allow_growth = True"
   ]
  },
  {
   "cell_type": "code",
   "execution_count": 3,
   "metadata": {},
   "outputs": [],
   "source": [
    "def filename_format_log(file_path, \n",
    "                        logfile = '../assets/file_log.txt', \n",
    "                        now = round(time.time()), \n",
    "                        file_description = None): \n",
    "   \n",
    "    try:\n",
    "        ext = re.search('(?<!^)(?<!\\.)\\.(?!\\.)', file_path).start() \n",
    "    except:\n",
    "        raise NameError('Please enter a relative path with a file extension.') \n",
    "    \n",
    "    stamp = re.search('(?<!^)(?<!\\.)[0-z]+_[0-z]+(?=\\.)', file_path).start()\n",
    "    formatted_name = f'{file_path[:stamp]}{now}_{file_path[stamp:]}'  \n",
    "    if not file_description:\n",
    "        file_description = f'Saved at: {time.asctime(time.gmtime(now))}'\n",
    "    with open(logfile, 'a+') as f:\n",
    "        f.write(f'{formatted_name}: {file_description}\\n')\n",
    "    return formatted_name, now, file_description"
   ]
  },
  {
   "cell_type": "code",
   "execution_count": 4,
   "metadata": {},
   "outputs": [],
   "source": [
    "X_reshape = np.load('../assets/1549351379_LSTM350_Xreshape.npy')"
   ]
  },
  {
   "cell_type": "code",
   "execution_count": 5,
   "metadata": {},
   "outputs": [],
   "source": [
    "y_cat_coo = sparse.load_npz('../assets/1549351379_LSTM350_ycat.npz')"
   ]
  },
  {
   "cell_type": "code",
   "execution_count": 6,
   "metadata": {},
   "outputs": [],
   "source": [
    "y_cat = y_cat_coo.toarray()"
   ]
  },
  {
   "cell_type": "code",
   "execution_count": 7,
   "metadata": {},
   "outputs": [],
   "source": [
    "with open('../assets/1549351379_LSTM350_tokenizer.pkl', 'rb') as f:\n",
    "    tokenizer = pickle.load(f)"
   ]
  },
  {
   "cell_type": "code",
   "execution_count": 8,
   "metadata": {},
   "outputs": [],
   "source": [
    "vocab_size = len(tokenizer.word_index) + 1"
   ]
  },
  {
   "cell_type": "code",
   "execution_count": 9,
   "metadata": {},
   "outputs": [
    {
     "data": {
      "text/plain": [
       "12978"
      ]
     },
     "execution_count": 9,
     "metadata": {},
     "output_type": "execute_result"
    }
   ],
   "source": [
    "vocab_size"
   ]
  },
  {
   "cell_type": "code",
   "execution_count": 10,
   "metadata": {},
   "outputs": [
    {
     "name": "stdout",
     "output_type": "stream",
     "text": [
      "Loaded 483569 word vectors\n"
     ]
    }
   ],
   "source": [
    "embeddings_index = dict()\n",
    "\n",
    "f = open('../glove_data/glove.42B.300d.txt')\n",
    "\n",
    "for line in f:\n",
    "    values = line.split()\n",
    "    word = values[0]\n",
    "    coefs = np.asarray(values[1:], dtype='float32')\n",
    "    embeddings_index[word] = coefs\n",
    "\n",
    "f.close()\n",
    "\n",
    "print(f'Loaded {len(embeddings_index)} word vectors')"
   ]
  },
  {
   "cell_type": "code",
   "execution_count": 11,
   "metadata": {},
   "outputs": [],
   "source": [
    "# create a weight matrix for words in training docs\n",
    "embedding_matrix = np.zeros((vocab_size, 300))\n",
    "\n",
    "for word, i in tokenizer.word_index.items():\n",
    "    embedding_vector = embeddings_index.get(word)\n",
    "    \n",
    "    if embedding_vector is not None:\n",
    "        embedding_matrix[i] = embedding_vector"
   ]
  },
  {
   "cell_type": "code",
   "execution_count": 12,
   "metadata": {},
   "outputs": [
    {
     "data": {
      "text/plain": [
       "12978"
      ]
     },
     "execution_count": 12,
     "metadata": {},
     "output_type": "execute_result"
    }
   ],
   "source": [
    "len(embedding_matrix)"
   ]
  },
  {
   "cell_type": "code",
   "execution_count": 13,
   "metadata": {},
   "outputs": [],
   "source": [
    "seq_len=4\n",
    "\n",
    "# Compile model\n",
    "model = Sequential()\n",
    "model.add(Embedding(vocab_size, 300, weights=[embedding_matrix], input_length=seq_len, mask_zero=True, trainable=True))\n",
    "model.add(LSTM(600, return_sequences=True))\n",
    "model.add(LSTM(300))\n",
    "model.add(Dense(100, activation='relu'))\n",
    "model.add(Dense(y_cat.shape[1], activation='softmax'))\n",
    "\n",
    "model.compile(\n",
    "    loss = 'categorical_crossentropy',\n",
    "    optimizer = 'adam',\n",
    "    metrics = ['accuracy'])"
   ]
  },
  {
   "cell_type": "code",
   "execution_count": null,
   "metadata": {},
   "outputs": [
    {
     "name": "stdout",
     "output_type": "stream",
     "text": [
      "Epoch 1/600\n",
      "571513/571513 [==============================] - 92s 161us/step - loss: 6.0229 - acc: 0.1227\n",
      "Epoch 2/600\n",
      "571513/571513 [==============================] - 90s 157us/step - loss: 5.7708 - acc: 0.1234\n",
      "Epoch 3/600\n",
      "571513/571513 [==============================] - 90s 158us/step - loss: 5.2317 - acc: 0.1646\n",
      "Epoch 4/600\n",
      "571513/571513 [==============================] - 91s 159us/step - loss: 4.7335 - acc: 0.2031\n",
      "Epoch 5/600\n",
      "571513/571513 [==============================] - 91s 158us/step - loss: 4.4564 - acc: 0.2266\n",
      "Epoch 6/600\n",
      "571513/571513 [==============================] - 90s 158us/step - loss: 4.2334 - acc: 0.2482\n",
      "Epoch 7/600\n",
      "571513/571513 [==============================] - 90s 158us/step - loss: 4.0172 - acc: 0.2735\n",
      "Epoch 8/600\n",
      "571513/571513 [==============================] - 90s 158us/step - loss: 3.7931 - acc: 0.3016\n",
      "Epoch 9/600\n",
      "571513/571513 [==============================] - 91s 158us/step - loss: 3.5590 - acc: 0.3338\n",
      "Epoch 10/600\n",
      "571513/571513 [==============================] - 91s 159us/step - loss: 3.3180 - acc: 0.3695\n",
      "Epoch 11/600\n",
      "571513/571513 [==============================] - 91s 159us/step - loss: 3.0771 - acc: 0.4068\n",
      "Epoch 12/600\n",
      "571513/571513 [==============================] - 90s 158us/step - loss: 2.8417 - acc: 0.4451\n",
      "Epoch 13/600\n",
      "571513/571513 [==============================] - 90s 158us/step - loss: 2.6156 - acc: 0.4826\n",
      "Epoch 14/600\n",
      "571513/571513 [==============================] - 90s 158us/step - loss: 2.4039 - acc: 0.5186\n",
      "Epoch 15/600\n",
      "571513/571513 [==============================] - 91s 158us/step - loss: 2.2075 - acc: 0.5541\n",
      "Epoch 16/600\n",
      "571513/571513 [==============================] - 90s 158us/step - loss: 2.0277 - acc: 0.5862\n",
      "Epoch 17/600\n",
      "571513/571513 [==============================] - 91s 159us/step - loss: 1.8644 - acc: 0.6151\n",
      "Epoch 18/600\n",
      "571513/571513 [==============================] - 91s 159us/step - loss: 1.7160 - acc: 0.6422\n",
      "Epoch 19/600\n",
      "571513/571513 [==============================] - 91s 159us/step - loss: 1.5832 - acc: 0.6664\n",
      "Epoch 20/600\n",
      "571513/571513 [==============================] - 91s 159us/step - loss: 1.4635 - acc: 0.6880\n",
      "Epoch 21/600\n",
      "571513/571513 [==============================] - 91s 159us/step - loss: 1.3566 - acc: 0.7075\n",
      "Epoch 22/600\n",
      "571513/571513 [==============================] - 91s 159us/step - loss: 1.2606 - acc: 0.7255\n",
      "Epoch 23/600\n",
      "571513/571513 [==============================] - 91s 159us/step - loss: 1.1749 - acc: 0.7420\n",
      "Epoch 24/600\n",
      "571513/571513 [==============================] - 91s 159us/step - loss: 1.1004 - acc: 0.7550\n",
      "Epoch 25/600\n",
      "571513/571513 [==============================] - 91s 159us/step - loss: 1.0313 - acc: 0.7683\n",
      "Epoch 26/600\n",
      "571513/571513 [==============================] - 91s 159us/step - loss: 0.9711 - acc: 0.7800\n",
      "Epoch 27/600\n",
      "571513/571513 [==============================] - 91s 159us/step - loss: 0.9168 - acc: 0.7903\n",
      "Epoch 28/600\n",
      "571513/571513 [==============================] - 91s 160us/step - loss: 0.8698 - acc: 0.7991\n",
      "Epoch 29/600\n",
      "571513/571513 [==============================] - 91s 160us/step - loss: 0.8272 - acc: 0.8075\n",
      "Epoch 30/600\n",
      "571513/571513 [==============================] - 91s 159us/step - loss: 0.7904 - acc: 0.8141\n",
      "Epoch 31/600\n",
      "571513/571513 [==============================] - 91s 160us/step - loss: 0.7554 - acc: 0.8204\n",
      "Epoch 32/600\n",
      "571513/571513 [==============================] - 91s 160us/step - loss: 0.7268 - acc: 0.8255\n",
      "Epoch 33/600\n",
      "571513/571513 [==============================] - 91s 160us/step - loss: 0.7008 - acc: 0.8306\n",
      "Epoch 34/600\n",
      "571513/571513 [==============================] - 91s 160us/step - loss: 0.6770 - acc: 0.8354\n",
      "Epoch 35/600\n",
      "571513/571513 [==============================] - 91s 160us/step - loss: 0.6569 - acc: 0.8390\n",
      "Epoch 36/600\n",
      "571513/571513 [==============================] - 91s 160us/step - loss: 0.6387 - acc: 0.8422\n",
      "Epoch 37/600\n",
      "571513/571513 [==============================] - 91s 160us/step - loss: 0.6223 - acc: 0.8449\n",
      "Epoch 38/600\n",
      "571513/571513 [==============================] - 91s 160us/step - loss: 0.6087 - acc: 0.8470\n",
      "Epoch 39/600\n",
      "571513/571513 [==============================] - 91s 160us/step - loss: 0.5944 - acc: 0.8494\n",
      "Epoch 40/600\n",
      "571513/571513 [==============================] - 92s 160us/step - loss: 0.5835 - acc: 0.8512\n",
      "Epoch 41/600\n",
      "571513/571513 [==============================] - 92s 160us/step - loss: 0.5721 - acc: 0.8525\n",
      "Epoch 42/600\n",
      "571513/571513 [==============================] - 91s 160us/step - loss: 0.5629 - acc: 0.8539\n",
      "Epoch 43/600\n",
      "571513/571513 [==============================] - 92s 161us/step - loss: 0.5544 - acc: 0.8549\n",
      "Epoch 44/600\n",
      "571513/571513 [==============================] - 92s 161us/step - loss: 0.5473 - acc: 0.8561\n",
      "Epoch 45/600\n",
      "571513/571513 [==============================] - 92s 161us/step - loss: 0.5397 - acc: 0.8569\n",
      "Epoch 46/600\n",
      "571513/571513 [==============================] - 92s 161us/step - loss: 0.5317 - acc: 0.8582\n",
      "Epoch 47/600\n",
      "571513/571513 [==============================] - 92s 161us/step - loss: 0.5239 - acc: 0.8593\n",
      "Epoch 48/600\n",
      "571513/571513 [==============================] - 92s 161us/step - loss: 0.5203 - acc: 0.8591\n",
      "Epoch 49/600\n",
      "571513/571513 [==============================] - 92s 162us/step - loss: 0.5150 - acc: 0.8596\n",
      "Epoch 50/600\n",
      "571513/571513 [==============================] - 92s 161us/step - loss: 0.5098 - acc: 0.8605\n",
      "Epoch 51/600\n",
      "571513/571513 [==============================] - 92s 161us/step - loss: 0.5060 - acc: 0.8606\n",
      "Epoch 52/600\n",
      "571513/571513 [==============================] - 92s 160us/step - loss: 0.5006 - acc: 0.8615\n",
      "Epoch 53/600\n",
      "571513/571513 [==============================] - 92s 161us/step - loss: 0.4959 - acc: 0.8619\n",
      "Epoch 54/600\n",
      "571513/571513 [==============================] - 92s 161us/step - loss: 0.4931 - acc: 0.8619\n",
      "Epoch 55/600\n",
      "571513/571513 [==============================] - 92s 161us/step - loss: 0.4887 - acc: 0.8626\n",
      "Epoch 56/600\n",
      "571513/571513 [==============================] - 92s 161us/step - loss: 0.4865 - acc: 0.8623\n",
      "Epoch 57/600\n",
      "571513/571513 [==============================] - 92s 160us/step - loss: 0.4830 - acc: 0.8624\n",
      "Epoch 58/600\n",
      "571513/571513 [==============================] - 91s 160us/step - loss: 0.4799 - acc: 0.8631\n",
      "Epoch 59/600\n",
      "571513/571513 [==============================] - 92s 161us/step - loss: 0.4775 - acc: 0.8628\n",
      "Epoch 60/600\n",
      "571513/571513 [==============================] - 92s 161us/step - loss: 0.4740 - acc: 0.8635\n",
      "Epoch 61/600\n",
      "571513/571513 [==============================] - 92s 161us/step - loss: 0.4711 - acc: 0.8637\n",
      "Epoch 62/600\n",
      "571513/571513 [==============================] - 92s 161us/step - loss: 0.4693 - acc: 0.8637\n",
      "Epoch 63/600\n",
      "571513/571513 [==============================] - 92s 161us/step - loss: 0.4668 - acc: 0.8642\n",
      "Epoch 64/600\n",
      "571513/571513 [==============================] - 92s 161us/step - loss: 0.4648 - acc: 0.8640\n",
      "Epoch 65/600\n",
      "571513/571513 [==============================] - 92s 161us/step - loss: 0.4617 - acc: 0.8641\n",
      "Epoch 66/600\n",
      "571513/571513 [==============================] - 91s 160us/step - loss: 0.4598 - acc: 0.8644\n",
      "Epoch 67/600\n",
      "571513/571513 [==============================] - 92s 160us/step - loss: 0.4581 - acc: 0.8642\n",
      "Epoch 68/600\n",
      "571513/571513 [==============================] - 92s 161us/step - loss: 0.4545 - acc: 0.8647\n",
      "Epoch 69/600\n",
      "571513/571513 [==============================] - 92s 161us/step - loss: 0.4532 - acc: 0.8645\n",
      "Epoch 70/600\n",
      "571513/571513 [==============================] - 92s 161us/step - loss: 0.4516 - acc: 0.8646\n",
      "Epoch 71/600\n",
      "571513/571513 [==============================] - 92s 161us/step - loss: 0.4498 - acc: 0.8646\n",
      "Epoch 72/600\n",
      "571513/571513 [==============================] - 91s 160us/step - loss: 0.4493 - acc: 0.8649\n",
      "Epoch 73/600\n",
      "571513/571513 [==============================] - 91s 160us/step - loss: 0.4462 - acc: 0.8648\n",
      "Epoch 74/600\n",
      "571513/571513 [==============================] - 91s 160us/step - loss: 0.4446 - acc: 0.8655\n",
      "Epoch 75/600\n",
      "571513/571513 [==============================] - 91s 160us/step - loss: 0.4428 - acc: 0.8654\n",
      "Epoch 76/600\n",
      "571513/571513 [==============================] - 92s 160us/step - loss: 0.4427 - acc: 0.8651\n",
      "Epoch 77/600\n",
      "571513/571513 [==============================] - 92s 161us/step - loss: 0.4406 - acc: 0.8652\n",
      "Epoch 78/600\n",
      "571513/571513 [==============================] - 92s 160us/step - loss: 0.4391 - acc: 0.8651\n",
      "Epoch 79/600\n",
      "571513/571513 [==============================] - 92s 160us/step - loss: 0.4362 - acc: 0.8661\n",
      "Epoch 80/600\n",
      "571513/571513 [==============================] - 92s 161us/step - loss: 0.4361 - acc: 0.8652\n",
      "Epoch 81/600\n",
      "571513/571513 [==============================] - 92s 160us/step - loss: 0.4353 - acc: 0.8653\n",
      "Epoch 82/600\n",
      "571513/571513 [==============================] - 92s 160us/step - loss: 0.4330 - acc: 0.8657\n",
      "Epoch 83/600\n",
      "571513/571513 [==============================] - 92s 160us/step - loss: 0.4315 - acc: 0.8659\n",
      "Epoch 84/600\n",
      "571513/571513 [==============================] - 91s 160us/step - loss: 0.4301 - acc: 0.8659\n",
      "Epoch 85/600\n",
      "571513/571513 [==============================] - 92s 160us/step - loss: 0.4280 - acc: 0.8662\n",
      "Epoch 86/600\n",
      "571513/571513 [==============================] - 92s 161us/step - loss: 0.4276 - acc: 0.8661\n",
      "Epoch 87/600\n",
      "571513/571513 [==============================] - 91s 160us/step - loss: 0.4269 - acc: 0.8658\n",
      "Epoch 88/600\n",
      "571513/571513 [==============================] - 92s 161us/step - loss: 0.4265 - acc: 0.8662\n",
      "Epoch 89/600\n",
      "571513/571513 [==============================] - 92s 160us/step - loss: 0.4241 - acc: 0.8663\n",
      "Epoch 90/600\n",
      "571513/571513 [==============================] - 92s 160us/step - loss: 0.4234 - acc: 0.8663\n",
      "Epoch 91/600\n",
      "571513/571513 [==============================] - 92s 161us/step - loss: 0.4220 - acc: 0.8665\n",
      "Epoch 92/600\n",
      "571513/571513 [==============================] - 92s 161us/step - loss: 0.4212 - acc: 0.8663\n",
      "Epoch 93/600\n",
      "571513/571513 [==============================] - 92s 160us/step - loss: 0.4204 - acc: 0.8662\n",
      "Epoch 94/600\n",
      "571513/571513 [==============================] - 92s 160us/step - loss: 0.4200 - acc: 0.8662\n",
      "Epoch 95/600\n",
      "355000/571513 [=================>............] - ETA: 34s - loss: 0.4049 - acc: 0.8697"
     ]
    }
   ],
   "source": [
    "# Train model on dataset\n",
    "with tf.device('/gpu:0'):\n",
    "    history = model.fit(X_reshape,\n",
    "              y_cat,\n",
    "              verbose=1,\n",
    "              batch_size=2500,\n",
    "              epochs=600, \n",
    "             )\n",
    "\n",
    "formatted_name, now, file_description= filename_format_log('../assets/LSTM625_42Bmodel.h5')\n",
    "\n",
    "model.save(formatted_name)"
   ]
  },
  {
   "cell_type": "code",
   "execution_count": null,
   "metadata": {},
   "outputs": [],
   "source": [
    "# model = keras.models.load_model('../assets/1549265762_LSTM_Model.h5')"
   ]
  },
  {
   "cell_type": "code",
   "execution_count": 15,
   "metadata": {},
   "outputs": [
    {
     "name": "stdout",
     "output_type": "stream",
     "text": [
      "_________________________________________________________________\n",
      "Layer (type)                 Output Shape              Param #   \n",
      "=================================================================\n",
      "embedding_1 (Embedding)      (None, 4, 300)            3893400   \n",
      "_________________________________________________________________\n",
      "lstm_1 (LSTM)                (None, 4, 300)            721200    \n",
      "_________________________________________________________________\n",
      "lstm_2 (LSTM)                (None, 150)               270600    \n",
      "_________________________________________________________________\n",
      "dense_1 (Dense)              (None, 100)               15100     \n",
      "_________________________________________________________________\n",
      "dense_2 (Dense)              (None, 12978)             1310778   \n",
      "=================================================================\n",
      "Total params: 6,211,078\n",
      "Trainable params: 2,317,678\n",
      "Non-trainable params: 3,893,400\n",
      "_________________________________________________________________\n",
      "None\n"
     ]
    }
   ],
   "source": [
    "# Print model summary\n",
    "print(model.summary())"
   ]
  },
  {
   "cell_type": "code",
   "execution_count": 16,
   "metadata": {},
   "outputs": [
    {
     "data": {
      "image/png": "[encoded data removed]",
      "text/plain": [
       "<Figure size 1296x432 with 2 Axes>"
      ]
     },
     "metadata": {},
     "output_type": "display_data"
    }
   ],
   "source": [
    "fig, ax = plt.subplots(ncols=2, nrows=1, figsize=(18,6))\n",
    "\n",
    "ax[0].plot(history.history['loss'])\n",
    "ax[0].set_title(\"Loss\", fontsize=15);\n",
    "ax[0].set_xlabel(\"epochs\",fontsize=15);\n",
    "\n",
    "ax[1].plot(history.history['acc'])\n",
    "ax[1].set_title(\"Accuracy\",fontsize=15);\n",
    "ax[1].set_xlabel(\"epochs\",fontsize=15);"
   ]
  },
  {
   "cell_type": "code",
   "execution_count": 17,
   "metadata": {},
   "outputs": [],
   "source": [
    "def sample(preds, temperature=1.0):\n",
    "    preds = np.asarray(preds).astype('float64')\n",
    "    preds = np.log(preds) / temperature\n",
    "    exp_preds = np.exp(preds)\n",
    "    preds = exp_preds / np.sum(exp_preds)\n",
    "    probas = np.random.multinomial(1, preds, 1)\n",
    "    return np.argmax(probas)"
   ]
  },
  {
   "cell_type": "code",
   "execution_count": 18,
   "metadata": {},
   "outputs": [],
   "source": [
    "def generate_lyrics(seed, \n",
    "                    seq_len = 4, \n",
    "                    song_len = 50,\n",
    "                    temperature = 1.0,\n",
    "                    model = None,\n",
    "                    tokenizer = None,\n",
    "                    model_dir = None, \n",
    "                    tokenizer_dir = None):\n",
    "    \n",
    "    if model_dir:\n",
    "        model = keras.models.load_model(model_dir)\n",
    "    else:\n",
    "        model = model\n",
    "    \n",
    "    if tokenizer_dir: \n",
    "        with open(tokenizer_dir, 'rb') as f:\n",
    "            tokenizer = pickle.load(f)\n",
    "    else:\n",
    "        tokenizer = tokenizer\n",
    "    \n",
    "    seed_clean = seed.lower().split(' ')\n",
    "    doc = []\n",
    "\n",
    "    while len(doc) < song_len:\n",
    "        text = [seed_clean]\n",
    "        sequence = [tokenizer.texts_to_sequences([word])[0] for word in text]\n",
    "        pad_sequence = pad_sequences(sequence, maxlen=seq_len, truncating='pre')\n",
    "        sequence_reshape = np.reshape(pad_sequence, (1, seq_len))\n",
    "\n",
    "        yhat = model.predict(sequence_reshape, verbose=0)[0]\n",
    "        next_index = sample(yhat, temperature)\n",
    "        \n",
    "        for word, index in tokenizer.word_index.items():\n",
    "            if index == next_index:\n",
    "                seed_clean.append(word)\n",
    "                doc.append(word)\n",
    "\n",
    "    return ' '.join(doc)"
   ]
  },
  {
   "cell_type": "code",
   "execution_count": 19,
   "metadata": {},
   "outputs": [
    {
     "name": "stderr",
     "output_type": "stream",
     "text": [
      "/home/ubuntu/anaconda3/envs/tensorflow_p36/lib/python3.6/site-packages/ipykernel_launcher.py:3: RuntimeWarning: divide by zero encountered in log\n",
      "  This is separate from the ipykernel package so we can avoid doing imports until\n"
     ]
    },
    {
     "name": "stdout",
     "output_type": "stream",
     "text": [
      "\n",
      " and i wanna fall in love over subtweets woowoowoowoooo your lines are gonna feel these plans oh love \n",
      " let me be the one you doesnt be there hello \n",
      " i wish how hard might \n",
      " you to love me now \n",
      " nah break up with it \n",
      " im still in my zone \n",
      " thats why hey \n",
      " throw me clear in captain \n",
      " his prison would can tell me how you feeling followed by a million \n",
      " ooh we goin learn to dance oh oh i got a confession it all your lies \n",
      " ohohoh i really dont care \n",
      " ohohoh i really dont care \n",
      " ohohoh i really dont care \n",
      " even if my promise was a girl she steals taste \n",
      " a better a cage of ground is here \n",
      " the taste the exit of the northern court marriage has stronger has been making through me \n",
      " now are the perfect beautiful the war i look wide nigga let off the road let it in \n",
      " no one else can feel it for you \n",
      " thats that turns through \n",
      " cause baby youre your next \n",
      " youre the girl that my love keeps bleeding simple dreams and youre the trouble ill walk at the edge \n",
      " and life is brought up above crumble where i found \n",
      " and it is make your baby feels like \n",
      " in the morning ill be with you from dusk till dawn \n",
      " ill be with you day and night day\n"
     ]
    }
   ],
   "source": [
    "lyrics = generate_lyrics('always be there love',\n",
    "                         seq_len=4,\n",
    "                         song_len=250,\n",
    "                         model=model,\n",
    "                         tokenizer=tokenizer\n",
    "                        )\n",
    "print(lyrics)"
   ]
  },
  {
   "cell_type": "code",
   "execution_count": 20,
   "metadata": {},
   "outputs": [
    {
     "name": "stderr",
     "output_type": "stream",
     "text": [
      "/home/ubuntu/anaconda3/envs/tensorflow_p36/lib/python3.6/site-packages/ipykernel_launcher.py:3: RuntimeWarning: divide by zero encountered in log\n",
      "  This is separate from the ipykernel package so we can avoid doing imports until\n"
     ]
    },
    {
     "name": "stdout",
     "output_type": "stream",
     "text": [
      "\n",
      " so i could fall into the sky \n",
      " figure miles from hey \n",
      " we loose across that creature \n",
      " i dont know what i would be without you \n",
      " even though we break up in the end \n",
      " youve bet you should i know ill admit you till it smile \n",
      " i know i want it baby \n",
      " this is what this is for \n",
      " boy \n",
      " at her future land time \n",
      " oh baby let me grab your heart \n",
      " its a hunger that pop a average \n",
      " she can still take up a blue miles \n",
      " and then your wife seems to think youre good for your blood is covered wrapped while my hands beating legs \n",
      " saying talking bout a mil back \n",
      " i moonwalk open your fast undone \n",
      " love ours seas got a long way \n",
      " and it in my hand has told me to say that its true \n",
      " god must have spent a little more time a little \n",
      " a little more time on you \n",
      " on my mind constantly \n",
      " in this stains in the room its just a name taller \n",
      " wide little and dont like art to the living then you happy as the years youd be leaving with me and afterwards we ring and rain \n",
      " i need you more \n",
      " how much it could have have been meant \n",
      " lucky rather \n",
      " be here life like of to them against the castle and and sing \n",
      " says\n"
     ]
    }
   ],
   "source": [
    "lyrics = generate_lyrics('always be there love',\n",
    "                         seq_len=4,\n",
    "                         song_len=250,\n",
    "                         model=model,\n",
    "                         tokenizer=tokenizer\n",
    "                        )\n",
    "print(lyrics)"
   ]
  },
  {
   "cell_type": "code",
   "execution_count": 21,
   "metadata": {},
   "outputs": [
    {
     "name": "stderr",
     "output_type": "stream",
     "text": [
      "/home/ubuntu/anaconda3/envs/tensorflow_p36/lib/python3.6/site-packages/ipykernel_launcher.py:3: RuntimeWarning: divide by zero encountered in log\n",
      "  This is separate from the ipykernel package so we can avoid doing imports until\n"
     ]
    },
    {
     "name": "stdout",
     "output_type": "stream",
     "text": [
      "together \n",
      " when all that we wants \n",
      " keeps keep on holding away \n",
      " i know youre trying to heal your eyes \n",
      " would think of all you missed about you here \n",
      " said it just hate to love you anywhere i would to change but your heart can get a melt in my mind \n",
      " it will bring us back to the city in the northern chill \n",
      " a baby being born to the overkill \n",
      " more rough like things \n",
      " but wont stop its all over them were young \n",
      " look titties on playin outta game \n",
      " thirty feeling oclock touchin me \n",
      " yeah \n",
      " cause baby its a prime time for our love \n",
      " aint nobody peekin no less common distance \n",
      " no were start to fool the things \n",
      " of us need to groove theres no wonder \n",
      " i cant keep it together \n",
      " you dont really need to do \n",
      " they will you like this \n",
      " i need a nig i need a nigga from the house we cried upon a sea struck at the night \n",
      " and repeats repeats in it craze \n",
      " woah \n",
      " the pussy started rings upon grow home \n",
      " and down on three night night \n",
      " going on sit on catch free \n",
      " cause i cant resist it no more \n",
      " oh doctor please \n",
      " someone to listen behind \n",
      " when god stays it \n",
      " she should have to stay \n",
      " but you are not alone lone lone \n",
      " why\n"
     ]
    }
   ],
   "source": [
    "lyrics = generate_lyrics('always be there love',\n",
    "                         seq_len=4,\n",
    "                         song_len=250,\n",
    "                         model=model,\n",
    "                         tokenizer=tokenizer\n",
    "                        )\n",
    "print(lyrics)"
   ]
  },
  {
   "cell_type": "code",
   "execution_count": 22,
   "metadata": {},
   "outputs": [
    {
     "name": "stderr",
     "output_type": "stream",
     "text": [
      "/home/ubuntu/anaconda3/envs/tensorflow_p36/lib/python3.6/site-packages/ipykernel_launcher.py:3: RuntimeWarning: divide by zero encountered in log\n",
      "  This is separate from the ipykernel package so we can avoid doing imports until\n"
     ]
    },
    {
     "name": "stdout",
     "output_type": "stream",
     "text": [
      "\n",
      " and i wanna fly with a child \n",
      " dont you lose you girl i \n",
      " oh yeah yeah yeah yeah lately i think of you and i will keep you warm through the shadows of the night \n",
      " dont say okay with crazy whatever you are \n",
      " im the one that locked me in \n",
      " suffocatin and im wondering how ill find every time time \n",
      " i see her face \n",
      " and in my arms \n",
      " for the heavens to know you baby \n",
      " aint comin down to a strangers and no relief \n",
      " my hands may a long one youve been gone weve been the feeding memory can you open a breath ill be there should be dreaming of you right away \n",
      " before two may an ice of a vacancy \n",
      " yeah sayin as a while \n",
      " bitch i might end \n",
      " so we didnt have to pretend that much thing as break up in the end \n",
      " im not lost anymore cause \n",
      " ill only be waiting on my hate every proof \n",
      " look if your hair still calling me what next as long ago \n",
      " oh and now im feeling rough \n",
      " and if they laugh then fuck em all all \n",
      " and then i can get so much free and with this song \n",
      " i love you tonight \n",
      " these bout it relationships life \n",
      " tears for all of for what i could \n",
      " wasnt left your angel done for me \n",
      " being with\n"
     ]
    }
   ],
   "source": [
    "lyrics = generate_lyrics('always be there love',\n",
    "                         seq_len=4,\n",
    "                         song_len=250,\n",
    "                         model=model,\n",
    "                         tokenizer=tokenizer\n",
    "                        )\n",
    "print(lyrics)"
   ]
  },
  {
   "cell_type": "code",
   "execution_count": 24,
   "metadata": {},
   "outputs": [
    {
     "name": "stderr",
     "output_type": "stream",
     "text": [
      "/home/ubuntu/anaconda3/envs/tensorflow_p36/lib/python3.6/site-packages/ipykernel_launcher.py:3: RuntimeWarning: divide by zero encountered in log\n",
      "  This is separate from the ipykernel package so we can avoid doing imports until\n"
     ]
    },
    {
     "name": "stdout",
     "output_type": "stream",
     "text": [
      "\n",
      " so i said im so good yeah \n",
      " oh let me bang it oh let me bang it oh let me bang it out \n",
      " oh let me bang it oh let me bang it out \n",
      " oh let me bang it oh let me bang it out \n",
      " oh let me bang it oh let me laugh inside your heart \n",
      " youre not here with me \n",
      " in the middle of the night \n",
      " dont hate me \n",
      " am i in the way \n",
      " there might be there might be something \n",
      " that something between us makes it worth the pain \n",
      " climb all the mountains in the way \n",
      " there might be there might be something \n",
      " that something between us makes it worth the pain \n",
      " climb all the mountains in the way \n",
      " that a lot other ones come get crazy \n",
      " you always love me but unforgettable \n",
      " for the day of me since \n",
      " i didnt i didnt i did i did i tasted you yeah i eat a bag to make you something \n",
      " that i could use somebody \n",
      " someone like youre my devil \n",
      " and your body ooh you can light me fire through the instant \n",
      " so they are still the first time at night until day today im not up for im drunk records \n",
      " it in need it but \n",
      " im gonna love you like im gonna lose you \n",
      " so im gonna love you now like\n"
     ]
    }
   ],
   "source": [
    "lyrics = generate_lyrics('always be there love',\n",
    "                         seq_len=4,\n",
    "                         song_len=250,\n",
    "                         model=model,\n",
    "                         tokenizer=tokenizer,\n",
    "                         temperature=0.8\n",
    "                        )\n",
    "print(lyrics)"
   ]
  },
  {
   "cell_type": "code",
   "execution_count": null,
   "metadata": {},
   "outputs": [],
   "source": []
  }
 ],
 "metadata": {
  "kernelspec": {
   "display_name": "Python [conda env:tensorflow_p36]",
   "language": "python",
   "name": "conda-env-tensorflow_p36-py"
  },
  "language_info": {
   "codemirror_mode": {
    "name": "ipython",
    "version": 3
   },
   "file_extension": ".py",
   "mimetype": "text/x-python",
   "name": "python",
   "nbconvert_exporter": "python",
   "pygments_lexer": "ipython3",
   "version": "3.6.5"
  }
 },
 "nbformat": 4,
 "nbformat_minor": 2
}
